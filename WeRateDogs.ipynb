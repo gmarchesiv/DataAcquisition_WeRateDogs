{
 "cells": [
  {
   "cell_type": "markdown",
   "metadata": {},
   "source": [
    "# WeRateDogs: Data Acquisition, Cleaning & Analysis\n",
    "\n",
    "by Giancarlo Marchesi"
   ]
  },
  {
   "cell_type": "markdown",
   "metadata": {},
   "source": [
    "This project was part of the Udacity - Data Analyst Nanodegree coursework. The project has two sections: \n",
    "\n",
    "1. Data Acquisition and Cleaning: data is gathered using the Twitter API, cleaned and exported to a csv file.\n",
    "2. Data Analysis: the exported file is read into a df and analyzed to attempt to answer if dog ratings have patterns or are just quirky and fun. "
   ]
  },
  {
   "cell_type": "markdown",
   "metadata": {},
   "source": [
    "## Data Acquisition and Cleaning"
   ]
  },
  {
   "cell_type": "markdown",
   "metadata": {},
   "source": [
    "**Section 1 consists of four subsections:  \n",
    "1.a Gather    \n",
    "1.b Assess  \n",
    "1.c Clean   \n",
    "$\\;\\;$ 1.c.1 Quality  \n",
    "$\\;\\;$ 1.c.2 Tidiness  \n",
    "1.d Export clean CSV file** "
   ]
  },
  {
   "cell_type": "markdown",
   "metadata": {},
   "source": [
    "### Gather   "
   ]
  },
  {
   "cell_type": "markdown",
   "metadata": {},
   "source": [
    "**This subsection will perform three separate tasks:  \n",
    "-Task 1: Import the Enhanced Twitter Archive into a dataframe    \n",
    "-Task 2: Import the image predictions file into a dataframe   \n",
    "-Task 3: Gather data using Twitter API and import into a dataframe**"
   ]
  },
  {
   "cell_type": "markdown",
   "metadata": {},
   "source": [
    "#### Task 1: Import the Enhanced Twitter Archive into a dataframe"
   ]
  },
  {
   "cell_type": "code",
   "execution_count": 397,
   "metadata": {},
   "outputs": [],
   "source": [
    "import pandas as pd\n",
    "import numpy as np"
   ]
  },
  {
   "cell_type": "code",
   "execution_count": 398,
   "metadata": {},
   "outputs": [],
   "source": [
    "archive=pd.read_csv('twitter-archive-enhanced-2.csv')"
   ]
  },
  {
   "cell_type": "code",
   "execution_count": 399,
   "metadata": {},
   "outputs": [
    {
     "data": {
      "text/html": [
       "<div>\n",
       "<style scoped>\n",
       "    .dataframe tbody tr th:only-of-type {\n",
       "        vertical-align: middle;\n",
       "    }\n",
       "\n",
       "    .dataframe tbody tr th {\n",
       "        vertical-align: top;\n",
       "    }\n",
       "\n",
       "    .dataframe thead th {\n",
       "        text-align: right;\n",
       "    }\n",
       "</style>\n",
       "<table border=\"1\" class=\"dataframe\">\n",
       "  <thead>\n",
       "    <tr style=\"text-align: right;\">\n",
       "      <th></th>\n",
       "      <th>tweet_id</th>\n",
       "      <th>in_reply_to_status_id</th>\n",
       "      <th>in_reply_to_user_id</th>\n",
       "      <th>timestamp</th>\n",
       "      <th>source</th>\n",
       "      <th>text</th>\n",
       "      <th>retweeted_status_id</th>\n",
       "      <th>retweeted_status_user_id</th>\n",
       "      <th>retweeted_status_timestamp</th>\n",
       "      <th>expanded_urls</th>\n",
       "      <th>rating_numerator</th>\n",
       "      <th>rating_denominator</th>\n",
       "      <th>name</th>\n",
       "      <th>doggo</th>\n",
       "      <th>floofer</th>\n",
       "      <th>pupper</th>\n",
       "      <th>puppo</th>\n",
       "    </tr>\n",
       "  </thead>\n",
       "  <tbody>\n",
       "    <tr>\n",
       "      <th>0</th>\n",
       "      <td>892420643555336193</td>\n",
       "      <td>NaN</td>\n",
       "      <td>NaN</td>\n",
       "      <td>2017-08-01 16:23:56 +0000</td>\n",
       "      <td>&lt;a href=\"http://twitter.com/download/iphone\" rel=\"nofollow\"&gt;Twitter for iPhone&lt;/a&gt;</td>\n",
       "      <td>This is Phineas. He's a mystical boy. Only ever appears in the hole of a donut. 13/10 https://t.co/MgUWQ76dJU</td>\n",
       "      <td>NaN</td>\n",
       "      <td>NaN</td>\n",
       "      <td>NaN</td>\n",
       "      <td>https://twitter.com/dog_rates/status/892420643555336193/photo/1</td>\n",
       "      <td>13</td>\n",
       "      <td>10</td>\n",
       "      <td>Phineas</td>\n",
       "      <td>None</td>\n",
       "      <td>None</td>\n",
       "      <td>None</td>\n",
       "      <td>None</td>\n",
       "    </tr>\n",
       "  </tbody>\n",
       "</table>\n",
       "</div>"
      ],
      "text/plain": [
       "             tweet_id  in_reply_to_status_id  in_reply_to_user_id  \\\n",
       "0  892420643555336193                    NaN                  NaN   \n",
       "\n",
       "                   timestamp  \\\n",
       "0  2017-08-01 16:23:56 +0000   \n",
       "\n",
       "                                                                               source  \\\n",
       "0  <a href=\"http://twitter.com/download/iphone\" rel=\"nofollow\">Twitter for iPhone</a>   \n",
       "\n",
       "                                                                                                            text  \\\n",
       "0  This is Phineas. He's a mystical boy. Only ever appears in the hole of a donut. 13/10 https://t.co/MgUWQ76dJU   \n",
       "\n",
       "   retweeted_status_id  retweeted_status_user_id retweeted_status_timestamp  \\\n",
       "0                  NaN                       NaN                        NaN   \n",
       "\n",
       "                                                     expanded_urls  \\\n",
       "0  https://twitter.com/dog_rates/status/892420643555336193/photo/1   \n",
       "\n",
       "   rating_numerator  rating_denominator     name doggo floofer pupper puppo  \n",
       "0                13                  10  Phineas  None    None   None  None  "
      ]
     },
     "execution_count": 399,
     "metadata": {},
     "output_type": "execute_result"
    }
   ],
   "source": [
    "archive.head(1)"
   ]
  },
  {
   "cell_type": "markdown",
   "metadata": {},
   "source": [
    "#### Task 2: Import the image predictions fields into a dataframe by downloading programmatically"
   ]
  },
  {
   "cell_type": "code",
   "execution_count": 2,
   "metadata": {},
   "outputs": [],
   "source": [
    "import requests\n",
    "import os"
   ]
  },
  {
   "cell_type": "code",
   "execution_count": 3,
   "metadata": {},
   "outputs": [],
   "source": [
    "folder_name = 'image_predictions'\n",
    "if not os.path.exists(folder_name):\n",
    "    os.makedirs(folder_name)"
   ]
  },
  {
   "cell_type": "code",
   "execution_count": 7,
   "metadata": {},
   "outputs": [
    {
     "data": {
      "text/plain": [
       "<Response [200]>"
      ]
     },
     "execution_count": 7,
     "metadata": {},
     "output_type": "execute_result"
    }
   ],
   "source": [
    "url='https://d17h27t6h515a5.cloudfront.net/topher/2017/August/599fd2ad_image-predictions/image-predictions.tsv'\n",
    "response = requests.get(url)\n",
    "response"
   ]
  },
  {
   "cell_type": "code",
   "execution_count": 8,
   "metadata": {},
   "outputs": [],
   "source": [
    "with open(os.path.join(folder_name, url.split('/')[-1]), mode = 'wb') as file: \n",
    "    file.write(response.content)\n"
   ]
  },
  {
   "cell_type": "code",
   "execution_count": 9,
   "metadata": {},
   "outputs": [
    {
     "data": {
      "text/plain": [
       "['image-predictions.tsv']"
      ]
     },
     "execution_count": 9,
     "metadata": {},
     "output_type": "execute_result"
    }
   ],
   "source": [
    "os.listdir(folder_name)"
   ]
  },
  {
   "cell_type": "code",
   "execution_count": 10,
   "metadata": {},
   "outputs": [
    {
     "data": {
      "text/plain": [
       "'/home/workspace'"
      ]
     },
     "execution_count": 10,
     "metadata": {},
     "output_type": "execute_result"
    }
   ],
   "source": [
    "pwd"
   ]
  },
  {
   "cell_type": "code",
   "execution_count": 400,
   "metadata": {},
   "outputs": [],
   "source": [
    "image = pd.read_csv('/home/workspace/image_predictions/image-predictions.tsv', sep='\\t') "
   ]
  },
  {
   "cell_type": "code",
   "execution_count": 4,
   "metadata": {},
   "outputs": [
    {
     "data": {
      "text/html": [
       "<div>\n",
       "<style scoped>\n",
       "    .dataframe tbody tr th:only-of-type {\n",
       "        vertical-align: middle;\n",
       "    }\n",
       "\n",
       "    .dataframe tbody tr th {\n",
       "        vertical-align: top;\n",
       "    }\n",
       "\n",
       "    .dataframe thead th {\n",
       "        text-align: right;\n",
       "    }\n",
       "</style>\n",
       "<table border=\"1\" class=\"dataframe\">\n",
       "  <thead>\n",
       "    <tr style=\"text-align: right;\">\n",
       "      <th></th>\n",
       "      <th>tweet_id</th>\n",
       "      <th>jpg_url</th>\n",
       "      <th>img_num</th>\n",
       "      <th>p1</th>\n",
       "      <th>p1_conf</th>\n",
       "      <th>p1_dog</th>\n",
       "      <th>p2</th>\n",
       "      <th>p2_conf</th>\n",
       "      <th>p2_dog</th>\n",
       "      <th>p3</th>\n",
       "      <th>p3_conf</th>\n",
       "      <th>p3_dog</th>\n",
       "    </tr>\n",
       "  </thead>\n",
       "  <tbody>\n",
       "    <tr>\n",
       "      <th>0</th>\n",
       "      <td>666020888022790149</td>\n",
       "      <td>https://pbs.twimg.com/media/CT4udn0WwAA0aMy.jpg</td>\n",
       "      <td>1</td>\n",
       "      <td>Welsh_springer_spaniel</td>\n",
       "      <td>0.465074</td>\n",
       "      <td>True</td>\n",
       "      <td>collie</td>\n",
       "      <td>0.156665</td>\n",
       "      <td>True</td>\n",
       "      <td>Shetland_sheepdog</td>\n",
       "      <td>0.061428</td>\n",
       "      <td>True</td>\n",
       "    </tr>\n",
       "  </tbody>\n",
       "</table>\n",
       "</div>"
      ],
      "text/plain": [
       "             tweet_id                                          jpg_url  \\\n",
       "0  666020888022790149  https://pbs.twimg.com/media/CT4udn0WwAA0aMy.jpg   \n",
       "\n",
       "   img_num                      p1   p1_conf  p1_dog      p2   p2_conf  \\\n",
       "0        1  Welsh_springer_spaniel  0.465074    True  collie  0.156665   \n",
       "\n",
       "   p2_dog                 p3   p3_conf  p3_dog  \n",
       "0    True  Shetland_sheepdog  0.061428    True  "
      ]
     },
     "execution_count": 4,
     "metadata": {},
     "output_type": "execute_result"
    }
   ],
   "source": [
    "image.head(1)"
   ]
  },
  {
   "cell_type": "markdown",
   "metadata": {},
   "source": [
    "#### Task 3: Gather data using Twitter API and import into dataframe"
   ]
  },
  {
   "cell_type": "code",
   "execution_count": 16,
   "metadata": {},
   "outputs": [],
   "source": [
    "import tweepy\n",
    "from tweepy import OAuthHandler\n",
    "import json\n",
    "from timeit import default_timer as timer"
   ]
  },
  {
   "cell_type": "code",
   "execution_count": 17,
   "metadata": {},
   "outputs": [],
   "source": [
    "consumer_key = 'XXXXX'\n",
    "consumer_secret = 'XXXX'\n",
    "access_token = 'XXXX'\n",
    "access_secret = 'XXXX'"
   ]
  },
  {
   "cell_type": "code",
   "execution_count": 18,
   "metadata": {},
   "outputs": [
    {
     "data": {
      "text/plain": [
       "2356"
      ]
     },
     "execution_count": 18,
     "metadata": {},
     "output_type": "execute_result"
    }
   ],
   "source": [
    "auth = OAuthHandler(consumer_key, consumer_secret)\n",
    "auth.set_access_token(access_token, access_secret)\n",
    "\n",
    "api = tweepy.API(auth, wait_on_rate_limit=True)\n",
    "\n",
    "tweet_ids = archive.tweet_id.values\n",
    "len(tweet_ids)\n"
   ]
  },
  {
   "cell_type": "code",
   "execution_count": 20,
   "metadata": {},
   "outputs": [
    {
     "name": "stdout",
     "output_type": "stream",
     "text": [
      "1: 892420643555336193\n",
      "Success\n",
      "2: 892177421306343426\n",
      "Success\n",
      "3: 891815181378084864\n",
      "Success\n",
      "4: 891689557279858688\n",
      "Success\n",
      "5: 891327558926688256\n",
      "Success\n",
      "6: 891087950875897856\n",
      "Success\n",
      "7: 890971913173991426\n",
      "Success\n",
      "8: 890729181411237888\n",
      "Success\n",
      "9: 890609185150312448\n",
      "Success\n",
      "10: 890240255349198849\n",
      "Success\n",
      "11: 890006608113172480\n",
      "Success\n",
      "12: 889880896479866881\n",
      "Success\n",
      "13: 889665388333682689\n",
      "Success\n",
      "14: 889638837579907072\n",
      "Success\n",
      "15: 889531135344209921\n",
      "Success\n",
      "16: 889278841981685760\n",
      "Success\n",
      "17: 888917238123831296\n",
      "Success\n",
      "18: 888804989199671297\n",
      "Success\n",
      "19: 888554962724278272\n",
      "Success\n",
      "20: 888202515573088257\n",
      "Fail\n",
      "21: 888078434458587136\n",
      "Success\n",
      "22: 887705289381826560\n",
      "Success\n",
      "23: 887517139158093824\n",
      "Success\n",
      "24: 887473957103951883\n",
      "Success\n",
      "25: 887343217045368832\n",
      "Success\n",
      "26: 887101392804085760\n",
      "Success\n",
      "27: 886983233522544640\n",
      "Success\n",
      "28: 886736880519319552\n",
      "Success\n",
      "29: 886680336477933568\n",
      "Success\n",
      "30: 886366144734445568\n",
      "Success\n",
      "31: 886267009285017600\n",
      "Success\n",
      "32: 886258384151887873\n",
      "Success\n",
      "33: 886054160059072513\n",
      "Success\n",
      "34: 885984800019947520\n",
      "Success\n",
      "35: 885528943205470208\n",
      "Success\n",
      "36: 885518971528720385\n",
      "Success\n",
      "37: 885311592912609280\n",
      "Success\n",
      "38: 885167619883638784\n",
      "Success\n",
      "39: 884925521741709313\n",
      "Success\n",
      "40: 884876753390489601\n",
      "Success\n",
      "41: 884562892145688576\n",
      "Success\n",
      "42: 884441805382717440\n",
      "Success\n",
      "43: 884247878851493888\n",
      "Success\n",
      "44: 884162670584377345\n",
      "Success\n",
      "45: 883838122936631299\n",
      "Success\n",
      "46: 883482846933004288\n",
      "Success\n",
      "47: 883360690899218434\n",
      "Success\n",
      "48: 883117836046086144\n",
      "Success\n",
      "49: 882992080364220416\n",
      "Success\n",
      "50: 882762694511734784\n",
      "Success\n",
      "51: 882627270321602560\n",
      "Success\n",
      "52: 882268110199369728\n",
      "Success\n",
      "53: 882045870035918850\n",
      "Success\n",
      "54: 881906580714921986\n",
      "Success\n",
      "55: 881666595344535552\n",
      "Success\n",
      "56: 881633300179243008\n",
      "Success\n",
      "57: 881536004380872706\n",
      "Success\n",
      "58: 881268444196462592\n",
      "Success\n",
      "59: 880935762899988482\n",
      "Success\n",
      "60: 880872448815771648\n",
      "Success\n",
      "61: 880465832366813184\n",
      "Success\n",
      "62: 880221127280381952\n",
      "Success\n",
      "63: 880095782870896641\n",
      "Success\n",
      "64: 879862464715927552\n",
      "Success\n",
      "65: 879674319642796034\n",
      "Success\n",
      "66: 879492040517615616\n",
      "Success\n",
      "67: 879415818425184262\n",
      "Success\n",
      "68: 879376492567855104\n",
      "Success\n",
      "69: 879130579576475649\n",
      "Success\n",
      "70: 879050749262655488\n",
      "Success\n",
      "71: 879008229531029506\n",
      "Success\n",
      "72: 878776093423087618\n",
      "Success\n",
      "73: 878604707211726852\n",
      "Success\n",
      "74: 878404777348136964\n",
      "Success\n",
      "75: 878316110768087041\n",
      "Success\n",
      "76: 878281511006478336\n",
      "Success\n",
      "77: 878057613040115712\n",
      "Success\n",
      "78: 877736472329191424\n",
      "Success\n",
      "79: 877611172832227328\n",
      "Success\n",
      "80: 877556246731214848\n",
      "Success\n",
      "81: 877316821321428993\n",
      "Success\n",
      "82: 877201837425926144\n",
      "Success\n",
      "83: 876838120628539392\n",
      "Success\n",
      "84: 876537666061221889\n",
      "Success\n",
      "85: 876484053909872640\n",
      "Success\n",
      "86: 876120275196170240\n",
      "Success\n",
      "87: 875747767867523072\n",
      "Success\n",
      "88: 875144289856114688\n",
      "Success\n",
      "89: 875097192612077568\n",
      "Success\n",
      "90: 875021211251597312\n",
      "Success\n",
      "91: 874680097055178752\n",
      "Success\n",
      "92: 874434818259525634\n",
      "Success\n",
      "93: 874296783580663808\n",
      "Success\n",
      "94: 874057562936811520\n",
      "Success\n",
      "95: 874012996292530176\n",
      "Success\n",
      "96: 873697596434513921\n",
      "Fail\n",
      "97: 873580283840344065\n",
      "Success\n",
      "98: 873337748698140672\n",
      "Success\n",
      "99: 873213775632977920\n",
      "Success\n",
      "100: 872967104147763200\n",
      "Success\n",
      "101: 872820683541237760\n",
      "Success\n",
      "102: 872668790621863937\n",
      "Fail\n",
      "103: 872620804844003328\n",
      "Success\n",
      "104: 872486979161796608\n",
      "Success\n",
      "105: 872261713294495745\n",
      "Fail\n",
      "106: 872122724285648897\n",
      "Success\n",
      "107: 871879754684805121\n",
      "Success\n",
      "108: 871762521631449091\n",
      "Success\n",
      "109: 871515927908634625\n",
      "Success\n",
      "110: 871166179821445120\n",
      "Success\n",
      "111: 871102520638267392\n",
      "Success\n",
      "112: 871032628920680449\n",
      "Success\n",
      "113: 870804317367881728\n",
      "Success\n",
      "114: 870726314365509632\n",
      "Success\n",
      "115: 870656317836468226\n",
      "Success\n",
      "116: 870374049280663552\n",
      "Success\n",
      "117: 870308999962521604\n",
      "Success\n",
      "118: 870063196459192321\n",
      "Success\n",
      "119: 869988702071779329\n",
      "Fail\n",
      "120: 869772420881756160\n",
      "Success\n",
      "121: 869702957897576449\n",
      "Success\n",
      "122: 869596645499047938\n",
      "Success\n",
      "123: 869227993411051520\n",
      "Success\n",
      "124: 868880397819494401\n",
      "Success\n",
      "125: 868639477480148993\n",
      "Success\n",
      "126: 868622495443632128\n",
      "Success\n",
      "127: 868552278524837888\n",
      "Success\n",
      "128: 867900495410671616\n",
      "Success\n",
      "129: 867774946302451713\n",
      "Success\n",
      "130: 867421006826221569\n",
      "Success\n",
      "131: 867072653475098625\n",
      "Success\n",
      "132: 867051520902168576\n",
      "Success\n",
      "133: 866816280283807744\n",
      "Fail\n",
      "134: 866720684873056260\n",
      "Success\n",
      "135: 866686824827068416\n",
      "Success\n",
      "136: 866450705531457537\n",
      "Success\n",
      "137: 866334964761202691\n",
      "Success\n",
      "138: 866094527597207552\n",
      "Success\n",
      "139: 865718153858494464\n",
      "Success\n",
      "140: 865359393868664832\n",
      "Success\n",
      "141: 865006731092295680\n",
      "Success\n",
      "142: 864873206498414592\n",
      "Success\n",
      "143: 864279568663928832\n",
      "Success\n",
      "144: 864197398364647424\n",
      "Success\n",
      "145: 863907417377173506\n",
      "Success\n",
      "146: 863553081350529029\n",
      "Success\n",
      "147: 863471782782697472\n",
      "Success\n",
      "148: 863432100342583297\n",
      "Success\n",
      "149: 863427515083354112\n",
      "Success\n",
      "150: 863079547188785154\n",
      "Success\n",
      "151: 863062471531167744\n",
      "Success\n",
      "152: 862831371563274240\n",
      "Success\n",
      "153: 862722525377298433\n",
      "Success\n",
      "154: 862457590147678208\n",
      "Success\n",
      "155: 862096992088072192\n",
      "Success\n",
      "156: 861769973181624320\n",
      "Fail\n",
      "157: 861383897657036800\n",
      "Success\n",
      "158: 861288531465048066\n",
      "Success\n",
      "159: 861005113778896900\n",
      "Success\n",
      "160: 860981674716409858\n",
      "Success\n",
      "161: 860924035999428608\n",
      "Success\n",
      "162: 860563773140209665\n",
      "Success\n",
      "163: 860524505164394496\n",
      "Success\n",
      "164: 860276583193509888\n",
      "Success\n",
      "165: 860184849394610176\n",
      "Success\n",
      "166: 860177593139703809\n",
      "Success\n",
      "167: 859924526012018688\n",
      "Success\n",
      "168: 859851578198683649\n",
      "Success\n",
      "169: 859607811541651456\n",
      "Success\n",
      "170: 859196978902773760\n",
      "Success\n",
      "171: 859074603037188101\n",
      "Success\n",
      "172: 858860390427611136\n",
      "Success\n",
      "173: 858843525470990336\n",
      "Success\n",
      "174: 858471635011153920\n",
      "Success\n",
      "175: 858107933456039936\n",
      "Success\n",
      "176: 857989990357356544\n",
      "Success\n",
      "177: 857746408056729600\n",
      "Success\n",
      "178: 857393404942143489\n",
      "Success\n",
      "179: 857263160327368704\n",
      "Success\n",
      "180: 857214891891077121\n",
      "Success\n",
      "181: 857062103051644929\n",
      "Success\n",
      "182: 857029823797047296\n",
      "Success\n",
      "183: 856602993587888130\n",
      "Fail\n",
      "184: 856543823941562368\n",
      "Success\n",
      "185: 856526610513747968\n",
      "Success\n",
      "186: 856330835276025856\n",
      "Success\n",
      "187: 856288084350160898\n",
      "Success\n",
      "188: 856282028240666624\n",
      "Success\n",
      "189: 855862651834028034\n",
      "Success\n",
      "190: 855860136149123072\n",
      "Success\n",
      "191: 855857698524602368\n",
      "Success\n",
      "192: 855851453814013952\n",
      "Success\n",
      "193: 855818117272018944\n",
      "Success\n",
      "194: 855459453768019968\n",
      "Success\n",
      "195: 855245323840757760\n",
      "Success\n",
      "196: 855138241867124737\n",
      "Success\n",
      "197: 854732716440526848\n",
      "Success\n",
      "198: 854482394044301312\n",
      "Success\n",
      "199: 854365224396361728\n",
      "Success\n",
      "200: 854120357044912130\n",
      "Success\n",
      "201: 854010172552949760\n",
      "Success\n",
      "202: 853760880890318849\n",
      "Success\n",
      "203: 853639147608842240\n",
      "Success\n",
      "204: 853299958564483072\n",
      "Success\n",
      "205: 852936405516943360\n",
      "Success\n",
      "206: 852912242202992640\n",
      "Success\n",
      "207: 852672615818899456\n",
      "Success\n",
      "208: 852553447878664193\n",
      "Success\n",
      "209: 852311364735569921\n",
      "Success\n",
      "210: 852226086759018497\n",
      "Success\n",
      "211: 852189679701164033\n",
      "Success\n",
      "212: 851953902622658560\n",
      "Fail\n",
      "213: 851861385021730816\n",
      "Success\n",
      "214: 851591660324737024\n",
      "Success\n",
      "215: 851464819735769094\n",
      "Success\n",
      "216: 851224888060895234\n",
      "Success\n",
      "217: 850753642995093505\n",
      "Success\n",
      "218: 850380195714523136\n",
      "Success\n",
      "219: 850333567704068097\n",
      "Success\n",
      "220: 850145622816686080\n",
      "Success\n",
      "221: 850019790995546112\n",
      "Success\n",
      "222: 849776966551130114\n",
      "Success\n",
      "223: 849668094696017920\n",
      "Success\n",
      "224: 849412302885593088\n",
      "Success\n",
      "225: 849336543269576704\n",
      "Success\n",
      "226: 849051919805034497\n",
      "Success\n",
      "227: 848690551926992896\n",
      "Success\n",
      "228: 848324959059550208\n",
      "Success\n",
      "229: 848213670039564288\n",
      "Success\n",
      "230: 848212111729840128\n",
      "Success\n",
      "231: 847978865427394560\n",
      "Success\n",
      "232: 847971574464610304\n",
      "Success\n",
      "233: 847962785489326080\n",
      "Success\n",
      "234: 847842811428974592\n",
      "Success\n",
      "235: 847617282490613760\n",
      "Success\n",
      "236: 847606175596138505\n",
      "Success\n",
      "237: 847251039262605312\n",
      "Success\n",
      "238: 847157206088847362\n",
      "Success\n",
      "239: 847116187444137987\n",
      "Success\n",
      "240: 846874817362120707\n",
      "Success\n",
      "241: 846514051647705089\n",
      "Success\n",
      "242: 846505985330044928\n",
      "Success\n",
      "243: 846153765933735936\n",
      "Success\n",
      "244: 846139713627017216\n",
      "Success\n",
      "245: 846042936437604353\n",
      "Success\n",
      "246: 845812042753855489\n",
      "Success\n",
      "247: 845677943972139009\n",
      "Success\n",
      "248: 845459076796616705\n",
      "Fail\n",
      "249: 845397057150107648\n",
      "Success\n",
      "250: 845306882940190720\n",
      "Success\n",
      "251: 845098359547420673\n",
      "Success\n",
      "252: 844979544864018432\n",
      "Success\n",
      "253: 844973813909606400\n",
      "Success\n",
      "254: 844704788403113984\n",
      "Fail\n",
      "255: 844580511645339650\n",
      "Success\n",
      "256: 844223788422217728\n",
      "Success\n",
      "257: 843981021012017153\n",
      "Success\n",
      "258: 843856843873095681\n",
      "Success\n",
      "259: 843604394117681152\n",
      "Success\n",
      "260: 843235543001513987\n",
      "Success\n",
      "261: 842892208864923648\n",
      "Fail\n",
      "262: 842846295480000512\n",
      "Success\n",
      "263: 842765311967449089\n",
      "Success\n",
      "264: 842535590457499648\n",
      "Success\n",
      "265: 842163532590374912\n",
      "Success\n",
      "266: 842115215311396866\n",
      "Success\n",
      "267: 841833993020538882\n",
      "Success\n",
      "268: 841680585030541313\n",
      "Success\n",
      "269: 841439858740625411\n",
      "Success\n",
      "270: 841320156043304961\n",
      "Success\n",
      "271: 841314665196081154\n",
      "Success\n",
      "272: 841077006473256960\n",
      "Success\n",
      "273: 840761248237133825\n",
      "Success\n",
      "274: 840728873075638272\n",
      "Success\n",
      "275: 840698636975636481\n",
      "Success\n",
      "276: 840696689258311684\n",
      "Success\n",
      "277: 840632337062862849\n",
      "Success\n",
      "278: 840370681858686976\n",
      "Success\n",
      "279: 840268004936019968\n",
      "Success\n",
      "280: 839990271299457024\n",
      "Success\n",
      "281: 839549326359670784\n",
      "Success\n",
      "282: 839290600511926273\n",
      "Success\n",
      "283: 839239871831150596\n",
      "Success\n",
      "284: 838952994649550848\n",
      "Success\n",
      "285: 838921590096166913\n",
      "Success\n",
      "286: 838916489579200512\n",
      "Success\n",
      "287: 838831947270979586\n",
      "Success\n",
      "288: 838561493054533637\n",
      "Success\n",
      "289: 838476387338051585\n",
      "Success\n",
      "290: 838201503651401729\n",
      "Success\n",
      "291: 838150277551247360\n",
      "Success\n",
      "292: 838085839343206401\n",
      "Success\n",
      "293: 838083903487373313\n",
      "Success\n",
      "294: 837820167694528512\n",
      "Success\n",
      "295: 837482249356513284\n",
      "Success\n",
      "296: 837471256429613056\n",
      "Success\n",
      "297: 837366284874571778\n",
      "Fail\n",
      "298: 837110210464448512\n",
      "Success\n",
      "299: 837012587749474308\n",
      "Fail\n",
      "300: 836989968035819520\n",
      "Success\n",
      "301: 836753516572119041\n",
      "Success\n",
      "302: 836677758902222849\n",
      "Success\n",
      "303: 836648853927522308\n",
      "Success\n",
      "304: 836397794269200385\n",
      "Success\n",
      "305: 836380477523124226\n",
      "Success\n",
      "306: 836260088725786625\n",
      "Success\n",
      "307: 836001077879255040\n",
      "Success\n",
      "308: 835685285446955009\n",
      "Success\n",
      "309: 835574547218894849\n",
      "Success\n",
      "310: 835536468978302976\n",
      "Success\n",
      "311: 835309094223372289\n",
      "Success\n",
      "312: 835297930240217089\n",
      "Success\n",
      "313: 835264098648616962\n",
      "Success\n",
      "314: 835246439529840640\n",
      "Success\n",
      "315: 835172783151792128\n",
      "Success\n",
      "316: 835152434251116546\n",
      "Success\n",
      "317: 834931633769889797\n",
      "Success\n",
      "318: 834786237630337024\n",
      "Success\n",
      "319: 834574053763584002\n",
      "Success\n",
      "320: 834477809192075265\n",
      "Success\n",
      "321: 834458053273591808\n",
      "Success\n",
      "322: 834209720923721728\n",
      "Success\n",
      "323: 834167344700198914\n",
      "Success\n",
      "324: 834089966724603904\n",
      "Success\n",
      "325: 834086379323871233\n",
      "Success\n",
      "326: 833863086058651648\n",
      "Success\n",
      "327: 833826103416520705\n",
      "Success\n",
      "328: 833732339549220864\n",
      "Success\n",
      "329: 833722901757046785\n",
      "Success\n",
      "330: 833479644947025920\n",
      "Success\n",
      "331: 833124694597443584\n",
      "Success\n",
      "332: 832998151111966721\n",
      "Success\n",
      "333: 832769181346996225\n",
      "Success\n",
      "334: 832757312314028032\n",
      "Success\n",
      "335: 832682457690300417\n",
      "Success\n",
      "336: 832645525019123713\n",
      "Success\n",
      "337: 832636094638288896\n",
      "Success\n",
      "338: 832397543355072512\n",
      "Success\n",
      "339: 832369877331693569\n",
      "Success\n",
      "340: 832273440279240704\n",
      "Success\n",
      "341: 832215909146226688\n",
      "Success\n",
      "342: 832215726631055365\n",
      "Success\n",
      "343: 832088576586297345\n",
      "Success\n",
      "344: 832040443403784192\n",
      "Success\n",
      "345: 832032802820481025\n",
      "Success\n",
      "346: 831939777352105988\n",
      "Success\n",
      "347: 831926988323639298\n",
      "Success\n",
      "348: 831911600680497154\n",
      "Success\n",
      "349: 831670449226514432\n",
      "Success\n",
      "350: 831650051525054464\n",
      "Success\n",
      "351: 831552930092285952\n",
      "Success\n",
      "352: 831322785565769729\n",
      "Success\n",
      "353: 831315979191906304\n",
      "Success\n",
      "354: 831309418084069378\n",
      "Success\n",
      "355: 831262627380748289\n",
      "Success\n",
      "356: 830956169170665475\n",
      "Success\n",
      "357: 830583320585068544\n",
      "Success\n",
      "358: 830173239259324417\n",
      "Success\n",
      "359: 830097400375152640\n",
      "Success\n",
      "360: 829878982036299777\n",
      "Success\n",
      "361: 829861396166877184\n",
      "Success\n",
      "362: 829501995190984704\n",
      "Success\n",
      "363: 829449946868879360\n",
      "Success\n",
      "364: 829374341691346946\n",
      "Fail\n",
      "365: 829141528400556032\n",
      "Success\n",
      "366: 829011960981237760\n",
      "Success\n",
      "367: 828801551087042563\n",
      "Success\n",
      "368: 828770345708580865\n",
      "Success\n",
      "369: 828708714936930305\n",
      "Success\n",
      "370: 828650029636317184\n",
      "Success\n",
      "371: 828409743546925057\n",
      "Success\n",
      "372: 828408677031882754\n",
      "Success\n",
      "373: 828381636999917570\n",
      "Success\n",
      "374: 828376505180889089\n",
      "Success\n",
      "375: 828372645993398273\n",
      "Success\n",
      "376: 828361771580813312\n",
      "Success\n",
      "377: 828046555563323392\n",
      "Success\n",
      "378: 828011680017821696\n",
      "Success\n",
      "379: 827933404142436356\n",
      "Success\n",
      "380: 827653905312006145\n",
      "Success\n",
      "381: 827600520311402496\n",
      "Success\n",
      "382: 827324948884643840\n",
      "Success\n",
      "383: 827228250799742977\n",
      "Fail\n",
      "384: 827199976799354881\n",
      "Success\n",
      "385: 826958653328592898\n",
      "Success\n",
      "386: 826848821049180160\n",
      "Success\n",
      "387: 826615380357632002\n",
      "Success\n",
      "388: 826598799820865537\n",
      "Success\n",
      "389: 826598365270007810\n",
      "Success\n",
      "390: 826476773533745153\n",
      "Success\n",
      "391: 826240494070030336\n",
      "Success\n",
      "392: 826204788643753985\n",
      "Success\n",
      "393: 826115272272650244\n",
      "Success\n",
      "394: 825876512159186944\n",
      "Success\n",
      "395: 825829644528148480\n",
      "Success\n",
      "396: 825535076884762624\n",
      "Success\n",
      "397: 825147591692263424\n",
      "Success\n",
      "398: 825120256414846976\n",
      "Success\n",
      "399: 825026590719483904\n",
      "Success\n",
      "400: 824796380199809024\n",
      "Success\n",
      "401: 824775126675836928\n",
      "Success\n",
      "402: 824663926340194305\n",
      "Success\n",
      "403: 824325613288833024\n",
      "Success\n",
      "404: 824297048279236611\n",
      "Success\n",
      "405: 824025158776213504\n",
      "Success\n",
      "406: 823939628516474880\n",
      "Success\n",
      "407: 823719002937630720\n",
      "Success\n",
      "408: 823699002998870016\n",
      "Success\n",
      "409: 823581115634085888\n",
      "Success\n",
      "410: 823333489516937216\n",
      "Success\n",
      "411: 823322678127919110\n",
      "Success\n",
      "412: 823269594223824897\n",
      "Success\n",
      "413: 822975315408461824\n",
      "Success\n",
      "414: 822872901745569793\n",
      "Success\n",
      "415: 822859134160621569\n",
      "Success\n",
      "416: 822647212903690241\n",
      "Success\n",
      "417: 822610361945911296\n",
      "Success\n",
      "418: 822489057087389700\n",
      "Success\n",
      "419: 822462944365645825\n",
      "Success\n",
      "420: 822244816520155136\n",
      "Success\n",
      "421: 822163064745328640\n",
      "Success\n",
      "422: 821886076407029760\n",
      "Success\n",
      "423: 821813639212650496\n",
      "Success\n",
      "424: 821765923262631936\n",
      "Success\n",
      "425: 821522889702862852\n",
      "Success\n",
      "426: 821421320206483457\n",
      "Success\n",
      "427: 821407182352777218\n",
      "Success\n",
      "428: 821153421864615936\n",
      "Success\n",
      "429: 821149554670182400\n",
      "Success\n",
      "430: 821107785811234820\n",
      "Success\n",
      "431: 821044531881721856\n",
      "Success\n",
      "432: 820837357901512704\n",
      "Success\n",
      "433: 820749716845686786\n",
      "Success\n",
      "434: 820690176645140481\n",
      "Success\n",
      "435: 820494788566847489\n",
      "Success\n",
      "436: 820446719150292993\n",
      "Success\n",
      "437: 820314633777061888\n",
      "Success\n",
      "438: 820078625395449857\n",
      "Success\n",
      "439: 820013781606658049\n",
      "Success\n",
      "440: 819952236453363712\n",
      "Success\n",
      "441: 819924195358416896\n",
      "Success\n",
      "442: 819711362133872643\n",
      "Success\n",
      "443: 819588359383371776\n",
      "Success\n",
      "444: 819347104292290561\n",
      "Success\n",
      "445: 819238181065359361\n",
      "Success\n",
      "446: 819227688460238848\n",
      "Success\n",
      "447: 819015337530290176\n",
      "Success\n",
      "448: 819015331746349057\n",
      "Success\n",
      "449: 819006400881917954\n",
      "Success\n",
      "450: 819004803107983360\n",
      "Success\n",
      "451: 818646164899774465\n",
      "Success\n",
      "452: 818627210458333184\n",
      "Success\n",
      "453: 818614493328580609\n",
      "Success\n",
      "454: 818588835076603904\n",
      "Success\n",
      "455: 818536468981415936\n",
      "Success\n",
      "456: 818307523543449600\n",
      "Success\n",
      "457: 818259473185828864\n",
      "Success\n",
      "458: 818145370475810820\n",
      "Success\n",
      "459: 817908911860748288\n",
      "Success\n",
      "460: 817827839487737858\n",
      "Success\n",
      "461: 817777686764523521\n",
      "Success\n",
      "462: 817536400337801217\n",
      "Success\n",
      "463: 817502432452313088\n",
      "Success\n",
      "464: 817423860136083457\n",
      "Success\n",
      "465: 817415592588222464\n",
      "Success\n",
      "466: 817181837579653120\n",
      "Success\n",
      "467: 817171292965273600\n",
      "Success\n",
      "468: 817120970343411712\n",
      "Success\n",
      "469: 817056546584727552\n",
      "Success\n",
      "470: 816829038950027264\n",
      "Success\n",
      "471: 816816676327063552\n",
      "Success\n",
      "472: 816697700272001025\n",
      "Success\n",
      "473: 816450570814898180\n",
      "Success\n",
      "474: 816336735214911488\n",
      "Success\n",
      "475: 816091915477250048\n",
      "Success\n",
      "476: 816062466425819140\n",
      "Success\n",
      "477: 816014286006976512\n",
      "Success\n",
      "478: 815990720817401858\n",
      "Success\n",
      "479: 815966073409433600\n",
      "Success\n",
      "480: 815745968457060357\n",
      "Success\n",
      "481: 815736392542261248\n",
      "Success\n",
      "482: 815639385530101762\n",
      "Success\n",
      "483: 815390420867969024\n",
      "Success\n",
      "484: 814986499976527872\n",
      "Success\n",
      "485: 814638523311648768\n",
      "Success\n",
      "486: 814578408554463233\n",
      "Success\n",
      "487: 814530161257443328\n",
      "Success\n",
      "488: 814153002265309185\n",
      "Success\n",
      "489: 813944609378369540\n",
      "Success\n",
      "490: 813910438903693312\n",
      "Success\n",
      "491: 813812741911748608\n",
      "Success\n",
      "492: 813800681631023104\n",
      "Success\n",
      "493: 813217897535406080\n",
      "Success\n",
      "494: 813202720496779264\n",
      "Success\n",
      "495: 813187593374461952\n",
      "Success\n",
      "496: 813172488309972993\n",
      "Success\n",
      "497: 813157409116065792\n",
      "Success\n",
      "498: 813142292504645637\n",
      "Success\n",
      "499: 813130366689148928\n",
      "Success\n",
      "500: 813127251579564032\n",
      "Success\n",
      "501: 813112105746448384\n",
      "Success\n",
      "502: 813096984823349248\n",
      "Success\n",
      "503: 813081950185472002\n",
      "Success\n",
      "504: 813066809284972545\n",
      "Success\n",
      "505: 813051746834595840\n",
      "Success\n",
      "506: 812781120811126785\n",
      "Success\n",
      "507: 812747805718642688\n",
      "Fail\n",
      "508: 812709060537683968\n",
      "Success\n",
      "509: 812503143955202048\n",
      "Success\n",
      "510: 812466873996607488\n",
      "Success\n",
      "511: 812372279581671427\n",
      "Success\n",
      "512: 811985624773361665\n",
      "Success\n",
      "513: 811744202451197953\n",
      "Success\n",
      "514: 811647686436880384\n",
      "Success\n",
      "515: 811627233043480576\n",
      "Success\n",
      "516: 811386762094317568\n",
      "Success\n",
      "517: 810984652412424192\n",
      "Success\n",
      "518: 810896069567610880\n",
      "Success\n",
      "519: 810657578271330305\n",
      "Success\n",
      "520: 810284430598270976\n",
      "Success\n",
      "521: 810254108431155201\n",
      "Success\n",
      "522: 809920764300447744\n",
      "Success\n",
      "523: 809808892968534016\n",
      "Success\n",
      "524: 809448704142938112\n",
      "Success\n",
      "525: 809220051211603969\n",
      "Success\n",
      "526: 809084759137812480\n",
      "Success\n",
      "527: 808838249661788160\n",
      "Success\n",
      "528: 808733504066486276\n",
      "Success\n",
      "529: 808501579447930884\n",
      "Success\n",
      "530: 808344865868283904\n",
      "Success\n",
      "531: 808134635716833280\n",
      "Success\n",
      "532: 808106460588765185\n",
      "Success\n",
      "533: 808001312164028416\n",
      "Success\n",
      "534: 807621403335917568\n",
      "Success\n",
      "535: 807106840509214720\n",
      "Success\n",
      "536: 807059379405148160\n",
      "Success\n",
      "537: 807010152071229440\n",
      "Success\n",
      "538: 806629075125202948\n",
      "Success\n",
      "539: 806620845233815552\n",
      "Success\n",
      "540: 806576416489959424\n",
      "Success\n",
      "541: 806542213899489280\n",
      "Success\n",
      "542: 806242860592926720\n",
      "Success\n",
      "543: 806219024703037440\n",
      "Success\n",
      "544: 805958939288408065\n",
      "Success\n",
      "545: 805932879469572096\n",
      "Success\n",
      "546: 805826884734976000\n",
      "Success\n",
      "547: 805823200554876929\n",
      "Success\n",
      "548: 805520635690676224\n",
      "Success\n",
      "549: 805487436403003392\n",
      "Success\n",
      "550: 805207613751304193\n",
      "Success\n",
      "551: 804738756058218496\n",
      "Success\n",
      "552: 804475857670639616\n",
      "Success\n",
      "553: 804413760345620481\n",
      "Success\n",
      "554: 804026241225523202\n",
      "Success\n",
      "555: 803773340896923648\n",
      "Success\n",
      "556: 803692223237865472\n",
      "Success\n",
      "557: 803638050916102144\n",
      "Success\n",
      "558: 803380650405482500\n",
      "Success\n",
      "559: 803321560782307329\n",
      "Success\n",
      "560: 803276597545603072\n",
      "Success\n",
      "561: 802952499103731712\n",
      "Success\n",
      "562: 802624713319034886\n",
      "Success\n",
      "563: 802600418706604034\n",
      "Success\n",
      "564: 802572683846291456\n",
      "Success\n",
      "565: 802323869084381190\n",
      "Success\n",
      "566: 802265048156610565\n",
      "Success\n",
      "567: 802247111496568832\n",
      "Fail\n",
      "568: 802239329049477120\n",
      "Success\n",
      "569: 802185808107208704\n",
      "Success\n",
      "570: 801958328846974976\n",
      "Success\n",
      "571: 801854953262350336\n",
      "Success\n",
      "572: 801538201127157760\n",
      "Success\n",
      "573: 801285448605831168\n",
      "Success\n",
      "574: 801167903437357056\n",
      "Success\n",
      "575: 801127390143516673\n",
      "Success\n",
      "576: 801115127852503040\n",
      "Success\n",
      "577: 800859414831898624\n",
      "Success\n",
      "578: 800855607700029440\n",
      "Success\n",
      "579: 800751577355128832\n",
      "Success\n",
      "580: 800513324630806528\n",
      "Success\n",
      "581: 800459316964663297\n",
      "Success\n",
      "582: 800443802682937345\n",
      "Success\n",
      "583: 800388270626521089\n",
      "Success\n",
      "584: 800188575492947969\n",
      "Success\n",
      "585: 800141422401830912\n",
      "Success\n",
      "586: 800018252395122689\n",
      "Success\n",
      "587: 799774291445383169\n",
      "Success\n",
      "588: 799757965289017345\n",
      "Success\n",
      "589: 799422933579902976\n",
      "Success\n",
      "590: 799308762079035393\n",
      "Success\n",
      "591: 799297110730567681\n",
      "Success\n",
      "592: 799063482566066176\n",
      "Success\n",
      "593: 798933969379225600\n",
      "Success\n",
      "594: 798925684722855936\n",
      "Success\n",
      "595: 798705661114773508\n",
      "Success\n",
      "596: 798701998996647937\n",
      "Success\n",
      "597: 798697898615730177\n",
      "Success\n",
      "598: 798694562394996736\n",
      "Success\n",
      "599: 798686750113755136\n",
      "Success\n",
      "600: 798682547630837760\n",
      "Success\n",
      "601: 798673117451325440\n",
      "Success\n",
      "602: 798665375516884993\n",
      "Success\n",
      "603: 798644042770751489\n",
      "Success\n",
      "604: 798628517273620480\n",
      "Success\n",
      "605: 798585098161549313\n",
      "Success\n",
      "606: 798576900688019456\n",
      "Success\n",
      "607: 798340744599797760\n",
      "Success\n",
      "608: 798209839306514432\n",
      "Success\n",
      "609: 797971864723324932\n",
      "Success\n",
      "610: 797545162159308800\n",
      "Success\n",
      "611: 797236660651966464\n",
      "Success\n",
      "612: 797165961484890113\n",
      "Success\n",
      "613: 796904159865868288\n",
      "Success\n",
      "614: 796865951799083009\n",
      "Success\n",
      "615: 796759840936919040\n",
      "Success\n",
      "616: 796563435802726400\n",
      "Success\n",
      "617: 796484825502875648\n",
      "Success\n",
      "618: 796387464403357696\n",
      "Success\n",
      "619: 796177847564038144\n",
      "Success\n",
      "620: 796149749086875649\n",
      "Success\n",
      "621: 796125600683540480\n",
      "Success\n",
      "622: 796116448414461957\n",
      "Success\n",
      "623: 796080075804475393\n",
      "Success\n",
      "624: 796031486298386433\n",
      "Success\n",
      "625: 795464331001561088\n",
      "Success\n",
      "626: 795400264262053889\n",
      "Success\n",
      "627: 795076730285391872\n",
      "Success\n",
      "628: 794983741416415232\n",
      "Success\n",
      "629: 794926597468000259\n",
      "Success\n",
      "630: 794355576146903043\n",
      "Success\n",
      "631: 794332329137291264\n",
      "Success\n",
      "632: 794205286408003585\n",
      "Success\n",
      "633: 793962221541933056\n",
      "Success\n",
      "634: 793845145112371200\n",
      "Success\n",
      "635: 793614319594401792\n",
      "Success\n",
      "636: 793601777308463104\n",
      "Success\n",
      "637: 793500921481273345\n",
      "Success\n",
      "638: 793286476301799424\n",
      "Success\n",
      "639: 793271401113350145\n",
      "Success\n",
      "640: 793256262322548741\n",
      "Success\n",
      "641: 793241302385262592\n",
      "Success\n",
      "642: 793226087023144960\n",
      "Success\n",
      "643: 793210959003287553\n",
      "Success\n",
      "644: 793195938047070209\n",
      "Success\n",
      "645: 793180763617361921\n",
      "Success\n",
      "646: 793165685325201412\n",
      "Success\n",
      "647: 793150605191548928\n",
      "Success\n",
      "648: 793135492858580992\n",
      "Success\n",
      "649: 793120401413079041\n",
      "Success\n",
      "650: 792913359805018113\n",
      "Success\n",
      "651: 792883833364439040\n",
      "Success\n",
      "652: 792773781206999040\n",
      "Success\n",
      "653: 792394556390137856\n",
      "Success\n",
      "654: 792050063153438720\n",
      "Success\n",
      "655: 791821351946420224\n",
      "Success\n",
      "656: 791784077045166082\n",
      "Success\n",
      "657: 791780927877898241\n",
      "Success\n",
      "658: 791774931465953280\n",
      "Success\n",
      "659: 791672322847637504\n",
      "Success\n",
      "660: 791406955684368384\n",
      "Success\n",
      "661: 791312159183634433\n",
      "Success\n",
      "662: 791026214425268224\n",
      "Success\n",
      "663: 790987426131050500\n",
      "Success\n",
      "664: 790946055508652032\n",
      "Success\n",
      "665: 790723298204217344\n",
      "Success\n",
      "666: 790698755171364864\n",
      "Success\n",
      "667: 790581949425475584\n",
      "Success\n",
      "668: 790337589677002753\n",
      "Success\n",
      "669: 790277117346975746\n",
      "Success\n",
      "670: 790227638568808452\n",
      "Success\n",
      "671: 789986466051088384\n",
      "Success\n",
      "672: 789960241177853952\n",
      "Success\n",
      "673: 789903600034189313\n",
      "Success\n",
      "674: 789628658055020548\n",
      "Success\n",
      "675: 789599242079838210\n",
      "Success\n",
      "676: 789530877013393408\n",
      "Success\n",
      "677: 789314372632018944\n",
      "Success\n",
      "678: 789280767834746880\n",
      "Success\n",
      "679: 789268448748703744\n",
      "Success\n",
      "680: 789137962068021249\n",
      "Success\n",
      "681: 788908386943430656\n",
      "Success\n",
      "682: 788765914992902144\n",
      "Success\n",
      "683: 788552643979468800\n",
      "Success\n",
      "684: 788412144018661376\n",
      "Success\n",
      "685: 788178268662984705\n",
      "Success\n",
      "686: 788150585577050112\n",
      "Success\n",
      "687: 788070120937619456\n",
      "Success\n",
      "688: 788039637453406209\n",
      "Success\n",
      "689: 787810552592695296\n",
      "Success\n",
      "690: 787717603741622272\n",
      "Success\n",
      "691: 787397959788929025\n",
      "Success\n",
      "692: 787322443945877504\n",
      "Success\n",
      "693: 787111942498508800\n",
      "Success\n",
      "694: 786963064373534720\n",
      "Success\n",
      "695: 786729988674449408\n",
      "Success\n",
      "696: 786709082849828864\n",
      "Success\n",
      "697: 786664955043049472\n",
      "Success\n",
      "698: 786595970293370880\n",
      "Success\n",
      "699: 786363235746385920\n",
      "Success\n",
      "700: 786286427768250368\n",
      "Success\n",
      "701: 786233965241827333\n",
      "Success\n",
      "702: 786051337297522688\n",
      "Success\n",
      "703: 786036967502913536\n",
      "Success\n",
      "704: 785927819176054784\n",
      "Success\n",
      "705: 785872687017132033\n",
      "Success\n",
      "706: 785639753186217984\n",
      "Success\n",
      "707: 785533386513321988\n",
      "Success\n",
      "708: 785515384317313025\n",
      "Success\n",
      "709: 785264754247995392\n",
      "Success\n",
      "710: 785170936622350336\n",
      "Success\n",
      "711: 784826020293709826\n",
      "Success\n",
      "712: 784517518371221505\n",
      "Success\n",
      "713: 784431430411685888\n",
      "Success\n",
      "714: 784183165795655680\n",
      "Success\n",
      "715: 784057939640352768\n",
      "Success\n",
      "716: 783839966405230592\n",
      "Success\n",
      "717: 783821107061198850\n",
      "Success\n",
      "718: 783695101801398276\n",
      "Success\n",
      "719: 783466772167098368\n",
      "Success\n",
      "720: 783391753726550016\n",
      "Success\n",
      "721: 783347506784731136\n",
      "Success\n",
      "722: 783334639985389568\n",
      "Success\n",
      "723: 783085703974514689\n",
      "Success\n",
      "724: 782969140009107456\n",
      "Success\n",
      "725: 782747134529531904\n",
      "Success\n",
      "726: 782722598790725632\n",
      "Success\n",
      "727: 782598640137187329\n",
      "Success\n",
      "728: 782305867769217024\n",
      "Success\n",
      "729: 782021823840026624\n",
      "Success\n",
      "730: 781955203444699136\n",
      "Success\n",
      "731: 781661882474196992\n",
      "Success\n",
      "732: 781655249211752448\n",
      "Success\n",
      "733: 781524693396357120\n",
      "Success\n",
      "734: 781308096455073793\n",
      "Success\n",
      "735: 781251288990355457\n",
      "Success\n",
      "736: 781163403222056960\n",
      "Success\n",
      "737: 780931614150983680\n",
      "Success\n",
      "738: 780858289093574656\n",
      "Success\n",
      "739: 780800785462489090\n",
      "Success\n",
      "740: 780601303617732608\n",
      "Success\n",
      "741: 780543529827336192\n",
      "Success\n",
      "742: 780496263422808064\n",
      "Success\n",
      "743: 780476555013349377\n",
      "Success\n",
      "744: 780459368902959104\n",
      "Success\n",
      "745: 780192070812196864\n",
      "Success\n",
      "746: 780092040432480260\n",
      "Success\n",
      "747: 780074436359819264\n",
      "Success\n",
      "748: 779834332596887552\n",
      "Success\n",
      "749: 779377524342161408\n",
      "Success\n",
      "750: 779124354206535695\n",
      "Success\n",
      "751: 779123168116150273\n",
      "Fail\n",
      "752: 779056095788752897\n",
      "Success\n",
      "753: 778990705243029504\n",
      "Success\n",
      "754: 778774459159379968\n",
      "Success\n",
      "755: 778764940568104960\n",
      "Success\n",
      "756: 778748913645780993\n",
      "Success\n",
      "757: 778650543019483137\n",
      "Success\n",
      "758: 778624900596654080\n",
      "Success\n",
      "759: 778408200802557953\n",
      "Success\n",
      "760: 778396591732486144\n",
      "Success\n",
      "761: 778383385161035776\n",
      "Success\n",
      "762: 778286810187399168\n",
      "Success\n",
      "763: 778039087836069888\n",
      "Success\n",
      "764: 778027034220126208\n",
      "Success\n",
      "765: 777953400541634568\n",
      "Success\n",
      "766: 777885040357281792\n",
      "Success\n",
      "767: 777684233540206592\n",
      "Success\n",
      "768: 777641927919427584\n",
      "Success\n",
      "769: 777621514455814149\n",
      "Success\n",
      "770: 777189768882946048\n",
      "Success\n",
      "771: 776819012571455488\n",
      "Success\n",
      "772: 776813020089548800\n",
      "Success\n",
      "773: 776477788987613185\n",
      "Success\n",
      "774: 776249906839351296\n",
      "Success\n",
      "775: 776218204058357768\n",
      "Success\n",
      "776: 776201521193218049\n",
      "Success\n",
      "777: 776113305656188928\n",
      "Success\n",
      "778: 776088319444877312\n",
      "Success\n",
      "779: 775898661951791106\n",
      "Success\n",
      "780: 775842724423557120\n",
      "Success\n",
      "781: 775733305207554048\n",
      "Success\n",
      "782: 775729183532220416\n",
      "Success\n",
      "783: 775364825476165632\n",
      "Success\n",
      "784: 775350846108426240\n",
      "Success\n",
      "785: 775096608509886464\n",
      "Fail\n",
      "786: 775085132600442880\n",
      "Success\n",
      "787: 774757898236878852\n",
      "Success\n",
      "788: 774639387460112384\n",
      "Success\n",
      "789: 774314403806253056\n",
      "Success\n",
      "790: 773985732834758656\n",
      "Success\n",
      "791: 773922284943896577\n",
      "Success\n",
      "792: 773704687002451968\n",
      "Success\n",
      "793: 773670353721753600\n",
      "Success\n",
      "794: 773547596996571136\n",
      "Success\n",
      "795: 773336787167145985\n",
      "Success\n",
      "796: 773308824254029826\n",
      "Success\n",
      "797: 773247561583001600\n",
      "Success\n",
      "798: 773191612633579521\n",
      "Success\n",
      "799: 772877495989305348\n",
      "Success\n",
      "800: 772826264096874500\n",
      "Success\n",
      "801: 772615324260794368\n",
      "Success\n",
      "802: 772581559778025472\n",
      "Success\n",
      "803: 772193107915964416\n",
      "Success\n",
      "804: 772152991789019136\n",
      "Success\n",
      "805: 772117678702071809\n",
      "Success\n",
      "806: 772114945936949249\n",
      "Success\n",
      "807: 772102971039580160\n",
      "Success\n",
      "808: 771908950375665664\n",
      "Success\n",
      "809: 771770456517009408\n",
      "Success\n",
      "810: 771500966810099713\n",
      "Success\n",
      "811: 771380798096281600\n",
      "Success\n",
      "812: 771171053431250945\n",
      "Success\n",
      "813: 771136648247640064\n",
      "Success\n",
      "814: 771102124360998913\n",
      "Success\n",
      "815: 771014301343748096\n",
      "Success\n",
      "816: 771004394259247104\n",
      "Fail\n",
      "817: 770787852854652928\n",
      "Success\n",
      "818: 770772759874076672\n",
      "Success\n",
      "819: 770743923962707968\n",
      "Fail\n",
      "820: 770655142660169732\n",
      "Success\n",
      "821: 770414278348247044\n",
      "Success\n",
      "822: 770293558247038976\n",
      "Success\n",
      "823: 770093767776997377\n",
      "Success\n",
      "824: 770069151037685760\n",
      "Success\n",
      "825: 769940425801170949\n",
      "Success\n",
      "826: 769695466921623552\n",
      "Success\n",
      "827: 769335591808995329\n",
      "Success\n",
      "828: 769212283578875904\n",
      "Success\n",
      "829: 768970937022709760\n",
      "Success\n",
      "830: 768909767477751808\n",
      "Success\n",
      "831: 768855141948723200\n",
      "Success\n",
      "832: 768609597686943744\n",
      "Success\n",
      "833: 768596291618299904\n",
      "Success\n",
      "834: 768554158521745409\n",
      "Success\n",
      "835: 768473857036525572\n",
      "Success\n",
      "836: 768193404517830656\n",
      "Success\n",
      "837: 767884188863397888\n",
      "Success\n",
      "838: 767754930266464257\n",
      "Success\n",
      "839: 767500508068192258\n",
      "Success\n",
      "840: 767191397493538821\n",
      "Success\n",
      "841: 767122157629476866\n",
      "Success\n",
      "842: 766864461642756096\n",
      "Success\n",
      "843: 766793450729734144\n",
      "Success\n",
      "844: 766714921925144576\n",
      "Success\n",
      "845: 766693177336135680\n",
      "Success\n",
      "846: 766423258543644672\n",
      "Success\n",
      "847: 766313316352462849\n",
      "Success\n",
      "848: 766078092750233600\n",
      "Success\n",
      "849: 766069199026450432\n",
      "Success\n",
      "850: 766008592277377025\n",
      "Success\n",
      "851: 765719909049503744\n",
      "Success\n",
      "852: 765669560888528897\n",
      "Success\n",
      "853: 765395769549590528\n",
      "Success\n",
      "854: 765371061932261376\n",
      "Success\n",
      "855: 765222098633691136\n",
      "Success\n",
      "856: 764857477905154048\n",
      "Success\n",
      "857: 764259802650378240\n",
      "Success\n",
      "858: 763956972077010945\n",
      "Success\n",
      "859: 763837565564780549\n",
      "Success\n",
      "860: 763183847194451968\n",
      "Success\n",
      "861: 763167063695355904\n",
      "Success\n",
      "862: 763103485927849985\n",
      "Success\n",
      "863: 762699858130116608\n",
      "Success\n",
      "864: 762471784394268675\n",
      "Success\n",
      "865: 762464539388485633\n",
      "Success\n",
      "866: 762316489655476224\n",
      "Success\n",
      "867: 762035686371364864\n",
      "Success\n",
      "868: 761976711479193600\n",
      "Success\n",
      "869: 761750502866649088\n",
      "Success\n",
      "870: 761745352076779520\n",
      "Success\n",
      "871: 761672994376806400\n",
      "Success\n",
      "872: 761599872357261312\n",
      "Success\n",
      "873: 761371037149827077\n",
      "Success\n",
      "874: 761334018830917632\n",
      "Success\n",
      "875: 761292947749015552\n",
      "Success\n",
      "876: 761227390836215808\n",
      "Success\n",
      "877: 761004547850530816\n",
      "Success\n",
      "878: 760893934457552897\n",
      "Success\n",
      "879: 760656994973933572\n",
      "Success\n",
      "880: 760641137271070720\n",
      "Success\n",
      "881: 760539183865880579\n",
      "Success\n",
      "882: 760521673607086080\n",
      "Success\n",
      "883: 760290219849637889\n",
      "Success\n",
      "884: 760252756032651264\n",
      "Success\n",
      "885: 760190180481531904\n",
      "Success\n",
      "886: 760153949710192640\n",
      "Success\n",
      "887: 759943073749200896\n",
      "Success\n",
      "888: 759923798737051648\n",
      "Success\n",
      "889: 759846353224826880\n",
      "Success\n",
      "890: 759793422261743616\n",
      "Success\n",
      "891: 759566828574212096\n",
      "Fail\n",
      "892: 759557299618865152\n",
      "Success\n",
      "893: 759447681597108224\n",
      "Success\n",
      "894: 759446261539934208\n",
      "Success\n",
      "895: 759197388317847553\n",
      "Success\n",
      "896: 759159934323924993\n",
      "Success\n",
      "897: 759099523532779520\n",
      "Success\n",
      "898: 759047813560868866\n",
      "Success\n",
      "899: 758854675097526272\n",
      "Success\n",
      "900: 758828659922702336\n",
      "Success\n",
      "901: 758740312047005698\n",
      "Success\n",
      "902: 758474966123810816\n",
      "Success\n",
      "903: 758467244762497024\n",
      "Success\n",
      "904: 758405701903519748\n",
      "Success\n",
      "905: 758355060040593408\n",
      "Success\n",
      "906: 758099635764359168\n",
      "Success\n",
      "907: 758041019896193024\n",
      "Success\n",
      "908: 757741869644341248\n",
      "Success\n",
      "909: 757729163776290825\n",
      "Success\n",
      "910: 757725642876129280\n",
      "Success\n",
      "911: 757611664640446465\n",
      "Success\n",
      "912: 757597904299253760\n",
      "Success\n",
      "913: 757596066325864448\n",
      "Success\n",
      "914: 757400162377592832\n",
      "Success\n",
      "915: 757393109802180609\n",
      "Success\n",
      "916: 757354760399941633\n",
      "Success\n",
      "917: 756998049151549440\n",
      "Success\n",
      "918: 756939218950160384\n",
      "Success\n",
      "919: 756651752796094464\n",
      "Success\n",
      "920: 756526248105566208\n",
      "Success\n",
      "921: 756303284449767430\n",
      "Success\n",
      "922: 756288534030475264\n",
      "Success\n",
      "923: 756275833623502848\n",
      "Success\n",
      "924: 755955933503782912\n",
      "Success\n",
      "925: 755206590534418437\n",
      "Success\n",
      "926: 755110668769038337\n",
      "Success\n",
      "927: 754874841593970688\n",
      "Success\n",
      "928: 754856583969079297\n",
      "Success\n",
      "929: 754747087846248448\n",
      "Success\n",
      "930: 754482103782404096\n",
      "Success\n",
      "931: 754449512966619136\n",
      "Success\n",
      "932: 754120377874386944\n",
      "Success\n",
      "933: 754011816964026368\n",
      "Fail\n",
      "934: 753655901052166144\n",
      "Success\n",
      "935: 753420520834629632\n",
      "Success\n",
      "936: 753398408988139520\n",
      "Success\n",
      "937: 753375668877008896\n",
      "Success\n",
      "938: 753298634498793472\n",
      "Success\n",
      "939: 753294487569522689\n",
      "Success\n",
      "940: 753039830821511168\n",
      "Success\n",
      "941: 753026973505581056\n",
      "Success\n",
      "942: 752932432744185856\n",
      "Success\n",
      "943: 752917284578922496\n",
      "Success\n",
      "944: 752701944171524096\n",
      "Success\n",
      "945: 752682090207055872\n",
      "Success\n",
      "946: 752660715232722944\n",
      "Success\n",
      "947: 752568224206688256\n",
      "Success\n",
      "948: 752519690950500352\n",
      "Success\n",
      "949: 752334515931054080\n",
      "Success\n",
      "950: 752309394570878976\n",
      "Success\n",
      "951: 752173152931807232\n",
      "Success\n",
      "952: 751950017322246144\n",
      "Success\n",
      "953: 751937170840121344\n",
      "Success\n",
      "954: 751830394383790080\n",
      "Success\n",
      "955: 751793661361422336\n",
      "Success\n",
      "956: 751598357617971201\n",
      "Success\n",
      "957: 751583847268179968\n",
      "Success\n",
      "958: 751538714308972544\n",
      "Success\n",
      "959: 751456908746354688\n",
      "Success\n",
      "960: 751251247299190784\n",
      "Success\n",
      "961: 751205363882532864\n",
      "Success\n",
      "962: 751132876104687617\n",
      "Success\n",
      "963: 750868782890057730\n",
      "Success\n",
      "964: 750719632563142656\n",
      "Success\n",
      "965: 750506206503038976\n",
      "Success\n",
      "966: 750429297815552001\n",
      "Success\n",
      "967: 750383411068534784\n",
      "Success\n",
      "968: 750381685133418496\n",
      "Success\n",
      "969: 750147208377409536\n",
      "Success\n",
      "970: 750132105863102464\n",
      "Success\n",
      "971: 750117059602808832\n",
      "Success\n",
      "972: 750101899009982464\n",
      "Success\n",
      "973: 750086836815486976\n",
      "Success\n",
      "974: 750071704093859840\n",
      "Success\n",
      "975: 750056684286914561\n",
      "Success\n",
      "976: 750041628174217216\n",
      "Success\n",
      "977: 750026558547456000\n",
      "Success\n",
      "978: 750011400160841729\n",
      "Success\n",
      "979: 749996283729883136\n",
      "Success\n",
      "980: 749981277374128128\n",
      "Success\n",
      "981: 749774190421639168\n",
      "Success\n",
      "982: 749417653287129088\n",
      "Success\n",
      "983: 749403093750648834\n",
      "Success\n",
      "984: 749395845976588288\n",
      "Success\n",
      "985: 749317047558017024\n",
      "Success\n",
      "986: 749075273010798592\n",
      "Success\n",
      "987: 749064354620928000\n",
      "Success\n",
      "988: 749036806121881602\n",
      "Success\n",
      "989: 748977405889503236\n",
      "Success\n",
      "990: 748932637671223296\n",
      "Success\n",
      "991: 748705597323898880\n",
      "Success\n",
      "992: 748699167502000129\n",
      "Success\n",
      "993: 748692773788876800\n",
      "Success\n",
      "994: 748575535303884801\n",
      "Success\n",
      "995: 748568946752774144\n",
      "Success\n",
      "996: 748346686624440324\n",
      "Success\n",
      "997: 748337862848962560\n",
      "Success\n",
      "998: 748324050481647620\n",
      "Success\n",
      "999: 748307329658011649\n",
      "Success\n",
      "1000: 748220828303695873\n",
      "Success\n",
      "1001: 747963614829678593\n",
      "Success\n",
      "1002: 747933425676525569\n",
      "Success\n",
      "1003: 747885874273214464\n",
      "Success\n",
      "1004: 747844099428986880\n",
      "Success\n",
      "1005: 747816857231626240\n",
      "Success\n",
      "1006: 747651430853525504\n",
      "Success\n",
      "1007: 747648653817413632\n",
      "Success\n",
      "1008: 747600769478692864\n",
      "Success\n",
      "1009: 747594051852075008\n",
      "Success\n",
      "1010: 747512671126323200\n",
      "Success\n",
      "1011: 747461612269887489\n",
      "Success\n",
      "1012: 747439450712596480\n",
      "Success\n",
      "1013: 747242308580548608\n",
      "Success\n",
      "1014: 747219827526344708\n",
      "Success\n",
      "1015: 747204161125646336\n",
      "Success\n",
      "1016: 747103485104099331\n",
      "Success\n",
      "1017: 746906459439529985\n",
      "Success\n",
      "1018: 746872823977771008\n",
      "Success\n",
      "1019: 746818907684614144\n",
      "Success\n",
      "1020: 746790600704425984\n",
      "Success\n",
      "1021: 746757706116112384\n",
      "Success\n",
      "1022: 746726898085036033\n",
      "Success\n",
      "1023: 746542875601690625\n",
      "Success\n",
      "1024: 746521445350707200\n",
      "Success\n",
      "1025: 746507379341139972\n",
      "Success\n",
      "1026: 746369468511756288\n",
      "Success\n",
      "1027: 746131877086527488\n",
      "Success\n",
      "1028: 746056683365994496\n",
      "Success\n",
      "1029: 745789745784041472\n",
      "Success\n",
      "1030: 745712589599014916\n",
      "Success\n",
      "1031: 745433870967832576\n",
      "Success\n",
      "1032: 745422732645535745\n",
      "Success\n",
      "1033: 745314880350101504\n",
      "Success\n",
      "1034: 745074613265149952\n",
      "Success\n",
      "1035: 745057283344719872\n",
      "Success\n",
      "1036: 744995568523612160\n",
      "Success\n",
      "1037: 744971049620602880\n",
      "Success\n",
      "1038: 744709971296780288\n",
      "Success\n",
      "1039: 744334592493166593\n",
      "Success\n",
      "1040: 744234799360020481\n",
      "Success\n",
      "1041: 744223424764059648\n",
      "Success\n",
      "1042: 743980027717509120\n",
      "Success\n",
      "1043: 743895849529389061\n",
      "Success\n",
      "1044: 743835915802583040\n",
      "Success\n",
      "1045: 743609206067040256\n",
      "Success\n",
      "1046: 743595368194129920\n",
      "Success\n",
      "1047: 743545585370791937\n",
      "Success\n",
      "1048: 743510151680958465\n",
      "Success\n",
      "1049: 743253157753532416\n",
      "Success\n",
      "1050: 743222593470234624\n",
      "Success\n",
      "1051: 743210557239623680\n",
      "Success\n",
      "1052: 742534281772302336\n",
      "Success\n",
      "1053: 742528092657332225\n",
      "Success\n",
      "1054: 742465774154047488\n",
      "Success\n",
      "1055: 742423170473463808\n",
      "Success\n",
      "1056: 742385895052087300\n",
      "Success\n",
      "1057: 742161199639494656\n",
      "Success\n",
      "1058: 742150209887731712\n",
      "Success\n",
      "1059: 741793263812808706\n",
      "Success\n",
      "1060: 741743634094141440\n",
      "Success\n",
      "1061: 741438259667034112\n",
      "Success\n",
      "1062: 741303864243200000\n",
      "Success\n",
      "1063: 741099773336379392\n",
      "Success\n",
      "1064: 741067306818797568\n",
      "Success\n",
      "1065: 740995100998766593\n",
      "Success\n",
      "1066: 740711788199743490\n",
      "Success\n",
      "1067: 740699697422163968\n",
      "Success\n",
      "1068: 740676976021798912\n",
      "Success\n",
      "1069: 740373189193256964\n",
      "Success\n",
      "1070: 740365076218183684\n",
      "Success\n",
      "1071: 740359016048689152\n",
      "Success\n",
      "1072: 740214038584557568\n",
      "Success\n",
      "1073: 739979191639244800\n",
      "Success\n",
      "1074: 739932936087216128\n",
      "Success\n",
      "1075: 739844404073074688\n",
      "Success\n",
      "1076: 739623569819336705\n",
      "Success\n",
      "1077: 739606147276148736\n",
      "Success\n",
      "1078: 739544079319588864\n",
      "Success\n",
      "1079: 739485634323156992\n",
      "Success\n",
      "1080: 739238157791694849\n",
      "Success\n",
      "1081: 738891149612572673\n",
      "Success\n",
      "1082: 738885046782832640\n",
      "Success\n",
      "1083: 738883359779196928\n",
      "Success\n",
      "1084: 738537504001953792\n",
      "Success\n",
      "1085: 738402415918125056\n",
      "Success\n",
      "1086: 738184450748633089\n",
      "Success\n",
      "1087: 738166403467907072\n",
      "Success\n",
      "1088: 738156290900254721\n",
      "Success\n",
      "1089: 737826014890496000\n",
      "Success\n",
      "1090: 737800304142471168\n",
      "Success\n",
      "1091: 737678689543020544\n",
      "Success\n",
      "1092: 737445876994609152\n",
      "Success\n",
      "1093: 737322739594330112\n",
      "Success\n",
      "1094: 737310737551491075\n",
      "Success\n",
      "1095: 736736130620620800\n",
      "Success\n",
      "1096: 736392552031657984\n",
      "Success\n",
      "1097: 736365877722001409\n",
      "Success\n",
      "1098: 736225175608430592\n",
      "Success\n",
      "1099: 736010884653420544\n",
      "Success\n",
      "1100: 735991953473572864\n",
      "Success\n",
      "1101: 735648611367784448\n",
      "Success\n",
      "1102: 735635087207878657\n",
      "Success\n",
      "1103: 735274964362878976\n",
      "Success\n",
      "1104: 735256018284875776\n",
      "Success\n",
      "1105: 735137028879360001\n",
      "Success\n",
      "1106: 734912297295085568\n",
      "Success\n",
      "1107: 734787690684657664\n",
      "Success\n",
      "1108: 734776360183431168\n",
      "Success\n",
      "1109: 734559631394082816\n",
      "Success\n",
      "1110: 733828123016450049\n",
      "Success\n",
      "1111: 733822306246479872\n",
      "Success\n",
      "1112: 733482008106668032\n",
      "Success\n",
      "1113: 733460102733135873\n",
      "Success\n",
      "1114: 733109485275860992\n",
      "Success\n",
      "1115: 732732193018155009\n",
      "Success\n",
      "1116: 732726085725589504\n",
      "Success\n",
      "1117: 732585889486888962\n",
      "Success\n",
      "1118: 732375214819057664\n",
      "Success\n",
      "1119: 732005617171337216\n",
      "Success\n",
      "1120: 731285275100512256\n",
      "Success\n",
      "1121: 731156023742988288\n",
      "Success\n",
      "1122: 730924654643314689\n",
      "Success\n",
      "1123: 730573383004487680\n",
      "Success\n",
      "1124: 730427201120833536\n",
      "Success\n",
      "1125: 730211855403241472\n",
      "Success\n",
      "1126: 730196704625098752\n",
      "Success\n",
      "1127: 729854734790754305\n",
      "Success\n",
      "1128: 729838605770891264\n",
      "Success\n",
      "1129: 729823566028484608\n",
      "Success\n",
      "1130: 729463711119904772\n",
      "Success\n",
      "1131: 729113531270991872\n",
      "Success\n",
      "1132: 728986383096946689\n",
      "Success\n",
      "1133: 728760639972315136\n",
      "Success\n",
      "1134: 728751179681943552\n",
      "Success\n",
      "1135: 728653952833728512\n",
      "Success\n",
      "1136: 728409960103686147\n",
      "Success\n",
      "1137: 728387165835677696\n",
      "Success\n",
      "1138: 728046963732717569\n",
      "Success\n",
      "1139: 728035342121635841\n",
      "Success\n",
      "1140: 728015554473250816\n",
      "Success\n",
      "1141: 727685679342333952\n",
      "Success\n",
      "1142: 727644517743104000\n",
      "Success\n",
      "1143: 727524757080539137\n",
      "Success\n",
      "1144: 727314416056803329\n",
      "Success\n",
      "1145: 727286334147182592\n",
      "Success\n",
      "1146: 727175381690781696\n",
      "Success\n",
      "1147: 727155742655025152\n",
      "Success\n",
      "1148: 726935089318363137\n",
      "Success\n",
      "1149: 726887082820554753\n",
      "Success\n",
      "1150: 726828223124897792\n",
      "Success\n",
      "1151: 726224900189511680\n",
      "Success\n",
      "1152: 725842289046749185\n",
      "Success\n",
      "1153: 725786712245440512\n",
      "Success\n",
      "1154: 725729321944506368\n",
      "Success\n",
      "1155: 725458796924002305\n",
      "Success\n",
      "1156: 724983749226668032\n",
      "Success\n",
      "1157: 724771698126512129\n",
      "Success\n",
      "1158: 724405726123311104\n",
      "Success\n",
      "1159: 724049859469295616\n",
      "Success\n",
      "1160: 724046343203856385\n",
      "Success\n",
      "1161: 724004602748780546\n",
      "Success\n",
      "1162: 723912936180330496\n",
      "Success\n",
      "1163: 723688335806480385\n",
      "Success\n",
      "1164: 723673163800948736\n",
      "Success\n",
      "1165: 723179728551723008\n",
      "Success\n",
      "1166: 722974582966214656\n",
      "Success\n",
      "1167: 722613351520608256\n",
      "Success\n",
      "1168: 721503162398597120\n",
      "Success\n",
      "1169: 721001180231503872\n",
      "Success\n",
      "1170: 720785406564900865\n",
      "Success\n",
      "1171: 720775346191278080\n",
      "Success\n",
      "1172: 720415127506415616\n",
      "Success\n",
      "1173: 720389942216527872\n",
      "Success\n",
      "1174: 720340705894408192\n",
      "Success\n",
      "1175: 720059472081784833\n",
      "Success\n",
      "1176: 720043174954147842\n",
      "Success\n",
      "1177: 719991154352222208\n",
      "Success\n",
      "1178: 719704490224398336\n",
      "Success\n",
      "1179: 719551379208073216\n",
      "Success\n",
      "1180: 719367763014393856\n",
      "Success\n",
      "1181: 719339463458033665\n",
      "Success\n",
      "1182: 719332531645071360\n",
      "Success\n",
      "1183: 718971898235854848\n",
      "Success\n",
      "1184: 718939241951195136\n",
      "Success\n",
      "1185: 718631497683582976\n",
      "Success\n",
      "1186: 718613305783398402\n",
      "Success\n",
      "1187: 718540630683709445\n",
      "Success\n",
      "1188: 718460005985447936\n",
      "Success\n",
      "1189: 718454725339934721\n",
      "Success\n",
      "1190: 718246886998687744\n",
      "Success\n",
      "1191: 718234618122661888\n",
      "Success\n",
      "1192: 717841801130979328\n",
      "Success\n",
      "1193: 717790033953034240\n",
      "Success\n",
      "1194: 717537687239008257\n",
      "Success\n",
      "1195: 717428917016076293\n",
      "Success\n",
      "1196: 717421804990701568\n",
      "Success\n",
      "1197: 717047459982213120\n",
      "Success\n",
      "1198: 717009362452090881\n",
      "Success\n",
      "1199: 716802964044845056\n",
      "Success\n",
      "1200: 716791146589110272\n",
      "Success\n",
      "1201: 716730379797970944\n",
      "Success\n",
      "1202: 716447146686459905\n",
      "Success\n",
      "1203: 716439118184652801\n",
      "Success\n",
      "1204: 716285507865542656\n",
      "Success\n",
      "1205: 716080869887381504\n",
      "Success\n",
      "1206: 715928423106027520\n",
      "Success\n",
      "1207: 715758151270801409\n",
      "Success\n",
      "1208: 715733265223708672\n",
      "Success\n",
      "1209: 715704790270025728\n",
      "Success\n",
      "1210: 715696743237730304\n",
      "Success\n",
      "1211: 715680795826982913\n",
      "Success\n",
      "1212: 715360349751484417\n",
      "Success\n",
      "1213: 715342466308784130\n",
      "Success\n",
      "1214: 715220193576927233\n",
      "Success\n",
      "1215: 715200624753819648\n",
      "Success\n",
      "1216: 715009755312439296\n",
      "Success\n",
      "1217: 714982300363173890\n",
      "Success\n",
      "1218: 714962719905021952\n",
      "Success\n",
      "1219: 714957620017307648\n",
      "Success\n",
      "1220: 714631576617938945\n",
      "Success\n",
      "1221: 714606013974974464\n",
      "Success\n",
      "1222: 714485234495041536\n",
      "Success\n",
      "1223: 714258258790387713\n",
      "Success\n",
      "1224: 714251586676113411\n",
      "Success\n",
      "1225: 714214115368108032\n",
      "Success\n",
      "1226: 714141408463036416\n",
      "Success\n",
      "1227: 713919462244790272\n",
      "Success\n",
      "1228: 713909862279876608\n",
      "Success\n",
      "1229: 713900603437621249\n",
      "Success\n",
      "1230: 713761197720473600\n",
      "Success\n",
      "1231: 713411074226274305\n",
      "Success\n",
      "1232: 713177543487135744\n",
      "Success\n",
      "1233: 713175907180089344\n",
      "Success\n",
      "1234: 712809025985978368\n",
      "Success\n",
      "1235: 712717840512598017\n",
      "Success\n",
      "1236: 712668654853337088\n",
      "Success\n",
      "1237: 712438159032893441\n",
      "Success\n",
      "1238: 712309440758808576\n",
      "Success\n",
      "1239: 712097430750289920\n",
      "Success\n",
      "1240: 712092745624633345\n",
      "Success\n",
      "1241: 712085617388212225\n",
      "Success\n",
      "1242: 712065007010385924\n",
      "Success\n",
      "1243: 711998809858043904\n",
      "Success\n",
      "1244: 711968124745228288\n",
      "Success\n",
      "1245: 711743778164514816\n",
      "Success\n",
      "1246: 711732680602345472\n",
      "Success\n",
      "1247: 711694788429553666\n",
      "Success\n",
      "1248: 711652651650457602\n",
      "Success\n",
      "1249: 711363825979756544\n",
      "Success\n",
      "1250: 711306686208872448\n",
      "Success\n",
      "1251: 711008018775851008\n",
      "Success\n",
      "1252: 710997087345876993\n",
      "Success\n",
      "1253: 710844581445812225\n",
      "Success\n",
      "1254: 710833117892898816\n",
      "Success\n",
      "1255: 710658690886586372\n",
      "Success\n",
      "1256: 710609963652087808\n",
      "Success\n",
      "1257: 710588934686908417\n",
      "Success\n",
      "1258: 710296729921429505\n",
      "Success\n",
      "1259: 710283270106132480\n",
      "Success\n",
      "1260: 710272297844797440\n",
      "Success\n",
      "1261: 710269109699739648\n",
      "Success\n",
      "1262: 710153181850935296\n",
      "Success\n",
      "1263: 710140971284037632\n",
      "Success\n",
      "1264: 710117014656950272\n",
      "Success\n",
      "1265: 709918798883774466\n",
      "Success\n",
      "1266: 709901256215666688\n",
      "Success\n",
      "1267: 709852847387627521\n",
      "Success\n",
      "1268: 709566166965075968\n",
      "Success\n",
      "1269: 709556954897764353\n",
      "Success\n",
      "1270: 709519240576036864\n",
      "Success\n",
      "1271: 709449600415961088\n",
      "Success\n",
      "1272: 709409458133323776\n",
      "Success\n",
      "1273: 709225125749587968\n",
      "Success\n",
      "1274: 709207347839836162\n",
      "Success\n",
      "1275: 709198395643068416\n",
      "Success\n",
      "1276: 709179584944730112\n",
      "Success\n",
      "1277: 709158332880297985\n",
      "Success\n",
      "1278: 709042156699303936\n",
      "Success\n",
      "1279: 708853462201716736\n",
      "Success\n",
      "1280: 708845821941387268\n",
      "Success\n",
      "1281: 708834316713893888\n",
      "Success\n",
      "1282: 708810915978854401\n",
      "Success\n",
      "1283: 708738143638450176\n",
      "Success\n",
      "1284: 708711088997666817\n",
      "Success\n",
      "1285: 708479650088034305\n",
      "Success\n",
      "1286: 708469915515297792\n",
      "Success\n",
      "1287: 708400866336894977\n",
      "Success\n",
      "1288: 708356463048204288\n",
      "Success\n",
      "1289: 708349470027751425\n",
      "Success\n",
      "1290: 708149363256774660\n",
      "Success\n",
      "1291: 708130923141795840\n",
      "Success\n",
      "1292: 708119489313951744\n",
      "Success\n",
      "1293: 708109389455101952\n",
      "Success\n",
      "1294: 708026248782585858\n",
      "Success\n",
      "1295: 707995814724026368\n",
      "Success\n",
      "1296: 707983188426153984\n",
      "Success\n",
      "1297: 707969809498152960\n",
      "Success\n",
      "1298: 707776935007539200\n",
      "Success\n",
      "1299: 707741517457260545\n",
      "Success\n",
      "1300: 707738799544082433\n",
      "Success\n",
      "1301: 707693576495472641\n",
      "Success\n",
      "1302: 707629649552134146\n",
      "Success\n",
      "1303: 707610948723478529\n",
      "Success\n",
      "1304: 707420581654872064\n",
      "Success\n",
      "1305: 707411934438625280\n",
      "Success\n",
      "1306: 707387676719185920\n",
      "Success\n",
      "1307: 707377100785885184\n",
      "Success\n",
      "1308: 707315916783140866\n",
      "Success\n",
      "1309: 707297311098011648\n",
      "Success\n",
      "1310: 707059547140169728\n",
      "Success\n",
      "1311: 707038192327901184\n",
      "Success\n",
      "1312: 707021089608753152\n",
      "Success\n",
      "1313: 707014260413456384\n",
      "Success\n",
      "1314: 706904523814649856\n",
      "Success\n",
      "1315: 706901761596989440\n",
      "Success\n",
      "1316: 706681918348251136\n",
      "Success\n",
      "1317: 706644897839910912\n",
      "Success\n",
      "1318: 706593038911545345\n",
      "Success\n",
      "1319: 706538006853918722\n",
      "Success\n",
      "1320: 706516534877929472\n",
      "Success\n",
      "1321: 706346369204748288\n",
      "Success\n",
      "1322: 706310011488698368\n",
      "Success\n",
      "1323: 706291001778950144\n",
      "Success\n",
      "1324: 706265994973601792\n",
      "Success\n",
      "1325: 706169069255446529\n",
      "Success\n",
      "1326: 706166467411222528\n",
      "Success\n",
      "1327: 706153300320784384\n",
      "Success\n",
      "1328: 705975130514706432\n",
      "Success\n",
      "1329: 705970349788291072\n",
      "Success\n",
      "1330: 705898680587526145\n",
      "Success\n",
      "1331: 705786532653883392\n",
      "Success\n",
      "1332: 705591895322394625\n",
      "Success\n",
      "1333: 705475953783398401\n",
      "Success\n",
      "1334: 705442520700944385\n",
      "Success\n",
      "1335: 705428427625635840\n",
      "Success\n",
      "1336: 705239209544720384\n",
      "Success\n",
      "1337: 705223444686888960\n",
      "Success\n",
      "1338: 705102439679201280\n",
      "Success\n",
      "1339: 705066031337840642\n",
      "Success\n",
      "1340: 704871453724954624\n",
      "Success\n",
      "1341: 704859558691414016\n",
      "Success\n",
      "1342: 704847917308362754\n",
      "Success\n",
      "1343: 704819833553219584\n",
      "Success\n",
      "1344: 704761120771465216\n",
      "Success\n",
      "1345: 704499785726889984\n",
      "Success\n",
      "1346: 704491224099647488\n",
      "Success\n",
      "1347: 704480331685040129\n",
      "Success\n",
      "1348: 704364645503647744\n",
      "Success\n",
      "1349: 704347321748819968\n",
      "Success\n",
      "1350: 704134088924532736\n",
      "Success\n",
      "1351: 704113298707505153\n",
      "Success\n",
      "1352: 704054845121142784\n",
      "Success\n",
      "1353: 703774238772166656\n",
      "Success\n",
      "1354: 703769065844768768\n",
      "Success\n",
      "1355: 703631701117943808\n",
      "Success\n",
      "1356: 703611486317502464\n",
      "Success\n",
      "1357: 703425003149250560\n",
      "Success\n",
      "1358: 703407252292673536\n",
      "Success\n",
      "1359: 703382836347330562\n",
      "Success\n",
      "1360: 703356393781329922\n",
      "Success\n",
      "1361: 703268521220972544\n",
      "Success\n",
      "1362: 703079050210877440\n",
      "Success\n",
      "1363: 703041949650034688\n",
      "Success\n",
      "1364: 702932127499816960\n",
      "Success\n",
      "1365: 702899151802126337\n",
      "Success\n",
      "1366: 702684942141153280\n",
      "Success\n",
      "1367: 702671118226825216\n",
      "Success\n",
      "1368: 702598099714314240\n",
      "Success\n",
      "1369: 702539513671897089\n",
      "Success\n",
      "1370: 702332542343577600\n",
      "Success\n",
      "1371: 702321140488925184\n",
      "Success\n",
      "1372: 702276748847800320\n",
      "Success\n",
      "1373: 702217446468493312\n",
      "Success\n",
      "1374: 701981390485725185\n",
      "Success\n",
      "1375: 701952816642965504\n",
      "Success\n",
      "1376: 701889187134500865\n",
      "Success\n",
      "1377: 701805642395348998\n",
      "Success\n",
      "1378: 701601587219795968\n",
      "Success\n",
      "1379: 701570477911896070\n",
      "Success\n",
      "1380: 701545186879471618\n",
      "Success\n",
      "1381: 701214700881756160\n",
      "Success\n",
      "1382: 700890391244103680\n",
      "Success\n",
      "1383: 700864154249383937\n",
      "Success\n",
      "1384: 700847567345688576\n",
      "Success\n",
      "1385: 700796979434098688\n",
      "Success\n",
      "1386: 700747788515020802\n",
      "Success\n",
      "1387: 700518061187723268\n",
      "Success\n",
      "1388: 700505138482569216\n",
      "Success\n",
      "1389: 700462010979500032\n",
      "Success\n",
      "1390: 700167517596164096\n",
      "Success\n",
      "1391: 700151421916807169\n",
      "Success\n",
      "1392: 700143752053182464\n",
      "Success\n",
      "1393: 700062718104104960\n",
      "Success\n",
      "1394: 700029284593901568\n",
      "Success\n",
      "1395: 700002074055016451\n",
      "Success\n",
      "1396: 699801817392291840\n",
      "Success\n",
      "1397: 699788877217865730\n",
      "Success\n",
      "1398: 699779630832685056\n",
      "Success\n",
      "1399: 699775878809702401\n",
      "Success\n",
      "1400: 699691744225525762\n",
      "Success\n",
      "1401: 699446877801091073\n",
      "Success\n",
      "1402: 699434518667751424\n",
      "Success\n",
      "1403: 699423671849451520\n",
      "Success\n",
      "1404: 699413908797464576\n",
      "Success\n",
      "1405: 699370870310113280\n",
      "Success\n",
      "1406: 699323444782047232\n",
      "Success\n",
      "1407: 699088579889332224\n",
      "Success\n",
      "1408: 699079609774645248\n",
      "Success\n",
      "1409: 699072405256409088\n",
      "Success\n",
      "1410: 699060279947165696\n",
      "Success\n",
      "1411: 699036661657767936\n",
      "Success\n",
      "1412: 698989035503689728\n",
      "Success\n",
      "1413: 698953797952008193\n",
      "Success\n",
      "1414: 698907974262222848\n",
      "Success\n",
      "1415: 698710712454139905\n",
      "Success\n",
      "1416: 698703483621523456\n",
      "Success\n",
      "1417: 698635131305795584\n",
      "Success\n",
      "1418: 698549713696649216\n",
      "Success\n",
      "1419: 698355670425473025\n",
      "Success\n",
      "1420: 698342080612007937\n",
      "Success\n",
      "1421: 698262614669991936\n",
      "Success\n",
      "1422: 698195409219559425\n",
      "Success\n",
      "1423: 698178924120031232\n",
      "Success\n",
      "1424: 697995514407682048\n",
      "Success\n",
      "1425: 697990423684476929\n",
      "Success\n",
      "1426: 697943111201378304\n",
      "Success\n",
      "1427: 697881462549430272\n",
      "Success\n",
      "1428: 697630435728322560\n",
      "Success\n",
      "1429: 697616773278015490\n",
      "Success\n",
      "1430: 697596423848730625\n",
      "Success\n",
      "1431: 697575480820686848\n",
      "Success\n",
      "1432: 697516214579523584\n",
      "Success\n",
      "1433: 697482927769255936\n",
      "Success\n",
      "1434: 697463031882764288\n",
      "Success\n",
      "1435: 697270446429966336\n",
      "Success\n",
      "1436: 697259378236399616\n",
      "Success\n",
      "1437: 697255105972801536\n",
      "Success\n",
      "1438: 697242256848379904\n",
      "Success\n",
      "1439: 696900204696625153\n",
      "Success\n",
      "1440: 696894894812565505\n",
      "Success\n",
      "1441: 696886256886657024\n",
      "Success\n",
      "1442: 696877980375769088\n",
      "Success\n",
      "1443: 696754882863349760\n",
      "Success\n",
      "1444: 696744641916489729\n",
      "Success\n",
      "1445: 696713835009417216\n",
      "Success\n",
      "1446: 696518437233913856\n",
      "Success\n",
      "1447: 696490539101908992\n",
      "Success\n",
      "1448: 696488710901260288\n",
      "Success\n",
      "1449: 696405997980676096\n",
      "Success\n",
      "1450: 696100768806522880\n",
      "Success\n",
      "1451: 695816827381944320\n",
      "Success\n",
      "1452: 695794761660297217\n",
      "Success\n",
      "1453: 695767669421768709\n",
      "Success\n",
      "1454: 695629776980148225\n",
      "Success\n",
      "1455: 695446424020918272\n",
      "Success\n",
      "1456: 695409464418041856\n",
      "Success\n",
      "1457: 695314793360662529\n",
      "Success\n",
      "1458: 695095422348574720\n",
      "Success\n",
      "1459: 695074328191332352\n",
      "Success\n",
      "1460: 695064344191721472\n",
      "Success\n",
      "1461: 695051054296211456\n",
      "Success\n",
      "1462: 694925794720792577\n",
      "Success\n",
      "1463: 694905863685980160\n",
      "Success\n",
      "1464: 694669722378485760\n",
      "Success\n",
      "1465: 694356675654983680\n",
      "Success\n",
      "1466: 694352839993344000\n",
      "Success\n",
      "1467: 694342028726001664\n",
      "Success\n",
      "1468: 694329668942569472\n",
      "Success\n",
      "1469: 694206574471057408\n",
      "Success\n",
      "1470: 694183373896572928\n",
      "Success\n",
      "1471: 694001791655137281\n",
      "Success\n",
      "1472: 693993230313091072\n",
      "Success\n",
      "1473: 693942351086120961\n",
      "Success\n",
      "1474: 693647888581312512\n",
      "Success\n",
      "1475: 693644216740769793\n",
      "Success\n",
      "1476: 693642232151285760\n",
      "Success\n",
      "1477: 693629975228977152\n",
      "Success\n",
      "1478: 693622659251335168\n",
      "Success\n",
      "1479: 693590843962331137\n",
      "Success\n",
      "1480: 693582294167244802\n",
      "Success\n",
      "1481: 693486665285931008\n",
      "Success\n",
      "1482: 693280720173801472\n",
      "Success\n",
      "1483: 693267061318012928\n",
      "Success\n",
      "1484: 693262851218264065\n",
      "Success\n",
      "1485: 693231807727280129\n",
      "Success\n",
      "1486: 693155686491000832\n",
      "Success\n",
      "1487: 693109034023534592\n",
      "Success\n",
      "1488: 693095443459342336\n",
      "Success\n",
      "1489: 692919143163629568\n",
      "Success\n",
      "1490: 692905862751522816\n",
      "Success\n",
      "1491: 692901601640583168\n",
      "Success\n",
      "1492: 692894228850999298\n",
      "Success\n",
      "1493: 692828166163931137\n",
      "Success\n",
      "1494: 692752401762250755\n",
      "Success\n",
      "1495: 692568918515392513\n",
      "Success\n",
      "1496: 692535307825213440\n",
      "Success\n",
      "1497: 692530551048294401\n",
      "Success\n",
      "1498: 692423280028966913\n",
      "Success\n",
      "1499: 692417313023332352\n",
      "Success\n",
      "1500: 692187005137076224\n",
      "Success\n",
      "1501: 692158366030913536\n",
      "Success\n",
      "1502: 692142790915014657\n",
      "Success\n",
      "1503: 692041934689402880\n",
      "Success\n",
      "1504: 692017291282812928\n",
      "Success\n",
      "1505: 691820333922455552\n",
      "Success\n",
      "1506: 691793053716221953\n",
      "Success\n",
      "1507: 691756958957883396\n",
      "Success\n",
      "1508: 691675652215414786\n",
      "Success\n",
      "1509: 691483041324204033\n",
      "Success\n",
      "1510: 691459709405118465\n",
      "Success\n",
      "1511: 691444869282295808\n",
      "Success\n",
      "1512: 691416866452082688\n",
      "Success\n",
      "1513: 691321916024623104\n",
      "Success\n",
      "1514: 691096613310316544\n",
      "Success\n",
      "1515: 691090071332753408\n",
      "Success\n",
      "1516: 690989312272396288\n",
      "Success\n",
      "1517: 690959652130045952\n",
      "Success\n",
      "1518: 690938899477221376\n",
      "Success\n",
      "1519: 690932576555528194\n",
      "Success\n",
      "1520: 690735892932222976\n",
      "Success\n",
      "1521: 690728923253055490\n",
      "Success\n",
      "1522: 690690673629138944\n",
      "Success\n",
      "1523: 690649993829576704\n",
      "Success\n",
      "1524: 690607260360429569\n",
      "Success\n",
      "1525: 690597161306841088\n",
      "Success\n",
      "1526: 690400367696297985\n",
      "Success\n",
      "1527: 690374419777196032\n",
      "Success\n",
      "1528: 690360449368465409\n",
      "Success\n",
      "1529: 690348396616552449\n",
      "Success\n",
      "1530: 690248561355657216\n",
      "Success\n",
      "1531: 690021994562220032\n",
      "Success\n",
      "1532: 690015576308211712\n",
      "Success\n",
      "1533: 690005060500217858\n",
      "Success\n",
      "1534: 689999384604450816\n",
      "Success\n",
      "1535: 689993469801164801\n",
      "Success\n",
      "1536: 689977555533848577\n",
      "Success\n",
      "1537: 689905486972461056\n",
      "Success\n",
      "1538: 689877686181715968\n",
      "Success\n",
      "1539: 689835978131935233\n",
      "Success\n",
      "1540: 689661964914655233\n",
      "Success\n",
      "1541: 689659372465688576\n",
      "Success\n",
      "1542: 689623661272240129\n",
      "Success\n",
      "1543: 689599056876867584\n",
      "Success\n",
      "1544: 689557536375177216\n",
      "Success\n",
      "1545: 689517482558820352\n",
      "Success\n",
      "1546: 689289219123089408\n",
      "Success\n",
      "1547: 689283819090870273\n",
      "Success\n",
      "1548: 689280876073582592\n",
      "Success\n",
      "1549: 689275259254616065\n",
      "Success\n",
      "1550: 689255633275777024\n",
      "Success\n",
      "1551: 689154315265683456\n",
      "Success\n",
      "1552: 689143371370250240\n",
      "Success\n",
      "1553: 688916208532455424\n",
      "Success\n",
      "1554: 688908934925697024\n",
      "Success\n",
      "1555: 688898160958271489\n",
      "Success\n",
      "1556: 688894073864884227\n",
      "Success\n",
      "1557: 688828561667567616\n",
      "Success\n",
      "1558: 688804835492233216\n",
      "Success\n",
      "1559: 688789766343622656\n",
      "Success\n",
      "1560: 688547210804498433\n",
      "Success\n",
      "1561: 688519176466644993\n",
      "Success\n",
      "1562: 688385280030670848\n",
      "Success\n",
      "1563: 688211956440801280\n",
      "Success\n",
      "1564: 688179443353796608\n",
      "Success\n",
      "1565: 688116655151435777\n",
      "Success\n",
      "1566: 688064179421470721\n",
      "Success\n",
      "1567: 687841446767013888\n",
      "Success\n",
      "1568: 687826841265172480\n",
      "Success\n",
      "1569: 687818504314159109\n",
      "Success\n",
      "1570: 687807801670897665\n",
      "Success\n",
      "1571: 687732144991551489\n",
      "Success\n",
      "1572: 687704180304273409\n",
      "Success\n",
      "1573: 687664829264453632\n",
      "Success\n",
      "1574: 687494652870668288\n",
      "Success\n",
      "1575: 687480748861947905\n",
      "Success\n",
      "1576: 687476254459715584\n",
      "Success\n",
      "1577: 687460506001633280\n",
      "Success\n",
      "1578: 687399393394311168\n",
      "Success\n",
      "1579: 687317306314240000\n",
      "Success\n",
      "1580: 687312378585812992\n",
      "Success\n",
      "1581: 687127927494963200\n",
      "Success\n",
      "1582: 687124485711986689\n",
      "Success\n",
      "1583: 687109925361856513\n",
      "Success\n",
      "1584: 687102708889812993\n",
      "Success\n",
      "1585: 687096057537363968\n",
      "Success\n",
      "1586: 686947101016735744\n",
      "Success\n",
      "1587: 686760001961103360\n",
      "Success\n",
      "1588: 686749460672679938\n",
      "Success\n",
      "1589: 686730991906516992\n",
      "Success\n",
      "1590: 686683045143953408\n",
      "Success\n",
      "1591: 686618349602762752\n",
      "Success\n",
      "1592: 686606069955735556\n",
      "Success\n",
      "1593: 686394059078897668\n",
      "Success\n",
      "1594: 686386521809772549\n",
      "Success\n",
      "1595: 686377065986265092\n",
      "Success\n",
      "1596: 686358356425093120\n",
      "Success\n",
      "1597: 686286779679375361\n",
      "Success\n",
      "1598: 686050296934563840\n",
      "Success\n",
      "1599: 686035780142297088\n",
      "Success\n",
      "1600: 686034024800862208\n",
      "Success\n",
      "1601: 686007916130873345\n",
      "Success\n",
      "1602: 686003207160610816\n",
      "Success\n",
      "1603: 685973236358713344\n",
      "Success\n",
      "1604: 685943807276412928\n",
      "Success\n",
      "1605: 685906723014619143\n",
      "Success\n",
      "1606: 685681090388975616\n",
      "Success\n",
      "1607: 685667379192414208\n",
      "Success\n",
      "1608: 685663452032069632\n",
      "Success\n",
      "1609: 685641971164143616\n",
      "Success\n",
      "1610: 685547936038666240\n",
      "Success\n",
      "1611: 685532292383666176\n",
      "Success\n",
      "1612: 685325112850124800\n",
      "Success\n",
      "1613: 685321586178670592\n",
      "Success\n",
      "1614: 685315239903100929\n",
      "Success\n",
      "1615: 685307451701334016\n",
      "Success\n",
      "1616: 685268753634967552\n",
      "Success\n",
      "1617: 685198997565345792\n",
      "Success\n",
      "1618: 685169283572338688\n",
      "Success\n",
      "1619: 684969860808454144\n",
      "Success\n",
      "1620: 684959798585110529\n",
      "Success\n",
      "1621: 684940049151070208\n",
      "Success\n",
      "1622: 684926975086034944\n",
      "Success\n",
      "1623: 684914660081053696\n",
      "Success\n",
      "1624: 684902183876321280\n",
      "Success\n",
      "1625: 684880619965411328\n",
      "Success\n",
      "1626: 684830982659280897\n",
      "Success\n",
      "1627: 684800227459624960\n",
      "Success\n",
      "1628: 684594889858887680\n",
      "Success\n",
      "1629: 684588130326986752\n",
      "Success\n",
      "1630: 684567543613382656\n",
      "Success\n",
      "1631: 684538444857667585\n",
      "Success\n",
      "1632: 684481074559381504\n",
      "Success\n",
      "1633: 684460069371654144\n",
      "Success\n",
      "1634: 684241637099323392\n",
      "Success\n",
      "1635: 684225744407494656\n",
      "Success\n",
      "1636: 684222868335505415\n",
      "Success\n",
      "1637: 684200372118904832\n",
      "Success\n",
      "1638: 684195085588783105\n",
      "Success\n",
      "1639: 684188786104872960\n",
      "Success\n",
      "1640: 684177701129875456\n",
      "Success\n",
      "1641: 684147889187209216\n",
      "Success\n",
      "1642: 684122891630342144\n",
      "Success\n",
      "1643: 684097758874210310\n",
      "Success\n",
      "1644: 683857920510050305\n",
      "Success\n",
      "1645: 683852578183077888\n",
      "Success\n",
      "1646: 683849932751646720\n",
      "Success\n",
      "1647: 683834909291606017\n",
      "Success\n",
      "1648: 683828599284170753\n",
      "Success\n",
      "1649: 683773439333797890\n",
      "Success\n",
      "1650: 683742671509258241\n",
      "Success\n",
      "1651: 683515932363329536\n",
      "Success\n",
      "1652: 683498322573824003\n",
      "Success\n",
      "1653: 683481228088049664\n",
      "Success\n",
      "1654: 683462770029932544\n",
      "Success\n",
      "1655: 683449695444799489\n",
      "Success\n",
      "1656: 683391852557561860\n",
      "Success\n",
      "1657: 683357973142474752\n",
      "Success\n",
      "1658: 683142553609318400\n",
      "Success\n",
      "1659: 683111407806746624\n",
      "Success\n",
      "1660: 683098815881154561\n",
      "Success\n",
      "1661: 683078886620553216\n",
      "Success\n",
      "1662: 683030066213818368\n",
      "Success\n",
      "1663: 682962037429899265\n",
      "Success\n",
      "1664: 682808988178739200\n",
      "Success\n",
      "1665: 682788441537560576\n",
      "Success\n",
      "1666: 682750546109968385\n",
      "Success\n",
      "1667: 682697186228989953\n",
      "Success\n",
      "1668: 682662431982772225\n",
      "Success\n",
      "1669: 682638830361513985\n",
      "Success\n",
      "1670: 682429480204398592\n",
      "Success\n",
      "1671: 682406705142087680\n",
      "Success\n",
      "1672: 682393905736888321\n",
      "Success\n",
      "1673: 682389078323662849\n",
      "Success\n",
      "1674: 682303737705140231\n",
      "Success\n",
      "1675: 682259524040966145\n",
      "Success\n",
      "1676: 682242692827447297\n",
      "Success\n",
      "1677: 682088079302213632\n",
      "Success\n",
      "1678: 682059653698686977\n",
      "Success\n",
      "1679: 682047327939461121\n",
      "Success\n",
      "1680: 682032003584274432\n",
      "Success\n",
      "1681: 682003177596559360\n",
      "Success\n",
      "1682: 681981167097122816\n",
      "Success\n",
      "1683: 681891461017812993\n",
      "Success\n",
      "1684: 681694085539872773\n",
      "Success\n",
      "1685: 681679526984871937\n",
      "Success\n",
      "1686: 681654059175129088\n",
      "Success\n",
      "1687: 681610798867845120\n",
      "Success\n",
      "1688: 681579835668455424\n",
      "Success\n",
      "1689: 681523177663676416\n",
      "Success\n",
      "1690: 681340665377193984\n",
      "Success\n",
      "1691: 681339448655802368\n",
      "Success\n",
      "1692: 681320187870711809\n",
      "Success\n",
      "1693: 681302363064414209\n",
      "Success\n",
      "1694: 681297372102656000\n",
      "Success\n",
      "1695: 681281657291280384\n",
      "Success\n",
      "1696: 681261549936340994\n",
      "Success\n",
      "1697: 681242418453299201\n",
      "Success\n",
      "1698: 681231109724700672\n",
      "Success\n",
      "1699: 681193455364796417\n",
      "Success\n",
      "1700: 680970795137544192\n",
      "Success\n",
      "1701: 680959110691590145\n",
      "Success\n",
      "1702: 680940246314430465\n",
      "Success\n",
      "1703: 680934982542561280\n",
      "Success\n",
      "1704: 680913438424612864\n",
      "Success\n",
      "1705: 680889648562991104\n",
      "Success\n",
      "1706: 680836378243002368\n",
      "Success\n",
      "1707: 680805554198020098\n",
      "Success\n",
      "1708: 680801747103793152\n",
      "Success\n",
      "1709: 680798457301471234\n",
      "Success\n",
      "1710: 680609293079592961\n",
      "Success\n",
      "1711: 680583894916304897\n",
      "Success\n",
      "1712: 680497766108381184\n",
      "Success\n",
      "1713: 680494726643068929\n",
      "Success\n",
      "1714: 680473011644985345\n",
      "Success\n",
      "1715: 680440374763077632\n",
      "Success\n",
      "1716: 680221482581123072\n",
      "Success\n",
      "1717: 680206703334408192\n",
      "Success\n",
      "1718: 680191257256136705\n",
      "Success\n",
      "1719: 680176173301628928\n",
      "Success\n",
      "1720: 680161097740095489\n",
      "Success\n",
      "1721: 680145970311643136\n",
      "Success\n",
      "1722: 680130881361686529\n",
      "Success\n",
      "1723: 680115823365742593\n",
      "Success\n",
      "1724: 680100725817409536\n",
      "Success\n",
      "1725: 680085611152338944\n",
      "Success\n",
      "1726: 680070545539371008\n",
      "Success\n",
      "1727: 680055455951884288\n",
      "Fail\n",
      "1728: 679877062409191424\n",
      "Success\n",
      "1729: 679872969355714560\n",
      "Success\n",
      "1730: 679862121895714818\n",
      "Success\n",
      "1731: 679854723806179328\n",
      "Success\n",
      "1732: 679844490799091713\n",
      "Success\n",
      "1733: 679828447187857408\n",
      "Success\n",
      "1734: 679777920601223168\n",
      "Success\n",
      "1735: 679736210798047232\n",
      "Success\n",
      "1736: 679729593985699840\n",
      "Success\n",
      "1737: 679722016581222400\n",
      "Success\n",
      "1738: 679530280114372609\n",
      "Success\n",
      "1739: 679527802031484928\n",
      "Success\n",
      "1740: 679511351870550016\n",
      "Success\n",
      "1741: 679503373272485890\n",
      "Success\n",
      "1742: 679475951516934144\n",
      "Success\n",
      "1743: 679462823135686656\n",
      "Success\n",
      "1744: 679405845277462528\n",
      "Success\n",
      "1745: 679158373988876288\n",
      "Success\n",
      "1746: 679148763231985668\n",
      "Success\n",
      "1747: 679132435750195208\n",
      "Success\n",
      "1748: 679111216690831360\n",
      "Success\n",
      "1749: 679062614270468097\n",
      "Success\n",
      "1750: 679047485189439488\n",
      "Success\n",
      "1751: 679001094530465792\n",
      "Success\n",
      "1752: 678991772295516161\n",
      "Success\n",
      "1753: 678969228704284672\n",
      "Success\n",
      "1754: 678800283649069056\n",
      "Success\n",
      "1755: 678798276842360832\n",
      "Success\n",
      "1756: 678774928607469569\n",
      "Success\n",
      "1757: 678767140346941444\n",
      "Success\n",
      "1758: 678764513869611008\n",
      "Success\n",
      "1759: 678755239630127104\n",
      "Success\n",
      "1760: 678740035362037760\n",
      "Success\n",
      "1761: 678708137298427904\n",
      "Success\n",
      "1762: 678675843183484930\n",
      "Success\n",
      "1763: 678643457146150913\n",
      "Success\n",
      "1764: 678446151570427904\n",
      "Success\n",
      "1765: 678424312106393600\n",
      "Success\n",
      "1766: 678410210315247616\n",
      "Success\n",
      "1767: 678399652199309312\n",
      "Success\n",
      "1768: 678396796259975168\n",
      "Success\n",
      "1769: 678389028614488064\n",
      "Success\n",
      "1770: 678380236862578688\n",
      "Success\n",
      "1771: 678341075375947776\n",
      "Success\n",
      "1772: 678334497360859136\n",
      "Success\n",
      "1773: 678278586130948096\n",
      "Success\n",
      "1774: 678255464182861824\n",
      "Success\n",
      "1775: 678023323247357953\n",
      "Success\n",
      "1776: 678021115718029313\n",
      "Success\n",
      "1777: 677961670166224897\n",
      "Success\n",
      "1778: 677918531514703872\n",
      "Success\n",
      "1779: 677895101218201600\n",
      "Success\n",
      "1780: 677716515794329600\n",
      "Success\n",
      "1781: 677700003327029250\n",
      "Success\n",
      "1782: 677698403548192770\n",
      "Success\n",
      "1783: 677687604918272002\n",
      "Success\n",
      "1784: 677673981332312066\n",
      "Success\n",
      "1785: 677662372920729601\n",
      "Success\n",
      "1786: 677644091929329666\n",
      "Success\n",
      "1787: 677573743309385728\n",
      "Success\n",
      "1788: 677565715327688705\n",
      "Success\n",
      "1789: 677557565589463040\n",
      "Success\n",
      "1790: 677547928504967168\n",
      "Success\n",
      "1791: 677530072887205888\n",
      "Success\n",
      "1792: 677335745548390400\n",
      "Success\n",
      "1793: 677334615166730240\n",
      "Success\n",
      "1794: 677331501395156992\n",
      "Success\n",
      "1795: 677328882937298944\n",
      "Success\n",
      "1796: 677314812125323265\n",
      "Success\n",
      "1797: 677301033169788928\n",
      "Success\n",
      "1798: 677269281705472000\n",
      "Success\n",
      "1799: 677228873407442944\n",
      "Success\n",
      "1800: 677187300187611136\n",
      "Success\n",
      "1801: 676975532580409345\n",
      "Success\n",
      "1802: 676957860086095872\n",
      "Success\n",
      "1803: 676949632774234114\n",
      "Success\n",
      "1804: 676948236477857792\n",
      "Success\n",
      "1805: 676946864479084545\n",
      "Success\n",
      "1806: 676942428000112642\n",
      "Success\n",
      "1807: 676936541936185344\n",
      "Success\n",
      "1808: 676916996760600576\n",
      "Success\n",
      "1809: 676897532954456065\n",
      "Success\n",
      "1810: 676864501615042560\n",
      "Success\n",
      "1811: 676821958043033607\n",
      "Success\n",
      "1812: 676819651066732545\n",
      "Success\n",
      "1813: 676811746707918848\n",
      "Success\n",
      "1814: 676776431406465024\n",
      "Success\n",
      "1815: 676617503762681856\n",
      "Success\n",
      "1816: 676613908052996102\n",
      "Success\n",
      "1817: 676606785097199616\n",
      "Success\n",
      "1818: 676603393314578432\n",
      "Success\n",
      "1819: 676593408224403456\n",
      "Success\n",
      "1820: 676590572941893632\n",
      "Success\n",
      "1821: 676588346097852417\n",
      "Success\n",
      "1822: 676582956622721024\n",
      "Success\n",
      "1823: 676575501977128964\n",
      "Success\n",
      "1824: 676533798876651520\n",
      "Success\n",
      "1825: 676496375194980353\n",
      "Success\n",
      "1826: 676470639084101634\n",
      "Success\n",
      "1827: 676440007570247681\n",
      "Success\n",
      "1828: 676430933382295552\n",
      "Success\n",
      "1829: 676263575653122048\n",
      "Success\n",
      "1830: 676237365392908289\n",
      "Success\n",
      "1831: 676219687039057920\n",
      "Success\n",
      "1832: 676215927814406144\n",
      "Success\n",
      "1833: 676191832485810177\n",
      "Success\n",
      "1834: 676146341966438401\n",
      "Success\n",
      "1835: 676121918416756736\n",
      "Success\n",
      "1836: 676101918813499392\n",
      "Success\n",
      "1837: 676098748976615425\n",
      "Success\n",
      "1838: 676089483918516224\n",
      "Success\n",
      "1839: 675898130735476737\n",
      "Success\n",
      "1840: 675891555769696257\n",
      "Success\n",
      "1841: 675888385639251968\n",
      "Success\n",
      "1842: 675878199931371520\n",
      "Success\n",
      "1843: 675870721063669760\n",
      "Success\n",
      "1844: 675853064436391936\n",
      "Success\n",
      "1845: 675849018447167488\n",
      "Success\n",
      "1846: 675845657354215424\n",
      "Success\n",
      "1847: 675822767435051008\n",
      "Success\n",
      "1848: 675820929667219457\n",
      "Success\n",
      "1849: 675798442703122432\n",
      "Success\n",
      "1850: 675781562965868544\n",
      "Success\n",
      "1851: 675740360753160193\n",
      "Success\n",
      "1852: 675710890956750848\n",
      "Success\n",
      "1853: 675707330206547968\n",
      "Success\n",
      "1854: 675706639471788032\n",
      "Success\n",
      "1855: 675534494439489536\n",
      "Success\n",
      "1856: 675531475945709568\n",
      "Success\n",
      "1857: 675522403582218240\n",
      "Success\n",
      "1858: 675517828909424640\n",
      "Success\n",
      "1859: 675501075957489664\n",
      "Success\n",
      "1860: 675497103322386432\n",
      "Success\n",
      "1861: 675489971617296384\n",
      "Success\n",
      "1862: 675483430902214656\n",
      "Success\n",
      "1863: 675432746517426176\n",
      "Success\n",
      "1864: 675372240448454658\n",
      "Success\n",
      "1865: 675362609739206656\n",
      "Success\n",
      "1866: 675354435921575936\n",
      "Success\n",
      "1867: 675349384339542016\n",
      "Success\n",
      "1868: 675334060156301312\n",
      "Success\n",
      "1869: 675166823650848770\n",
      "Success\n",
      "1870: 675153376133427200\n",
      "Success\n",
      "1871: 675149409102012420\n",
      "Success\n",
      "1872: 675147105808306176\n",
      "Success\n",
      "1873: 675146535592706048\n",
      "Success\n",
      "1874: 675145476954566656\n",
      "Success\n",
      "1875: 675135153782571009\n",
      "Success\n",
      "1876: 675113801096802304\n",
      "Success\n",
      "1877: 675111688094527488\n",
      "Success\n",
      "1878: 675109292475830276\n",
      "Success\n",
      "1879: 675047298674663426\n",
      "Success\n",
      "1880: 675015141583413248\n",
      "Success\n",
      "1881: 675006312288268288\n",
      "Success\n",
      "1882: 675003128568291329\n",
      "Success\n",
      "1883: 674999807681908736\n",
      "Success\n",
      "1884: 674805413498527744\n",
      "Success\n",
      "1885: 674800520222154752\n",
      "Success\n",
      "1886: 674793399141146624\n",
      "Success\n",
      "1887: 674790488185167872\n",
      "Success\n",
      "1888: 674788554665512960\n",
      "Success\n",
      "1889: 674781762103414784\n",
      "Success\n",
      "1890: 674774481756377088\n",
      "Success\n",
      "1891: 674767892831932416\n",
      "Success\n",
      "1892: 674764817387900928\n",
      "Success\n",
      "1893: 674754018082705410\n",
      "Success\n",
      "1894: 674752233200820224\n",
      "Success\n",
      "1895: 674743008475090944\n",
      "Success\n",
      "1896: 674742531037511680\n",
      "Success\n",
      "1897: 674739953134403584\n",
      "Success\n",
      "1898: 674737130913071104\n",
      "Success\n",
      "1899: 674690135443775488\n",
      "Success\n",
      "1900: 674670581682434048\n",
      "Success\n",
      "1901: 674664755118911488\n",
      "Success\n",
      "1902: 674646392044941312\n",
      "Success\n",
      "1903: 674644256330530816\n",
      "Success\n",
      "1904: 674638615994089473\n",
      "Success\n",
      "1905: 674632714662858753\n",
      "Success\n",
      "1906: 674606911342424069\n",
      "Success\n",
      "1907: 674468880899788800\n",
      "Success\n",
      "1908: 674447403907457024\n",
      "Success\n",
      "1909: 674436901579923456\n",
      "Success\n",
      "1910: 674422304705744896\n",
      "Success\n",
      "1911: 674416750885273600\n",
      "Success\n",
      "1912: 674410619106390016\n",
      "Success\n",
      "1913: 674394782723014656\n",
      "Success\n",
      "1914: 674372068062928900\n",
      "Success\n",
      "1915: 674330906434379776\n",
      "Success\n",
      "1916: 674318007229923329\n",
      "Success\n",
      "1917: 674307341513269249\n",
      "Success\n",
      "1918: 674291837063053312\n",
      "Success\n",
      "1919: 674271431610523648\n",
      "Success\n",
      "1920: 674269164442398721\n",
      "Success\n",
      "1921: 674265582246694913\n",
      "Success\n",
      "1922: 674262580978937856\n",
      "Success\n",
      "1923: 674255168825880576\n",
      "Success\n",
      "1924: 674082852460433408\n",
      "Success\n",
      "1925: 674075285688614912\n",
      "Success\n",
      "1926: 674063288070742018\n",
      "Success\n",
      "1927: 674053186244734976\n",
      "Success\n",
      "1928: 674051556661161984\n",
      "Success\n",
      "1929: 674045139690631169\n",
      "Success\n",
      "1930: 674042553264685056\n",
      "Success\n",
      "1931: 674038233588723717\n",
      "Success\n",
      "1932: 674036086168010753\n",
      "Success\n",
      "1933: 674024893172875264\n",
      "Success\n",
      "1934: 674019345211760640\n",
      "Success\n",
      "1935: 674014384960745472\n",
      "Success\n",
      "1936: 674008982932058114\n",
      "Success\n",
      "1937: 673956914389192708\n",
      "Success\n",
      "1938: 673919437611909120\n",
      "Success\n",
      "1939: 673906403526995968\n",
      "Success\n",
      "1940: 673887867907739649\n",
      "Success\n",
      "1941: 673716320723169284\n",
      "Success\n",
      "1942: 673715861853720576\n",
      "Success\n",
      "1943: 673711475735838725\n",
      "Success\n",
      "1944: 673709992831262724\n",
      "Success\n",
      "1945: 673708611235921920\n",
      "Success\n",
      "1946: 673707060090052608\n",
      "Success\n",
      "1947: 673705679337693185\n",
      "Success\n",
      "1948: 673700254269775872\n",
      "Success\n",
      "1949: 673697980713705472\n",
      "Success\n",
      "1950: 673689733134946305\n",
      "Success\n",
      "1951: 673688752737402881\n",
      "Success\n",
      "1952: 673686845050527744\n",
      "Success\n",
      "1953: 673680198160809984\n",
      "Success\n",
      "1954: 673662677122719744\n",
      "Success\n",
      "1955: 673656262056419329\n",
      "Success\n",
      "1956: 673636718965334016\n",
      "Success\n",
      "1957: 673612854080196609\n",
      "Success\n",
      "1958: 673583129559498752\n",
      "Success\n",
      "1959: 673580926094458881\n",
      "Success\n",
      "1960: 673576835670777856\n",
      "Success\n",
      "1961: 673363615379013632\n",
      "Success\n",
      "1962: 673359818736984064\n",
      "Success\n",
      "1963: 673355879178194945\n",
      "Success\n",
      "1964: 673352124999274496\n",
      "Success\n",
      "1965: 673350198937153538\n",
      "Success\n",
      "1966: 673345638550134785\n",
      "Success\n",
      "1967: 673343217010679808\n",
      "Success\n",
      "1968: 673342308415348736\n",
      "Success\n",
      "1969: 673320132811366400\n",
      "Success\n",
      "1970: 673317986296586240\n",
      "Success\n",
      "1971: 673295268553605120\n",
      "Success\n",
      "1972: 673270968295534593\n",
      "Success\n",
      "1973: 673240798075449344\n",
      "Success\n",
      "1974: 673213039743795200\n",
      "Success\n",
      "1975: 673148804208660480\n",
      "Success\n",
      "1976: 672997845381865473\n",
      "Success\n",
      "1977: 672995267319328768\n",
      "Success\n",
      "1978: 672988786805112832\n",
      "Success\n",
      "1979: 672984142909456390\n",
      "Success\n",
      "1980: 672980819271634944\n",
      "Success\n",
      "1981: 672975131468300288\n",
      "Success\n",
      "1982: 672970152493887488\n",
      "Success\n",
      "1983: 672968025906282496\n",
      "Success\n",
      "1984: 672964561327235073\n",
      "Success\n",
      "1985: 672902681409806336\n",
      "Success\n",
      "1986: 672898206762672129\n",
      "Success\n",
      "1987: 672884426393653248\n",
      "Success\n",
      "1988: 672877615439593473\n",
      "Success\n",
      "1989: 672834301050937345\n",
      "Success\n",
      "1990: 672828477930868736\n",
      "Success\n",
      "1991: 672640509974827008\n",
      "Success\n",
      "1992: 672622327801233409\n",
      "Success\n",
      "1993: 672614745925664768\n",
      "Success\n",
      "1994: 672609152938721280\n",
      "Success\n",
      "1995: 672604026190569472\n",
      "Success\n",
      "1996: 672594978741354496\n",
      "Success\n",
      "1997: 672591762242805761\n",
      "Success\n",
      "1998: 672591271085670400\n",
      "Success\n",
      "1999: 672538107540070400\n",
      "Success\n",
      "2000: 672523490734551040\n",
      "Success\n",
      "2001: 672488522314567680\n",
      "Success\n",
      "2002: 672482722825261057\n",
      "Success\n",
      "2003: 672481316919734272\n",
      "Success\n",
      "2004: 672475084225949696\n",
      "Success\n",
      "2005: 672466075045466113\n",
      "Success\n",
      "2006: 672272411274932228\n",
      "Success\n",
      "2007: 672267570918129665\n",
      "Success\n",
      "2008: 672264251789176834\n",
      "Success\n",
      "2009: 672256522047614977\n",
      "Success\n",
      "2010: 672254177670729728\n",
      "Success\n",
      "2011: 672248013293752320\n",
      "Success\n",
      "2012: 672245253877968896\n",
      "Success\n",
      "2013: 672239279297454080\n",
      "Success\n",
      "2014: 672231046314901505\n",
      "Success\n",
      "2015: 672222792075620352\n",
      "Success\n",
      "2016: 672205392827572224\n",
      "Success\n",
      "2017: 672169685991993344\n",
      "Success\n",
      "2018: 672160042234327040\n",
      "Success\n",
      "2019: 672139350159835138\n",
      "Success\n",
      "2020: 672125275208069120\n",
      "Success\n",
      "2021: 672095186491711488\n",
      "Success\n",
      "2022: 672082170312290304\n",
      "Success\n",
      "2023: 672068090318987265\n",
      "Success\n",
      "2024: 671896809300709376\n",
      "Success\n",
      "2025: 671891728106971137\n",
      "Success\n",
      "2026: 671882082306625538\n",
      "Success\n",
      "2027: 671879137494245376\n",
      "Success\n",
      "2028: 671874878652489728\n",
      "Success\n",
      "2029: 671866342182637568\n",
      "Success\n",
      "2030: 671855973984772097\n",
      "Success\n",
      "2031: 671789708968640512\n",
      "Success\n",
      "2032: 671768281401958400\n",
      "Success\n",
      "2033: 671763349865160704\n",
      "Success\n",
      "2034: 671744970634719232\n",
      "Success\n",
      "2035: 671743150407421952\n",
      "Success\n",
      "2036: 671735591348891648\n",
      "Success\n",
      "2037: 671729906628341761\n",
      "Success\n",
      "2038: 671561002136281088\n",
      "Success\n",
      "2039: 671550332464455680\n",
      "Success\n",
      "2040: 671547767500775424\n",
      "Success\n",
      "2041: 671544874165002241\n",
      "Success\n",
      "2042: 671542985629241344\n",
      "Success\n",
      "2043: 671538301157904385\n",
      "Success\n",
      "2044: 671536543010570240\n",
      "Success\n",
      "2045: 671533943490011136\n",
      "Success\n",
      "2046: 671528761649688577\n",
      "Success\n",
      "2047: 671520732782923777\n",
      "Success\n",
      "2048: 671518598289059840\n",
      "Success\n",
      "2049: 671511350426865664\n",
      "Success\n",
      "2050: 671504605491109889\n",
      "Success\n",
      "2051: 671497587707535361\n",
      "Success\n",
      "2052: 671488513339211776\n",
      "Success\n",
      "2053: 671486386088865792\n",
      "Success\n",
      "2054: 671485057807351808\n",
      "Success\n",
      "2055: 671390180817915904\n",
      "Success\n",
      "2056: 671362598324076544\n",
      "Success\n",
      "2057: 671357843010908160\n",
      "Success\n",
      "2058: 671355857343524864\n",
      "Success\n",
      "2059: 671347597085433856\n",
      "Success\n",
      "2060: 671186162933985280\n",
      "Success\n",
      "2061: 671182547775299584\n",
      "Success\n",
      "2062: 671166507850801152\n",
      "Success\n",
      "2063: 671163268581498880\n",
      "Success\n",
      "2064: 671159727754231808\n",
      "Success\n",
      "2065: 671154572044468225\n",
      "Success\n",
      "2066: 671151324042559489\n",
      "Success\n",
      "2067: 671147085991960577\n",
      "Success\n",
      "2068: 671141549288370177\n",
      "Success\n",
      "2069: 671138694582165504\n",
      "Success\n",
      "2070: 671134062904504320\n",
      "Success\n",
      "2071: 671122204919246848\n",
      "Success\n",
      "2072: 671115716440031232\n",
      "Success\n",
      "2073: 671109016219725825\n",
      "Success\n",
      "2074: 670995969505435648\n",
      "Success\n",
      "2075: 670842764863651840\n",
      "Success\n",
      "2076: 670840546554966016\n",
      "Success\n",
      "2077: 670838202509447168\n",
      "Success\n",
      "2078: 670833812859932673\n",
      "Success\n",
      "2079: 670832455012716544\n",
      "Success\n",
      "2080: 670826280409919488\n",
      "Success\n",
      "2081: 670823764196741120\n",
      "Success\n",
      "2082: 670822709593571328\n",
      "Success\n",
      "2083: 670815497391357952\n",
      "Success\n",
      "2084: 670811965569282048\n",
      "Success\n",
      "2085: 670807719151067136\n",
      "Success\n",
      "2086: 670804601705242624\n",
      "Success\n",
      "2087: 670803562457407488\n",
      "Success\n",
      "2088: 670797304698376195\n",
      "Success\n",
      "2089: 670792680469889025\n",
      "Success\n",
      "2090: 670789397210615808\n",
      "Success\n",
      "2091: 670786190031921152\n",
      "Success\n",
      "2092: 670783437142401025\n",
      "Success\n",
      "2093: 670782429121134593\n",
      "Success\n",
      "2094: 670780561024270336\n",
      "Success\n",
      "2095: 670778058496974848\n",
      "Success\n",
      "2096: 670764103623966721\n",
      "Success\n",
      "2097: 670755717859713024\n",
      "Success\n",
      "2098: 670733412878163972\n",
      "Success\n",
      "2099: 670727704916926465\n",
      "Success\n",
      "2100: 670717338665226240\n",
      "Success\n",
      "2101: 670704688707301377\n",
      "Success\n",
      "2102: 670691627984359425\n",
      "Success\n",
      "2103: 670679630144274432\n",
      "Success\n",
      "2104: 670676092097810432\n",
      "Success\n",
      "2105: 670668383499735048\n",
      "Success\n",
      "2106: 670474236058800128\n",
      "Success\n",
      "2107: 670468609693655041\n",
      "Success\n",
      "2108: 670465786746662913\n",
      "Success\n",
      "2109: 670452855871037440\n",
      "Success\n",
      "2110: 670449342516494336\n",
      "Success\n",
      "2111: 670444955656130560\n",
      "Success\n",
      "2112: 670442337873600512\n",
      "Success\n",
      "2113: 670435821946826752\n",
      "Success\n",
      "2114: 670434127938719744\n",
      "Success\n",
      "2115: 670433248821026816\n",
      "Success\n",
      "2116: 670428280563085312\n",
      "Success\n",
      "2117: 670427002554466305\n",
      "Success\n",
      "2118: 670421925039075328\n",
      "Success\n",
      "2119: 670420569653809152\n",
      "Success\n",
      "2120: 670417414769758208\n",
      "Success\n",
      "2121: 670411370698022913\n",
      "Success\n",
      "2122: 670408998013820928\n",
      "Success\n",
      "2123: 670403879788544000\n",
      "Success\n",
      "2124: 670385711116361728\n",
      "Success\n",
      "2125: 670374371102445568\n",
      "Success\n",
      "2126: 670361874861563904\n",
      "Success\n",
      "2127: 670338931251150849\n",
      "Success\n",
      "2128: 670319130621435904\n",
      "Success\n",
      "2129: 670303360680108032\n",
      "Success\n",
      "2130: 670290420111441920\n",
      "Success\n",
      "2131: 670093938074779648\n",
      "Success\n",
      "2132: 670086499208155136\n",
      "Success\n",
      "2133: 670079681849372674\n",
      "Success\n",
      "2134: 670073503555706880\n",
      "Success\n",
      "2135: 670069087419133954\n",
      "Success\n",
      "2136: 670061506722140161\n",
      "Success\n",
      "2137: 670055038660800512\n",
      "Success\n",
      "2138: 670046952931721218\n",
      "Success\n",
      "2139: 670040295598354432\n",
      "Success\n",
      "2140: 670037189829525505\n",
      "Success\n",
      "2141: 670003130994700288\n",
      "Success\n",
      "2142: 669993076832759809\n",
      "Success\n",
      "2143: 669972011175813120\n",
      "Success\n",
      "2144: 669970042633789440\n",
      "Success\n",
      "2145: 669942763794931712\n",
      "Success\n",
      "2146: 669926384437997569\n",
      "Success\n",
      "2147: 669923323644657664\n",
      "Success\n",
      "2148: 669753178989142016\n",
      "Success\n",
      "2149: 669749430875258880\n",
      "Success\n",
      "2150: 669684865554620416\n",
      "Success\n",
      "2151: 669683899023405056\n",
      "Success\n",
      "2152: 669682095984410625\n",
      "Success\n",
      "2153: 669680153564442624\n",
      "Success\n",
      "2154: 669661792646373376\n",
      "Success\n",
      "2155: 669625907762618368\n",
      "Success\n",
      "2156: 669603084620980224\n",
      "Success\n",
      "2157: 669597912108789760\n",
      "Success\n",
      "2158: 669583744538451968\n",
      "Success\n",
      "2159: 669573570759163904\n",
      "Success\n",
      "2160: 669571471778410496\n",
      "Success\n",
      "2161: 669567591774625800\n",
      "Success\n",
      "2162: 669564461267722241\n",
      "Success\n",
      "2163: 669393256313184256\n",
      "Success\n",
      "2164: 669375718304980992\n",
      "Success\n",
      "2165: 669371483794317312\n",
      "Success\n",
      "2166: 669367896104181761\n",
      "Success\n",
      "2167: 669363888236994561\n",
      "Success\n",
      "2168: 669359674819481600\n",
      "Success\n",
      "2169: 669354382627049472\n",
      "Success\n",
      "2170: 669353438988365824\n",
      "Success\n",
      "2171: 669351434509529089\n",
      "Success\n",
      "2172: 669328503091937280\n",
      "Success\n",
      "2173: 669327207240699904\n",
      "Success\n",
      "2174: 669324657376567296\n",
      "Success\n",
      "2175: 669216679721873412\n",
      "Success\n",
      "2176: 669214165781868544\n",
      "Success\n",
      "2177: 669203728096960512\n",
      "Success\n",
      "2178: 669037058363662336\n",
      "Success\n",
      "2179: 669015743032369152\n",
      "Success\n",
      "2180: 669006782128353280\n",
      "Success\n",
      "2181: 669000397445533696\n",
      "Success\n",
      "2182: 668994913074286592\n",
      "Success\n",
      "2183: 668992363537309700\n",
      "Success\n",
      "2184: 668989615043424256\n",
      "Success\n",
      "2185: 668988183816871936\n",
      "Success\n",
      "2186: 668986018524233728\n",
      "Success\n",
      "2187: 668981893510119424\n",
      "Success\n",
      "2188: 668979806671884288\n",
      "Success\n",
      "2189: 668975677807423489\n",
      "Success\n",
      "2190: 668967877119254528\n",
      "Success\n",
      "2191: 668960084974809088\n",
      "Success\n",
      "2192: 668955713004314625\n",
      "Success\n",
      "2193: 668932921458302977\n",
      "Success\n",
      "2194: 668902994700836864\n",
      "Success\n",
      "2195: 668892474547511297\n",
      "Success\n",
      "2196: 668872652652679168\n",
      "Success\n",
      "2197: 668852170888998912\n",
      "Success\n",
      "2198: 668826086256599040\n",
      "Success\n",
      "2199: 668815180734689280\n",
      "Success\n",
      "2200: 668779399630725120\n",
      "Success\n",
      "2201: 668655139528511488\n",
      "Success\n",
      "2202: 668645506898350081\n",
      "Success\n",
      "2203: 668643542311546881\n",
      "Success\n",
      "2204: 668641109086707712\n",
      "Success\n",
      "2205: 668636665813057536\n",
      "Success\n",
      "2206: 668633411083464705\n",
      "Success\n",
      "2207: 668631377374486528\n",
      "Success\n",
      "2208: 668627278264475648\n",
      "Success\n",
      "2209: 668625577880875008\n",
      "Success\n",
      "2210: 668623201287675904\n",
      "Success\n",
      "2211: 668620235289837568\n",
      "Success\n",
      "2212: 668614819948453888\n",
      "Success\n",
      "2213: 668587383441514497\n",
      "Success\n",
      "2214: 668567822092664832\n",
      "Success\n",
      "2215: 668544745690562560\n",
      "Success\n",
      "2216: 668542336805281792\n",
      "Success\n",
      "2217: 668537837512433665\n",
      "Success\n",
      "2218: 668528771708952576\n",
      "Success\n",
      "2219: 668507509523615744\n",
      "Success\n",
      "2220: 668496999348633600\n",
      "Success\n",
      "2221: 668484198282485761\n",
      "Success\n",
      "2222: 668480044826800133\n",
      "Success\n",
      "2223: 668466899341221888\n",
      "Success\n",
      "2224: 668297328638447616\n",
      "Success\n",
      "2225: 668291999406125056\n",
      "Success\n",
      "2226: 668286279830867968\n",
      "Success\n",
      "2227: 668274247790391296\n",
      "Success\n",
      "2228: 668268907921326080\n",
      "Success\n",
      "2229: 668256321989451776\n",
      "Success\n",
      "2230: 668248472370458624\n",
      "Success\n",
      "2231: 668237644992782336\n",
      "Success\n",
      "2232: 668226093875376128\n",
      "Success\n",
      "2233: 668221241640230912\n",
      "Success\n",
      "2234: 668204964695683073\n",
      "Success\n",
      "2235: 668190681446379520\n",
      "Success\n",
      "2236: 668171859951755264\n",
      "Success\n",
      "2237: 668154635664932864\n",
      "Success\n",
      "2238: 668142349051129856\n",
      "Success\n",
      "2239: 668113020489474048\n",
      "Success\n",
      "2240: 667937095915278337\n",
      "Success\n",
      "2241: 667924896115245057\n",
      "Success\n",
      "2242: 667915453470232577\n",
      "Success\n",
      "2243: 667911425562669056\n",
      "Success\n",
      "2244: 667902449697558528\n",
      "Success\n",
      "2245: 667886921285246976\n",
      "Success\n",
      "2246: 667885044254572545\n",
      "Success\n",
      "2247: 667878741721415682\n",
      "Success\n",
      "2248: 667873844930215936\n",
      "Success\n",
      "2249: 667866724293877760\n",
      "Success\n",
      "2250: 667861340749471744\n",
      "Success\n",
      "2251: 667832474953625600\n",
      "Success\n",
      "2252: 667806454573760512\n",
      "Success\n",
      "2253: 667801013445750784\n",
      "Success\n",
      "2254: 667793409583771648\n",
      "Success\n",
      "2255: 667782464991965184\n",
      "Success\n",
      "2256: 667773195014021121\n",
      "Success\n",
      "2257: 667766675769573376\n",
      "Success\n",
      "2258: 667728196545200128\n",
      "Success\n",
      "2259: 667724302356258817\n",
      "Success\n",
      "2260: 667550904950915073\n",
      "Success\n",
      "2261: 667550882905632768\n",
      "Success\n",
      "2262: 667549055577362432\n",
      "Success\n",
      "2263: 667546741521195010\n",
      "Success\n",
      "2264: 667544320556335104\n",
      "Success\n",
      "2265: 667538891197542400\n",
      "Success\n",
      "2266: 667534815156183040\n",
      "Success\n",
      "2267: 667530908589760512\n",
      "Success\n",
      "2268: 667524857454854144\n",
      "Success\n",
      "2269: 667517642048163840\n",
      "Success\n",
      "2270: 667509364010450944\n",
      "Success\n",
      "2271: 667502640335572993\n",
      "Success\n",
      "2272: 667495797102141441\n",
      "Success\n",
      "2273: 667491009379606528\n",
      "Success\n",
      "2274: 667470559035432960\n",
      "Success\n",
      "2275: 667455448082227200\n",
      "Success\n",
      "2276: 667453023279554560\n",
      "Success\n",
      "2277: 667443425659232256\n",
      "Success\n",
      "2278: 667437278097252352\n",
      "Success\n",
      "2279: 667435689202614272\n",
      "Success\n",
      "2280: 667405339315146752\n",
      "Success\n",
      "2281: 667393430834667520\n",
      "Success\n",
      "2282: 667369227918143488\n",
      "Success\n",
      "2283: 667211855547486208\n",
      "Success\n",
      "2284: 667200525029539841\n",
      "Success\n",
      "2285: 667192066997374976\n",
      "Success\n",
      "2286: 667188689915760640\n",
      "Success\n",
      "2287: 667182792070062081\n",
      "Success\n",
      "2288: 667177989038297088\n",
      "Success\n",
      "2289: 667176164155375616\n",
      "Success\n",
      "2290: 667174963120574464\n",
      "Success\n",
      "2291: 667171260800061440\n",
      "Success\n",
      "2292: 667165590075940865\n",
      "Success\n",
      "2293: 667160273090932737\n",
      "Success\n",
      "2294: 667152164079423490\n",
      "Success\n",
      "2295: 667138269671505920\n",
      "Success\n",
      "2296: 667119796878725120\n",
      "Success\n",
      "2297: 667090893657276420\n",
      "Success\n",
      "2298: 667073648344346624\n",
      "Success\n",
      "2299: 667070482143944705\n",
      "Success\n",
      "2300: 667065535570550784\n",
      "Success\n",
      "2301: 667062181243039745\n",
      "Success\n",
      "2302: 667044094246576128\n",
      "Success\n",
      "2303: 667012601033924608\n",
      "Success\n",
      "2304: 666996132027977728\n",
      "Success\n",
      "2305: 666983947667116034\n",
      "Success\n",
      "2306: 666837028449972224\n",
      "Success\n",
      "2307: 666835007768551424\n",
      "Success\n",
      "2308: 666826780179869698\n",
      "Success\n",
      "2309: 666817836334096384\n",
      "Success\n",
      "2310: 666804364988780544\n",
      "Success\n",
      "2311: 666786068205871104\n",
      "Success\n",
      "2312: 666781792255496192\n",
      "Success\n",
      "2313: 666776908487630848\n",
      "Success\n",
      "2314: 666739327293083650\n",
      "Success\n",
      "2315: 666701168228331520\n",
      "Success\n",
      "2316: 666691418707132416\n",
      "Success\n",
      "2317: 666649482315059201\n",
      "Success\n",
      "2318: 666644823164719104\n",
      "Success\n",
      "2319: 666454714377183233\n",
      "Success\n",
      "2320: 666447344410484738\n",
      "Success\n",
      "2321: 666437273139982337\n",
      "Success\n",
      "2322: 666435652385423360\n",
      "Success\n",
      "2323: 666430724426358785\n",
      "Success\n",
      "2324: 666428276349472768\n",
      "Success\n",
      "2325: 666421158376562688\n",
      "Success\n",
      "2326: 666418789513326592\n",
      "Success\n",
      "2327: 666411507551481857\n",
      "Success\n",
      "2328: 666407126856765440\n",
      "Success\n",
      "2329: 666396247373291520\n",
      "Success\n",
      "2330: 666373753744588802\n",
      "Success\n",
      "2331: 666362758909284353\n",
      "Success\n",
      "2332: 666353288456101888\n",
      "Success\n",
      "2333: 666345417576210432\n",
      "Success\n",
      "2334: 666337882303524864\n",
      "Success\n",
      "2335: 666293911632134144\n",
      "Success\n",
      "2336: 666287406224695296\n",
      "Success\n",
      "2337: 666273097616637952\n",
      "Success\n",
      "2338: 666268910803644416\n",
      "Success\n",
      "2339: 666104133288665088\n",
      "Success\n",
      "2340: 666102155909144576\n",
      "Success\n",
      "2341: 666099513787052032\n",
      "Success\n",
      "2342: 666094000022159362\n",
      "Success\n",
      "2343: 666082916733198337\n",
      "Success\n",
      "2344: 666073100786774016\n",
      "Success\n",
      "2345: 666071193221509120\n",
      "Success\n",
      "2346: 666063827256086533\n",
      "Success\n",
      "2347: 666058600524156928\n",
      "Success\n",
      "2348: 666057090499244032\n",
      "Success\n",
      "2349: 666055525042405380\n",
      "Success\n",
      "2350: 666051853826850816\n",
      "Success\n",
      "2351: 666050758794694657\n",
      "Success\n",
      "2352: 666049248165822465\n",
      "Success\n",
      "2353: 666044226329800704\n",
      "Success\n",
      "2354: 666033412701032449\n",
      "Success\n",
      "2355: 666029285002620928\n",
      "Success\n",
      "2356: 666020888022790149\n",
      "Success\n",
      "1917.2025755419995\n",
      "{888202515573088257: TweepError([{'code': 144, 'message': 'No status found with that ID.'}],), 873697596434513921: TweepError([{'code': 144, 'message': 'No status found with that ID.'}],), 872668790621863937: TweepError([{'code': 144, 'message': 'No status found with that ID.'}],), 872261713294495745: TweepError([{'code': 144, 'message': 'No status found with that ID.'}],), 869988702071779329: TweepError([{'code': 144, 'message': 'No status found with that ID.'}],), 866816280283807744: TweepError([{'code': 144, 'message': 'No status found with that ID.'}],), 861769973181624320: TweepError([{'code': 144, 'message': 'No status found with that ID.'}],), 856602993587888130: TweepError([{'code': 144, 'message': 'No status found with that ID.'}],), 851953902622658560: TweepError([{'code': 144, 'message': 'No status found with that ID.'}],), 845459076796616705: TweepError([{'code': 144, 'message': 'No status found with that ID.'}],), 844704788403113984: TweepError([{'code': 144, 'message': 'No status found with that ID.'}],), 842892208864923648: TweepError([{'code': 144, 'message': 'No status found with that ID.'}],), 837366284874571778: TweepError([{'code': 144, 'message': 'No status found with that ID.'}],), 837012587749474308: TweepError([{'code': 144, 'message': 'No status found with that ID.'}],), 829374341691346946: TweepError([{'code': 144, 'message': 'No status found with that ID.'}],), 827228250799742977: TweepError([{'code': 144, 'message': 'No status found with that ID.'}],), 812747805718642688: TweepError([{'code': 144, 'message': 'No status found with that ID.'}],), 802247111496568832: TweepError([{'code': 144, 'message': 'No status found with that ID.'}],), 779123168116150273: TweepError([{'code': 144, 'message': 'No status found with that ID.'}],), 775096608509886464: TweepError([{'code': 144, 'message': 'No status found with that ID.'}],), 771004394259247104: TweepError([{'code': 179, 'message': 'Sorry, you are not authorized to see this status.'}],), 770743923962707968: TweepError([{'code': 144, 'message': 'No status found with that ID.'}],), 759566828574212096: TweepError([{'code': 144, 'message': 'No status found with that ID.'}],), 754011816964026368: TweepError([{'code': 144, 'message': 'No status found with that ID.'}],), 680055455951884288: TweepError([{'code': 144, 'message': 'No status found with that ID.'}],)}\n"
     ]
    }
   ],
   "source": [
    "count = 0\n",
    "fails_dict = {}\n",
    "start = timer()\n",
    "\n",
    "with open('tweet_json.txt', 'w') as outfile:\n",
    "    for tweet_id in tweet_ids:\n",
    "        count += 1\n",
    "        print(str(count) + \": \" + str(tweet_id))\n",
    "        try:\n",
    "            tweet = api.get_status(tweet_id, tweet_mode='extended')\n",
    "            print(\"Success\")\n",
    "            json.dump(tweet._json, outfile)\n",
    "            outfile.write('\\n')\n",
    "        except tweepy.TweepError as e:\n",
    "            print(\"Fail\")\n",
    "            fails_dict[tweet_id] = e\n",
    "            pass\n",
    "end = timer()\n",
    "print(end - start)\n",
    "print(fails_dict)\n"
   ]
  },
  {
   "cell_type": "markdown",
   "metadata": {},
   "source": [
    "**Import the json file into a dataframe**"
   ]
  },
  {
   "cell_type": "code",
   "execution_count": 401,
   "metadata": {},
   "outputs": [],
   "source": [
    "twjson= pd.read_json('tweet_json.txt', lines=True)"
   ]
  },
  {
   "cell_type": "code",
   "execution_count": 5,
   "metadata": {},
   "outputs": [
    {
     "data": {
      "text/html": [
       "<div>\n",
       "<style scoped>\n",
       "    .dataframe tbody tr th:only-of-type {\n",
       "        vertical-align: middle;\n",
       "    }\n",
       "\n",
       "    .dataframe tbody tr th {\n",
       "        vertical-align: top;\n",
       "    }\n",
       "\n",
       "    .dataframe thead th {\n",
       "        text-align: right;\n",
       "    }\n",
       "</style>\n",
       "<table border=\"1\" class=\"dataframe\">\n",
       "  <thead>\n",
       "    <tr style=\"text-align: right;\">\n",
       "      <th></th>\n",
       "      <th>contributors</th>\n",
       "      <th>coordinates</th>\n",
       "      <th>created_at</th>\n",
       "      <th>display_text_range</th>\n",
       "      <th>entities</th>\n",
       "      <th>extended_entities</th>\n",
       "      <th>favorite_count</th>\n",
       "      <th>favorited</th>\n",
       "      <th>full_text</th>\n",
       "      <th>geo</th>\n",
       "      <th>...</th>\n",
       "      <th>quoted_status</th>\n",
       "      <th>quoted_status_id</th>\n",
       "      <th>quoted_status_id_str</th>\n",
       "      <th>quoted_status_permalink</th>\n",
       "      <th>retweet_count</th>\n",
       "      <th>retweeted</th>\n",
       "      <th>retweeted_status</th>\n",
       "      <th>source</th>\n",
       "      <th>truncated</th>\n",
       "      <th>user</th>\n",
       "    </tr>\n",
       "  </thead>\n",
       "  <tbody>\n",
       "    <tr>\n",
       "      <th>0</th>\n",
       "      <td>NaN</td>\n",
       "      <td>NaN</td>\n",
       "      <td>2017-08-01 16:23:56</td>\n",
       "      <td>[0, 85]</td>\n",
       "      <td>{'hashtags': [], 'symbols': [], 'user_mentions...</td>\n",
       "      <td>{'media': [{'id': 892420639486877696, 'id_str'...</td>\n",
       "      <td>35082</td>\n",
       "      <td>False</td>\n",
       "      <td>This is Phineas. He's a mystical boy. Only eve...</td>\n",
       "      <td>NaN</td>\n",
       "      <td>...</td>\n",
       "      <td>NaN</td>\n",
       "      <td>NaN</td>\n",
       "      <td>NaN</td>\n",
       "      <td>NaN</td>\n",
       "      <td>7380</td>\n",
       "      <td>False</td>\n",
       "      <td>NaN</td>\n",
       "      <td>&lt;a href=\"http://twitter.com/download/iphone\" r...</td>\n",
       "      <td>False</td>\n",
       "      <td>{'id': 4196983835, 'id_str': '4196983835', 'na...</td>\n",
       "    </tr>\n",
       "  </tbody>\n",
       "</table>\n",
       "<p>1 rows × 32 columns</p>\n",
       "</div>"
      ],
      "text/plain": [
       "   contributors  coordinates          created_at display_text_range  \\\n",
       "0           NaN          NaN 2017-08-01 16:23:56            [0, 85]   \n",
       "\n",
       "                                            entities  \\\n",
       "0  {'hashtags': [], 'symbols': [], 'user_mentions...   \n",
       "\n",
       "                                   extended_entities  favorite_count  \\\n",
       "0  {'media': [{'id': 892420639486877696, 'id_str'...           35082   \n",
       "\n",
       "   favorited                                          full_text  geo  \\\n",
       "0      False  This is Phineas. He's a mystical boy. Only eve...  NaN   \n",
       "\n",
       "                         ...                          quoted_status  \\\n",
       "0                        ...                                    NaN   \n",
       "\n",
       "   quoted_status_id quoted_status_id_str  quoted_status_permalink  \\\n",
       "0               NaN                  NaN                      NaN   \n",
       "\n",
       "   retweet_count  retweeted  retweeted_status  \\\n",
       "0           7380      False               NaN   \n",
       "\n",
       "                                              source truncated  \\\n",
       "0  <a href=\"http://twitter.com/download/iphone\" r...     False   \n",
       "\n",
       "                                                user  \n",
       "0  {'id': 4196983835, 'id_str': '4196983835', 'na...  \n",
       "\n",
       "[1 rows x 32 columns]"
      ]
     },
     "execution_count": 5,
     "metadata": {},
     "output_type": "execute_result"
    }
   ],
   "source": [
    "twjson.head(1)"
   ]
  },
  {
   "cell_type": "markdown",
   "metadata": {},
   "source": [
    "### Assess"
   ]
  },
  {
   "cell_type": "markdown",
   "metadata": {},
   "source": [
    "**Archive dataframe**"
   ]
  },
  {
   "cell_type": "code",
   "execution_count": 221,
   "metadata": {},
   "outputs": [
    {
     "name": "stdout",
     "output_type": "stream",
     "text": [
      "<class 'pandas.core.frame.DataFrame'>\n",
      "RangeIndex: 2356 entries, 0 to 2355\n",
      "Data columns (total 17 columns):\n",
      "tweet_id                      2356 non-null int64\n",
      "in_reply_to_status_id         78 non-null float64\n",
      "in_reply_to_user_id           78 non-null float64\n",
      "timestamp                     2356 non-null object\n",
      "source                        2356 non-null object\n",
      "text                          2356 non-null object\n",
      "retweeted_status_id           181 non-null float64\n",
      "retweeted_status_user_id      181 non-null float64\n",
      "retweeted_status_timestamp    181 non-null object\n",
      "expanded_urls                 2297 non-null object\n",
      "rating_numerator              2356 non-null int64\n",
      "rating_denominator            2356 non-null int64\n",
      "name                          2356 non-null object\n",
      "doggo                         2356 non-null object\n",
      "floofer                       2356 non-null object\n",
      "pupper                        2356 non-null object\n",
      "puppo                         2356 non-null object\n",
      "dtypes: float64(4), int64(3), object(10)\n",
      "memory usage: 313.0+ KB\n"
     ]
    }
   ],
   "source": [
    "archive.info()"
   ]
  },
  {
   "cell_type": "code",
   "execution_count": 10,
   "metadata": {},
   "outputs": [
    {
     "data": {
      "text/plain": [
       "tweet_id                      2356\n",
       "in_reply_to_status_id           77\n",
       "in_reply_to_user_id             31\n",
       "timestamp                     2356\n",
       "source                           4\n",
       "text                          2356\n",
       "retweeted_status_id            181\n",
       "retweeted_status_user_id        25\n",
       "retweeted_status_timestamp     181\n",
       "expanded_urls                 2218\n",
       "rating_numerator                40\n",
       "rating_denominator              18\n",
       "name                           957\n",
       "doggo                            2\n",
       "floofer                          2\n",
       "pupper                           2\n",
       "puppo                            2\n",
       "dtype: int64"
      ]
     },
     "execution_count": 10,
     "metadata": {},
     "output_type": "execute_result"
    }
   ],
   "source": [
    "archive.nunique()"
   ]
  },
  {
   "cell_type": "markdown",
   "metadata": {},
   "source": [
    "**There are 181 unique retweet_status_ids, which could point to retweets. We would want to eliminate those to just keep the original ratings** "
   ]
  },
  {
   "cell_type": "code",
   "execution_count": 37,
   "metadata": {},
   "outputs": [
    {
     "data": {
      "text/plain": [
       "819     770655142660169732\n",
       "1799    677187300187611136\n",
       "853     765371061932261376\n",
       "1736    679722016581222400\n",
       "2183    668989615043424256\n",
       "1020    746757706116112384\n",
       "1863    675372240448454658\n",
       "2248    667866724293877760\n",
       "2147    669753178989142016\n",
       "289     838201503651401729\n",
       "Name: tweet_id, dtype: int64"
      ]
     },
     "execution_count": 37,
     "metadata": {},
     "output_type": "execute_result"
    }
   ],
   "source": [
    "archive.tweet_id.sample(10)"
   ]
  },
  {
   "cell_type": "code",
   "execution_count": 13,
   "metadata": {},
   "outputs": [],
   "source": [
    "explore=archive.filter(['tweet_id', 'retweeted_status_id', 'retweeted_status_user_id',], axis=1)"
   ]
  },
  {
   "cell_type": "code",
   "execution_count": 39,
   "metadata": {},
   "outputs": [
    {
     "data": {
      "text/html": [
       "<div>\n",
       "<style scoped>\n",
       "    .dataframe tbody tr th:only-of-type {\n",
       "        vertical-align: middle;\n",
       "    }\n",
       "\n",
       "    .dataframe tbody tr th {\n",
       "        vertical-align: top;\n",
       "    }\n",
       "\n",
       "    .dataframe thead th {\n",
       "        text-align: right;\n",
       "    }\n",
       "</style>\n",
       "<table border=\"1\" class=\"dataframe\">\n",
       "  <thead>\n",
       "    <tr style=\"text-align: right;\">\n",
       "      <th></th>\n",
       "      <th>tweet_id</th>\n",
       "      <th>retweeted_status_id</th>\n",
       "      <th>retweeted_status_user_id</th>\n",
       "    </tr>\n",
       "  </thead>\n",
       "  <tbody>\n",
       "    <tr>\n",
       "      <th>161</th>\n",
       "      <td>860563773140209665</td>\n",
       "      <td>NaN</td>\n",
       "      <td>NaN</td>\n",
       "    </tr>\n",
       "    <tr>\n",
       "      <th>1064</th>\n",
       "      <td>740995100998766593</td>\n",
       "      <td>NaN</td>\n",
       "      <td>NaN</td>\n",
       "    </tr>\n",
       "    <tr>\n",
       "      <th>696</th>\n",
       "      <td>786664955043049472</td>\n",
       "      <td>NaN</td>\n",
       "      <td>NaN</td>\n",
       "    </tr>\n",
       "    <tr>\n",
       "      <th>1515</th>\n",
       "      <td>690989312272396288</td>\n",
       "      <td>NaN</td>\n",
       "      <td>NaN</td>\n",
       "    </tr>\n",
       "    <tr>\n",
       "      <th>1090</th>\n",
       "      <td>737678689543020544</td>\n",
       "      <td>NaN</td>\n",
       "      <td>NaN</td>\n",
       "    </tr>\n",
       "    <tr>\n",
       "      <th>1019</th>\n",
       "      <td>746790600704425984</td>\n",
       "      <td>NaN</td>\n",
       "      <td>NaN</td>\n",
       "    </tr>\n",
       "    <tr>\n",
       "      <th>1001</th>\n",
       "      <td>747933425676525569</td>\n",
       "      <td>NaN</td>\n",
       "      <td>NaN</td>\n",
       "    </tr>\n",
       "    <tr>\n",
       "      <th>941</th>\n",
       "      <td>752932432744185856</td>\n",
       "      <td>NaN</td>\n",
       "      <td>NaN</td>\n",
       "    </tr>\n",
       "    <tr>\n",
       "      <th>2200</th>\n",
       "      <td>668655139528511488</td>\n",
       "      <td>NaN</td>\n",
       "      <td>NaN</td>\n",
       "    </tr>\n",
       "    <tr>\n",
       "      <th>146</th>\n",
       "      <td>863471782782697472</td>\n",
       "      <td>8.630625e+17</td>\n",
       "      <td>4.196984e+09</td>\n",
       "    </tr>\n",
       "  </tbody>\n",
       "</table>\n",
       "</div>"
      ],
      "text/plain": [
       "                tweet_id  retweeted_status_id  retweeted_status_user_id\n",
       "161   860563773140209665                  NaN                       NaN\n",
       "1064  740995100998766593                  NaN                       NaN\n",
       "696   786664955043049472                  NaN                       NaN\n",
       "1515  690989312272396288                  NaN                       NaN\n",
       "1090  737678689543020544                  NaN                       NaN\n",
       "1019  746790600704425984                  NaN                       NaN\n",
       "1001  747933425676525569                  NaN                       NaN\n",
       "941   752932432744185856                  NaN                       NaN\n",
       "2200  668655139528511488                  NaN                       NaN\n",
       "146   863471782782697472         8.630625e+17              4.196984e+09"
      ]
     },
     "execution_count": 39,
     "metadata": {},
     "output_type": "execute_result"
    }
   ],
   "source": [
    "explore.sample(10)"
   ]
  },
  {
   "cell_type": "markdown",
   "metadata": {},
   "source": [
    "**By running the code with the sample many times, we can see that tweet id and retweeted stauts id have the same format. Furthermore, retweeted status user id has the same format as user id, as seen in the twjson dataframe.**\n"
   ]
  },
  {
   "cell_type": "code",
   "execution_count": 11,
   "metadata": {},
   "outputs": [
    {
     "data": {
      "text/plain": [
       "None            745\n",
       "a                55\n",
       "Charlie          12\n",
       "Cooper           11\n",
       "Lucy             11\n",
       "Oliver           11\n",
       "Tucker           10\n",
       "Lola             10\n",
       "Penny            10\n",
       "Bo                9\n",
       "Winston           9\n",
       "the               8\n",
       "Sadie             8\n",
       "Bailey            7\n",
       "Daisy             7\n",
       "Toby              7\n",
       "an                7\n",
       "Buddy             7\n",
       "Leo               6\n",
       "Scout             6\n",
       "Oscar             6\n",
       "Rusty             6\n",
       "Milo              6\n",
       "Jack              6\n",
       "Bella             6\n",
       "Koda              6\n",
       "Dave              6\n",
       "Stanley           6\n",
       "Jax               6\n",
       "Oakley            5\n",
       "               ... \n",
       "Kobe              1\n",
       "Zoe               1\n",
       "Newt              1\n",
       "Nugget            1\n",
       "Kanu              1\n",
       "Bode              1\n",
       "Brutus            1\n",
       "Harlso            1\n",
       "Mona              1\n",
       "Humphrey          1\n",
       "Huxley            1\n",
       "Goose             1\n",
       "Barney            1\n",
       "Leonidas          1\n",
       "infuriating       1\n",
       "Noosh             1\n",
       "Bobb              1\n",
       "Trigger           1\n",
       "Koko              1\n",
       "Loomis            1\n",
       "Mo                1\n",
       "Kendall           1\n",
       "Stephanus         1\n",
       "Jessiga           1\n",
       "Cupid             1\n",
       "Alexanderson      1\n",
       "Joshwa            1\n",
       "Rufio             1\n",
       "Blue              1\n",
       "Schnozz           1\n",
       "Name: name, Length: 957, dtype: int64"
      ]
     },
     "execution_count": 11,
     "metadata": {},
     "output_type": "execute_result"
    }
   ],
   "source": [
    "archive.name.value_counts()"
   ]
  },
  {
   "cell_type": "markdown",
   "metadata": {},
   "source": [
    "**Some  words here are not names**"
   ]
  },
  {
   "cell_type": "code",
   "execution_count": 12,
   "metadata": {},
   "outputs": [
    {
     "data": {
      "text/plain": [
       "None     2259\n",
       "doggo      97\n",
       "Name: doggo, dtype: int64"
      ]
     },
     "execution_count": 12,
     "metadata": {},
     "output_type": "execute_result"
    }
   ],
   "source": [
    "archive.doggo.value_counts()"
   ]
  },
  {
   "cell_type": "code",
   "execution_count": 13,
   "metadata": {},
   "outputs": [
    {
     "data": {
      "text/plain": [
       "None       2346\n",
       "floofer      10\n",
       "Name: floofer, dtype: int64"
      ]
     },
     "execution_count": 13,
     "metadata": {},
     "output_type": "execute_result"
    }
   ],
   "source": [
    "archive.floofer.value_counts()"
   ]
  },
  {
   "cell_type": "code",
   "execution_count": 14,
   "metadata": {},
   "outputs": [
    {
     "data": {
      "text/plain": [
       "None      2099\n",
       "pupper     257\n",
       "Name: pupper, dtype: int64"
      ]
     },
     "execution_count": 14,
     "metadata": {},
     "output_type": "execute_result"
    }
   ],
   "source": [
    "archive.pupper.value_counts()"
   ]
  },
  {
   "cell_type": "code",
   "execution_count": 15,
   "metadata": {},
   "outputs": [
    {
     "data": {
      "text/plain": [
       "None     2326\n",
       "puppo      30\n",
       "Name: puppo, dtype: int64"
      ]
     },
     "execution_count": 15,
     "metadata": {},
     "output_type": "execute_result"
    }
   ],
   "source": [
    "archive.puppo.value_counts()"
   ]
  },
  {
   "cell_type": "code",
   "execution_count": 16,
   "metadata": {},
   "outputs": [],
   "source": [
    "type_dog=archive.filter(['tweet_id','doggo', 'floofer', 'pupper', 'puppo'], axis=1)"
   ]
  },
  {
   "cell_type": "code",
   "execution_count": 50,
   "metadata": {},
   "outputs": [
    {
     "data": {
      "text/html": [
       "<div>\n",
       "<style scoped>\n",
       "    .dataframe tbody tr th:only-of-type {\n",
       "        vertical-align: middle;\n",
       "    }\n",
       "\n",
       "    .dataframe tbody tr th {\n",
       "        vertical-align: top;\n",
       "    }\n",
       "\n",
       "    .dataframe thead th {\n",
       "        text-align: right;\n",
       "    }\n",
       "</style>\n",
       "<table border=\"1\" class=\"dataframe\">\n",
       "  <thead>\n",
       "    <tr style=\"text-align: right;\">\n",
       "      <th></th>\n",
       "      <th>tweet_id</th>\n",
       "      <th>doggo</th>\n",
       "      <th>floofer</th>\n",
       "      <th>pupper</th>\n",
       "      <th>puppo</th>\n",
       "    </tr>\n",
       "  </thead>\n",
       "  <tbody>\n",
       "    <tr>\n",
       "      <th>1069</th>\n",
       "      <td>740365076218183684</td>\n",
       "      <td>None</td>\n",
       "      <td>None</td>\n",
       "      <td>None</td>\n",
       "      <td>None</td>\n",
       "    </tr>\n",
       "    <tr>\n",
       "      <th>204</th>\n",
       "      <td>852936405516943360</td>\n",
       "      <td>None</td>\n",
       "      <td>None</td>\n",
       "      <td>None</td>\n",
       "      <td>None</td>\n",
       "    </tr>\n",
       "    <tr>\n",
       "      <th>1988</th>\n",
       "      <td>672834301050937345</td>\n",
       "      <td>None</td>\n",
       "      <td>None</td>\n",
       "      <td>None</td>\n",
       "      <td>None</td>\n",
       "    </tr>\n",
       "    <tr>\n",
       "      <th>1130</th>\n",
       "      <td>729113531270991872</td>\n",
       "      <td>None</td>\n",
       "      <td>None</td>\n",
       "      <td>None</td>\n",
       "      <td>None</td>\n",
       "    </tr>\n",
       "    <tr>\n",
       "      <th>992</th>\n",
       "      <td>748692773788876800</td>\n",
       "      <td>doggo</td>\n",
       "      <td>None</td>\n",
       "      <td>None</td>\n",
       "      <td>None</td>\n",
       "    </tr>\n",
       "    <tr>\n",
       "      <th>386</th>\n",
       "      <td>826615380357632002</td>\n",
       "      <td>None</td>\n",
       "      <td>None</td>\n",
       "      <td>None</td>\n",
       "      <td>None</td>\n",
       "    </tr>\n",
       "    <tr>\n",
       "      <th>2229</th>\n",
       "      <td>668248472370458624</td>\n",
       "      <td>None</td>\n",
       "      <td>None</td>\n",
       "      <td>None</td>\n",
       "      <td>None</td>\n",
       "    </tr>\n",
       "    <tr>\n",
       "      <th>889</th>\n",
       "      <td>759793422261743616</td>\n",
       "      <td>doggo</td>\n",
       "      <td>None</td>\n",
       "      <td>pupper</td>\n",
       "      <td>None</td>\n",
       "    </tr>\n",
       "    <tr>\n",
       "      <th>2306</th>\n",
       "      <td>666835007768551424</td>\n",
       "      <td>None</td>\n",
       "      <td>None</td>\n",
       "      <td>None</td>\n",
       "      <td>None</td>\n",
       "    </tr>\n",
       "    <tr>\n",
       "      <th>280</th>\n",
       "      <td>839549326359670784</td>\n",
       "      <td>None</td>\n",
       "      <td>None</td>\n",
       "      <td>None</td>\n",
       "      <td>None</td>\n",
       "    </tr>\n",
       "  </tbody>\n",
       "</table>\n",
       "</div>"
      ],
      "text/plain": [
       "                tweet_id  doggo floofer  pupper puppo\n",
       "1069  740365076218183684   None    None    None  None\n",
       "204   852936405516943360   None    None    None  None\n",
       "1988  672834301050937345   None    None    None  None\n",
       "1130  729113531270991872   None    None    None  None\n",
       "992   748692773788876800  doggo    None    None  None\n",
       "386   826615380357632002   None    None    None  None\n",
       "2229  668248472370458624   None    None    None  None\n",
       "889   759793422261743616  doggo    None  pupper  None\n",
       "2306  666835007768551424   None    None    None  None\n",
       "280   839549326359670784   None    None    None  None"
      ]
     },
     "execution_count": 50,
     "metadata": {},
     "output_type": "execute_result"
    }
   ],
   "source": [
    "type_dog.sample(10)"
   ]
  },
  {
   "cell_type": "markdown",
   "metadata": {},
   "source": [
    "**We can see visually that 'pupper' and 'doggo' are not necessarily exclusive categories. Therefore, collapsing then into one column = \"type_dog\", is not feasible.**"
   ]
  },
  {
   "cell_type": "code",
   "execution_count": 17,
   "metadata": {},
   "outputs": [
    {
     "data": {
      "text/plain": [
       "12      558\n",
       "11      464\n",
       "10      461\n",
       "13      351\n",
       "9       158\n",
       "8       102\n",
       "7        55\n",
       "14       54\n",
       "5        37\n",
       "6        32\n",
       "3        19\n",
       "4        17\n",
       "1         9\n",
       "2         9\n",
       "420       2\n",
       "0         2\n",
       "15        2\n",
       "75        2\n",
       "80        1\n",
       "20        1\n",
       "24        1\n",
       "26        1\n",
       "44        1\n",
       "50        1\n",
       "60        1\n",
       "165       1\n",
       "84        1\n",
       "88        1\n",
       "144       1\n",
       "182       1\n",
       "143       1\n",
       "666       1\n",
       "960       1\n",
       "1776      1\n",
       "17        1\n",
       "27        1\n",
       "45        1\n",
       "99        1\n",
       "121       1\n",
       "204       1\n",
       "Name: rating_numerator, dtype: int64"
      ]
     },
     "execution_count": 17,
     "metadata": {},
     "output_type": "execute_result"
    }
   ],
   "source": [
    "archive.rating_numerator.value_counts()"
   ]
  },
  {
   "cell_type": "code",
   "execution_count": 18,
   "metadata": {},
   "outputs": [
    {
     "data": {
      "text/plain": [
       "count    2356.000000\n",
       "mean       13.126486\n",
       "std        45.876648\n",
       "min         0.000000\n",
       "25%        10.000000\n",
       "50%        11.000000\n",
       "75%        12.000000\n",
       "max      1776.000000\n",
       "Name: rating_numerator, dtype: float64"
      ]
     },
     "execution_count": 18,
     "metadata": {},
     "output_type": "execute_result"
    }
   ],
   "source": [
    "archive.rating_numerator.describe()"
   ]
  },
  {
   "cell_type": "markdown",
   "metadata": {},
   "source": [
    "**There are quite a few utliers after 14, which seems to be the last number in the \"reasonable\" scale because of popularity with a decent amount of observations (54)**"
   ]
  },
  {
   "cell_type": "code",
   "execution_count": 19,
   "metadata": {},
   "outputs": [
    {
     "data": {
      "text/plain": [
       "10     2333\n",
       "11        3\n",
       "50        3\n",
       "80        2\n",
       "20        2\n",
       "2         1\n",
       "16        1\n",
       "40        1\n",
       "70        1\n",
       "15        1\n",
       "90        1\n",
       "110       1\n",
       "120       1\n",
       "130       1\n",
       "150       1\n",
       "170       1\n",
       "7         1\n",
       "0         1\n",
       "Name: rating_denominator, dtype: int64"
      ]
     },
     "execution_count": 19,
     "metadata": {},
     "output_type": "execute_result"
    }
   ],
   "source": [
    "archive.rating_denominator.value_counts()"
   ]
  },
  {
   "cell_type": "markdown",
   "metadata": {},
   "source": [
    "**Numbers that are not 10 don't really make much sense and are not very frequent. There are 3 '11's, but it doesn't make much sense to keep them. like the others, it's just messy data.**"
   ]
  },
  {
   "cell_type": "markdown",
   "metadata": {},
   "source": [
    "**Image dataframe**"
   ]
  },
  {
   "cell_type": "code",
   "execution_count": 21,
   "metadata": {},
   "outputs": [
    {
     "name": "stdout",
     "output_type": "stream",
     "text": [
      "<class 'pandas.core.frame.DataFrame'>\n",
      "RangeIndex: 2075 entries, 0 to 2074\n",
      "Data columns (total 12 columns):\n",
      "tweet_id    2075 non-null int64\n",
      "jpg_url     2075 non-null object\n",
      "img_num     2075 non-null int64\n",
      "p1          2075 non-null object\n",
      "p1_conf     2075 non-null float64\n",
      "p1_dog      2075 non-null bool\n",
      "p2          2075 non-null object\n",
      "p2_conf     2075 non-null float64\n",
      "p2_dog      2075 non-null bool\n",
      "p3          2075 non-null object\n",
      "p3_conf     2075 non-null float64\n",
      "p3_dog      2075 non-null bool\n",
      "dtypes: bool(3), float64(3), int64(2), object(4)\n",
      "memory usage: 152.1+ KB\n"
     ]
    }
   ],
   "source": [
    "image.info()"
   ]
  },
  {
   "cell_type": "code",
   "execution_count": 22,
   "metadata": {},
   "outputs": [
    {
     "data": {
      "text/plain": [
       "golden_retriever             150\n",
       "Labrador_retriever           100\n",
       "Pembroke                      89\n",
       "Chihuahua                     83\n",
       "pug                           57\n",
       "chow                          44\n",
       "Samoyed                       43\n",
       "toy_poodle                    39\n",
       "Pomeranian                    38\n",
       "malamute                      30\n",
       "cocker_spaniel                30\n",
       "French_bulldog                26\n",
       "Chesapeake_Bay_retriever      23\n",
       "miniature_pinscher            23\n",
       "seat_belt                     22\n",
       "Siberian_husky                20\n",
       "German_shepherd               20\n",
       "Staffordshire_bullterrier     20\n",
       "Cardigan                      19\n",
       "web_site                      19\n",
       "Maltese_dog                   18\n",
       "Eskimo_dog                    18\n",
       "beagle                        18\n",
       "Shetland_sheepdog             18\n",
       "teddy                         18\n",
       "Lakeland_terrier              17\n",
       "Rottweiler                    17\n",
       "Shih-Tzu                      17\n",
       "Italian_greyhound             16\n",
       "kuvasz                        16\n",
       "                            ... \n",
       "hare                           1\n",
       "wild_boar                      1\n",
       "leaf_beetle                    1\n",
       "standard_schnauzer             1\n",
       "flamingo                       1\n",
       "carousel                       1\n",
       "barbell                        1\n",
       "beaver                         1\n",
       "bison                          1\n",
       "remote_control                 1\n",
       "snowmobile                     1\n",
       "pillow                         1\n",
       "walking_stick                  1\n",
       "shopping_basket                1\n",
       "coral_reef                     1\n",
       "maze                           1\n",
       "soccer_ball                    1\n",
       "bib                            1\n",
       "pitcher                        1\n",
       "panpipe                        1\n",
       "pedestal                       1\n",
       "bighorn                        1\n",
       "canoe                          1\n",
       "limousine                      1\n",
       "tiger_shark                    1\n",
       "hammer                         1\n",
       "timber_wolf                    1\n",
       "damselfly                      1\n",
       "candle                         1\n",
       "padlock                        1\n",
       "Name: p1, Length: 378, dtype: int64"
      ]
     },
     "execution_count": 22,
     "metadata": {},
     "output_type": "execute_result"
    }
   ],
   "source": [
    "image.p1.value_counts()"
   ]
  },
  {
   "cell_type": "code",
   "execution_count": 23,
   "metadata": {},
   "outputs": [
    {
     "data": {
      "text/plain": [
       "True     1532\n",
       "False     543\n",
       "Name: p1_dog, dtype: int64"
      ]
     },
     "execution_count": 23,
     "metadata": {},
     "output_type": "execute_result"
    }
   ],
   "source": [
    "image.p1_dog.value_counts()"
   ]
  },
  {
   "cell_type": "code",
   "execution_count": 24,
   "metadata": {},
   "outputs": [
    {
     "data": {
      "text/plain": [
       "True     1553\n",
       "False     522\n",
       "Name: p2_dog, dtype: int64"
      ]
     },
     "execution_count": 24,
     "metadata": {},
     "output_type": "execute_result"
    }
   ],
   "source": [
    "image.p2_dog.value_counts()"
   ]
  },
  {
   "cell_type": "code",
   "execution_count": 25,
   "metadata": {},
   "outputs": [
    {
     "data": {
      "text/plain": [
       "True     1499\n",
       "False     576\n",
       "Name: p3_dog, dtype: int64"
      ]
     },
     "execution_count": 25,
     "metadata": {},
     "output_type": "execute_result"
    }
   ],
   "source": [
    "image.p3_dog.value_counts()"
   ]
  },
  {
   "cell_type": "markdown",
   "metadata": {},
   "source": [
    "**Since there are morte than 500 pictures in each of the 3 pX_dog variables (25%), it's likely that all tweets and pictures in this dataset do not correspond to dogs. We can also see this from the value_counts analysis of p1 above. Hence, I shall take this into consideration when I perform the analysis on the final dataset.**"
   ]
  },
  {
   "cell_type": "code",
   "execution_count": 26,
   "metadata": {
    "scrolled": true
   },
   "outputs": [
    {
     "data": {
      "text/plain": [
       "1    1780\n",
       "2     198\n",
       "3      66\n",
       "4      31\n",
       "Name: img_num, dtype: int64"
      ]
     },
     "execution_count": 26,
     "metadata": {},
     "output_type": "execute_result"
    }
   ],
   "source": [
    "image.img_num.value_counts()"
   ]
  },
  {
   "cell_type": "markdown",
   "metadata": {},
   "source": [
    "**Twjson dataframe**"
   ]
  },
  {
   "cell_type": "code",
   "execution_count": 29,
   "metadata": {},
   "outputs": [
    {
     "name": "stdout",
     "output_type": "stream",
     "text": [
      "<class 'pandas.core.frame.DataFrame'>\n",
      "RangeIndex: 2331 entries, 0 to 2330\n",
      "Data columns (total 32 columns):\n",
      "contributors                     0 non-null float64\n",
      "coordinates                      0 non-null float64\n",
      "created_at                       2331 non-null datetime64[ns]\n",
      "display_text_range               2331 non-null object\n",
      "entities                         2331 non-null object\n",
      "extended_entities                2059 non-null object\n",
      "favorite_count                   2331 non-null int64\n",
      "favorited                        2331 non-null bool\n",
      "full_text                        2331 non-null object\n",
      "geo                              0 non-null float64\n",
      "id                               2331 non-null int64\n",
      "id_str                           2331 non-null int64\n",
      "in_reply_to_screen_name          77 non-null object\n",
      "in_reply_to_status_id            77 non-null float64\n",
      "in_reply_to_status_id_str        77 non-null float64\n",
      "in_reply_to_user_id              77 non-null float64\n",
      "in_reply_to_user_id_str          77 non-null float64\n",
      "is_quote_status                  2331 non-null bool\n",
      "lang                             2331 non-null object\n",
      "place                            1 non-null object\n",
      "possibly_sensitive               2197 non-null float64\n",
      "possibly_sensitive_appealable    2197 non-null float64\n",
      "quoted_status                    24 non-null object\n",
      "quoted_status_id                 26 non-null float64\n",
      "quoted_status_id_str             26 non-null float64\n",
      "quoted_status_permalink          26 non-null object\n",
      "retweet_count                    2331 non-null int64\n",
      "retweeted                        2331 non-null bool\n",
      "retweeted_status                 163 non-null object\n",
      "source                           2331 non-null object\n",
      "truncated                        2331 non-null bool\n",
      "user                             2331 non-null object\n",
      "dtypes: bool(4), datetime64[ns](1), float64(11), int64(4), object(12)\n",
      "memory usage: 519.1+ KB\n"
     ]
    }
   ],
   "source": [
    "twjson.info()"
   ]
  },
  {
   "cell_type": "code",
   "execution_count": 30,
   "metadata": {},
   "outputs": [
    {
     "data": {
      "text/plain": [
       "0    892420643555336193\n",
       "1    892177421306343426\n",
       "2    891815181378084864\n",
       "3    891689557279858688\n",
       "4    891327558926688256\n",
       "5    891087950875897856\n",
       "6    890971913173991426\n",
       "7    890729181411237888\n",
       "8    890609185150312448\n",
       "9    890240255349198849\n",
       "Name: id, dtype: int64"
      ]
     },
     "execution_count": 30,
     "metadata": {},
     "output_type": "execute_result"
    }
   ],
   "source": [
    "twjson.id.head(10)"
   ]
  },
  {
   "cell_type": "markdown",
   "metadata": {},
   "source": [
    "**The id version seems to correspond to tweet_id in the other two tables. I will use this variable to merge them.**"
   ]
  },
  {
   "cell_type": "code",
   "execution_count": 31,
   "metadata": {
    "scrolled": true
   },
   "outputs": [
    {
     "data": {
      "text/plain": [
       "en     2313\n",
       "und       7\n",
       "nl        3\n",
       "in        3\n",
       "eu        1\n",
       "et        1\n",
       "tl        1\n",
       "es        1\n",
       "ro        1\n",
       "Name: lang, dtype: int64"
      ]
     },
     "execution_count": 31,
     "metadata": {},
     "output_type": "execute_result"
    }
   ],
   "source": [
    "twjson.lang.value_counts()"
   ]
  },
  {
   "cell_type": "markdown",
   "metadata": {},
   "source": [
    "**The language variable doen't seem to tell much of a story. It's overwhelmingly  English.**"
   ]
  },
  {
   "cell_type": "code",
   "execution_count": 32,
   "metadata": {},
   "outputs": [
    {
     "data": {
      "text/plain": [
       "False    2331\n",
       "Name: retweeted, dtype: int64"
      ]
     },
     "execution_count": 32,
     "metadata": {},
     "output_type": "execute_result"
    }
   ],
   "source": [
    "twjson.retweeted.value_counts()"
   ]
  },
  {
   "cell_type": "code",
   "execution_count": 35,
   "metadata": {},
   "outputs": [
    {
     "data": {
      "text/plain": [
       "2331"
      ]
     },
     "execution_count": 35,
     "metadata": {},
     "output_type": "execute_result"
    }
   ],
   "source": [
    "twjson.retweeted_status.isnull().count()"
   ]
  },
  {
   "cell_type": "code",
   "execution_count": 30,
   "metadata": {},
   "outputs": [
    {
     "data": {
      "text/plain": [
       "False    2331\n",
       "Name: favorited, dtype: int64"
      ]
     },
     "execution_count": 30,
     "metadata": {},
     "output_type": "execute_result"
    }
   ],
   "source": [
    "twjson.favorited.value_counts()"
   ]
  },
  {
   "cell_type": "markdown",
   "metadata": {},
   "source": [
    "**Variables 'favorited', 'favorited_status' and 'retweeted' don't provide additional information, as they are all false counts.** "
   ]
  },
  {
   "cell_type": "code",
   "execution_count": 32,
   "metadata": {},
   "outputs": [
    {
     "data": {
      "text/plain": [
       "dog_rates          47\n",
       "markhoppus          2\n",
       "ABC                 1\n",
       "LightningHoltt      1\n",
       "RealKentMurphy      1\n",
       "ComplicitOwl        1\n",
       "docmisterio         1\n",
       "CommonWhiteGirI     1\n",
       "shibbnbot           1\n",
       "NBCSports           1\n",
       "ABC7                1\n",
       "JODYHiGHROLLER      1\n",
       "Jack_Septic_Eye     1\n",
       "mount_alex3         1\n",
       "Marc_IRL            1\n",
       "s8n                 1\n",
       "roushfenway         1\n",
       "serial              1\n",
       "wane15              1\n",
       "UNC                 1\n",
       "spaghemily          1\n",
       "0_kelvin_0          1\n",
       "dhmontgomery        1\n",
       "imgur               1\n",
       "NonWhiteHat         1\n",
       "SweetsyPeets        1\n",
       "HistoryInPics       1\n",
       "jonnysun            1\n",
       "TheEllenShow        1\n",
       "SkyWilliams         1\n",
       "Name: in_reply_to_screen_name, dtype: int64"
      ]
     },
     "execution_count": 32,
     "metadata": {},
     "output_type": "execute_result"
    }
   ],
   "source": [
    "twjson.in_reply_to_screen_name.value_counts() "
   ]
  },
  {
   "cell_type": "markdown",
   "metadata": {},
   "source": [
    "**Most likely, not very useful information here, as most other non 'dog_rate' values are '1'.**"
   ]
  },
  {
   "cell_type": "code",
   "execution_count": 36,
   "metadata": {},
   "outputs": [
    {
     "data": {
      "text/plain": [
       "0.0    2197\n",
       "Name: possibly_sensitive_appealable, dtype: int64"
      ]
     },
     "execution_count": 36,
     "metadata": {},
     "output_type": "execute_result"
    }
   ],
   "source": [
    "twjson.possibly_sensitive_appealable.value_counts() "
   ]
  },
  {
   "cell_type": "code",
   "execution_count": 37,
   "metadata": {},
   "outputs": [
    {
     "data": {
      "text/plain": [
       "2331"
      ]
     },
     "execution_count": 37,
     "metadata": {},
     "output_type": "execute_result"
    }
   ],
   "source": [
    "twjson.quoted_status.isnull().count()"
   ]
  },
  {
   "cell_type": "markdown",
   "metadata": {},
   "source": [
    "**Quoted_status doesn't seem to provide any additional info.**"
   ]
  },
  {
   "cell_type": "code",
   "execution_count": 42,
   "metadata": {},
   "outputs": [
    {
     "data": {
      "text/plain": [
       "<a href=\"http://twitter.com/download/iphone\" rel=\"nofollow\">Twitter for iPhone</a>     2197\n",
       "<a href=\"http://vine.co\" rel=\"nofollow\">Vine - Make a Scene</a>                          91\n",
       "<a href=\"http://twitter.com\" rel=\"nofollow\">Twitter Web Client</a>                       33\n",
       "<a href=\"https://about.twitter.com/products/tweetdeck\" rel=\"nofollow\">TweetDeck</a>      10\n",
       "Name: source, dtype: int64"
      ]
     },
     "execution_count": 42,
     "metadata": {},
     "output_type": "execute_result"
    }
   ],
   "source": [
    "twjson.source.value_counts()"
   ]
  },
  {
   "cell_type": "markdown",
   "metadata": {},
   "source": [
    "**Source doesnt's seem to provide much additional information for the analysis. The vast majority of tweets, 2197, are coming from an iphone app.**"
   ]
  },
  {
   "cell_type": "markdown",
   "metadata": {},
   "source": [
    "**Quality**  \n",
    "**archive table**  \n",
    "1) Some tweets are retweets    \n",
    "2) Some words are not names in the 'name' column  \n",
    "3) Many outliers in rating_numerator variable that don't seem to correspond to a ranking system    \n",
    "4) Many outliers in rating_denominator variable that don't seem to correspond to a ranking system   \n",
    "5) Erroneous datatype for Doggo, Puppo, Floofer and Pupper. They'd be more useful as dummies (integers).   \n",
    "6) Timestamp type is an object. It would be more useful as a datetime.  \n",
    "**twjson table**  \n",
    "7) Display_text_range is an object.It's more useful as an integer that represents the number of characters in the tweet.    \n",
    "8) 'User' is a dictionary. It would be more useful to just have the user_id as an integer, much like the 'tweet_id'.   \n",
    "**image table**   \n",
    "9) p1_dog, p2_dog, p3_dog are boolean, but would be more useful as dummies for purpose of the analysis. \n",
    "\n",
    "**Tidiness**   \n",
    "1) In the twjson table, 'favorite_count', retweet_count should be one variable as a measure of popularity of the tweet with followers.    \n",
    "2) In the twjson table, 'favorite_count', 'retweet_count', 'display_text_range and 'user'could be consolidated with the archive table for analysis purposes.   \n",
    "3) In the image table, p1_dog, p2_dog, p3_dog signal if dog/not dog, but there is no single “is_dog” variable.       \n",
    "4) p1, p2 and p3 are the likely breeds of the dogs. We can use p1 as the most likely breed, change it’s name and add it to the archive table to consolidate one dataframe along with the ‘is dog” variable.         \n",
    "\n",
    "\n"
   ]
  },
  {
   "cell_type": "markdown",
   "metadata": {},
   "source": [
    "### Clean"
   ]
  },
  {
   "cell_type": "code",
   "execution_count": 402,
   "metadata": {},
   "outputs": [],
   "source": [
    "archive_c=archive.copy()\n",
    "image_c=image.copy()\n",
    "twjson_c=twjson.copy()"
   ]
  },
  {
   "cell_type": "markdown",
   "metadata": {},
   "source": [
    "#### Quality"
   ]
  },
  {
   "cell_type": "markdown",
   "metadata": {},
   "source": [
    "##### Some tweets are retweets. The latter should be removed "
   ]
  },
  {
   "cell_type": "markdown",
   "metadata": {},
   "source": [
    "**Define**"
   ]
  },
  {
   "cell_type": "markdown",
   "metadata": {},
   "source": [
    "*Remove non-empty rows from retweeted_status_id. Remove empty columns retweeted_status_id, retweeted_status_user_id and retweeted_status_timestamp.*"
   ]
  },
  {
   "cell_type": "markdown",
   "metadata": {},
   "source": [
    "**Code**"
   ]
  },
  {
   "cell_type": "code",
   "execution_count": 403,
   "metadata": {},
   "outputs": [],
   "source": [
    "archive_c=archive_c[np.isnan(archive_c.retweeted_status_id)]"
   ]
  },
  {
   "cell_type": "code",
   "execution_count": 404,
   "metadata": {},
   "outputs": [],
   "source": [
    "archive_c = archive_c.reset_index(drop=True)"
   ]
  },
  {
   "cell_type": "code",
   "execution_count": 405,
   "metadata": {},
   "outputs": [
    {
     "data": {
      "text/plain": [
       "tweet_id                      2175\n",
       "in_reply_to_status_id           77\n",
       "in_reply_to_user_id             31\n",
       "timestamp                     2175\n",
       "source                           4\n",
       "text                          2175\n",
       "retweeted_status_id              0\n",
       "retweeted_status_user_id         0\n",
       "retweeted_status_timestamp       0\n",
       "expanded_urls                 2116\n",
       "rating_numerator                40\n",
       "rating_denominator              18\n",
       "name                           956\n",
       "doggo                            2\n",
       "floofer                          2\n",
       "pupper                           2\n",
       "puppo                            2\n",
       "dtype: int64"
      ]
     },
     "execution_count": 405,
     "metadata": {},
     "output_type": "execute_result"
    }
   ],
   "source": [
    "archive_c.nunique()"
   ]
  },
  {
   "cell_type": "markdown",
   "metadata": {},
   "source": [
    "**There are no more retweeted status ids. The number of tweet ids (2175) corresponds to the original 2356 minues de 181 that have been dropped.**"
   ]
  },
  {
   "cell_type": "code",
   "execution_count": 406,
   "metadata": {},
   "outputs": [],
   "source": [
    "archive_c=archive_c.drop(columns=['retweeted_status_id', 'retweeted_status_user_id', 'retweeted_status_timestamp'])"
   ]
  },
  {
   "cell_type": "markdown",
   "metadata": {},
   "source": [
    "**Test**"
   ]
  },
  {
   "cell_type": "code",
   "execution_count": 407,
   "metadata": {},
   "outputs": [
    {
     "data": {
      "text/plain": [
       "tweet_id                 2175\n",
       "in_reply_to_status_id      77\n",
       "in_reply_to_user_id        31\n",
       "timestamp                2175\n",
       "source                      4\n",
       "text                     2175\n",
       "expanded_urls            2116\n",
       "rating_numerator           40\n",
       "rating_denominator         18\n",
       "name                      956\n",
       "doggo                       2\n",
       "floofer                     2\n",
       "pupper                      2\n",
       "puppo                       2\n",
       "dtype: int64"
      ]
     },
     "execution_count": 407,
     "metadata": {},
     "output_type": "execute_result"
    }
   ],
   "source": [
    "archive_c.nunique()"
   ]
  },
  {
   "cell_type": "markdown",
   "metadata": {},
   "source": [
    "*The three columns have been dropped and the 2175 tweet ids are there.**"
   ]
  },
  {
   "cell_type": "markdown",
   "metadata": {},
   "source": [
    "##### Words that are not names in 'name' variable  \n",
    "**Define**"
   ]
  },
  {
   "cell_type": "markdown",
   "metadata": {},
   "source": [
    "*Replace all non capitalized words (i.e. not names) with None* "
   ]
  },
  {
   "cell_type": "markdown",
   "metadata": {},
   "source": [
    "**Code**"
   ]
  },
  {
   "cell_type": "code",
   "execution_count": 408,
   "metadata": {},
   "outputs": [],
   "source": [
    "lower_case=archive_c.name.str.findall('^[a-z]+')"
   ]
  },
  {
   "cell_type": "code",
   "execution_count": 409,
   "metadata": {},
   "outputs": [
    {
     "data": {
      "text/plain": [
       "0            []\n",
       "1            []\n",
       "2            []\n",
       "3            []\n",
       "4            []\n",
       "5            []\n",
       "6            []\n",
       "7            []\n",
       "8            []\n",
       "9            []\n",
       "10           []\n",
       "11           []\n",
       "12           []\n",
       "13           []\n",
       "14           []\n",
       "15           []\n",
       "16           []\n",
       "17           []\n",
       "18           []\n",
       "19           []\n",
       "20           []\n",
       "21       [such]\n",
       "22           []\n",
       "23           []\n",
       "24           []\n",
       "25           []\n",
       "26           []\n",
       "27           []\n",
       "28           []\n",
       "29           []\n",
       "         ...   \n",
       "2145    [quite]\n",
       "2146        [a]\n",
       "2147         []\n",
       "2148         []\n",
       "2149         []\n",
       "2150         []\n",
       "2151         []\n",
       "2152       [an]\n",
       "2153        [a]\n",
       "2154       [an]\n",
       "2155         []\n",
       "2156         []\n",
       "2157         []\n",
       "2158         []\n",
       "2159         []\n",
       "2160         []\n",
       "2161         []\n",
       "2162         []\n",
       "2163         []\n",
       "2164      [the]\n",
       "2165      [the]\n",
       "2166        [a]\n",
       "2167        [a]\n",
       "2168       [an]\n",
       "2169        [a]\n",
       "2170         []\n",
       "2171        [a]\n",
       "2172        [a]\n",
       "2173        [a]\n",
       "2174         []\n",
       "Name: name, Length: 2175, dtype: object"
      ]
     },
     "execution_count": 409,
     "metadata": {},
     "output_type": "execute_result"
    }
   ],
   "source": [
    "lower_case"
   ]
  },
  {
   "cell_type": "markdown",
   "metadata": {},
   "source": [
    "*Identify indices with lower case. Create a list*"
   ]
  },
  {
   "cell_type": "code",
   "execution_count": 410,
   "metadata": {},
   "outputs": [
    {
     "name": "stdout",
     "output_type": "stream",
     "text": [
      "[21, 53, 147, 167, 282, 310, 450, 524, 647, 662, 689, 753, 813, 817, 818, 827, 829, 841, 848, 854, 863, 871, 885, 893, 917, 919, 942, 943, 960, 1015, 1028, 1029, 1080, 1161, 1172, 1182, 1183, 1189, 1203, 1206, 1256, 1278, 1320, 1348, 1424, 1514, 1545, 1558, 1568, 1606, 1618, 1636, 1674, 1675, 1698, 1699, 1737, 1744, 1757, 1762, 1776, 1815, 1822, 1840, 1851, 1855, 1858, 1887, 1937, 1946, 1949, 1967, 1974, 1982, 2012, 2019, 2025, 2032, 2033, 2039, 2043, 2056, 2070, 2076, 2083, 2092, 2106, 2123, 2130, 2133, 2145, 2146, 2152, 2153, 2154, 2164, 2165, 2166, 2167, 2168, 2169, 2171, 2172, 2173]\n"
     ]
    }
   ],
   "source": [
    "indices=[]\n",
    "p=0\n",
    "for p in range(len(lower_case)):\n",
    "    if lower_case[p] != []:\n",
    "       indices.append(p)  \n",
    "print(indices)    "
   ]
  },
  {
   "cell_type": "markdown",
   "metadata": {},
   "source": [
    "*Replace words in indices list with 'None'*"
   ]
  },
  {
   "cell_type": "code",
   "execution_count": 411,
   "metadata": {},
   "outputs": [],
   "source": [
    "archive_c.loc[indices,'name'] = 'None'"
   ]
  },
  {
   "cell_type": "markdown",
   "metadata": {},
   "source": [
    "**Test**"
   ]
  },
  {
   "cell_type": "code",
   "execution_count": 412,
   "metadata": {},
   "outputs": [],
   "source": [
    "new_lower_case=archive_c.name.str.findall('^[a-z]+')"
   ]
  },
  {
   "cell_type": "code",
   "execution_count": 65,
   "metadata": {},
   "outputs": [
    {
     "data": {
      "text/plain": [
       "0       []\n",
       "1       []\n",
       "2       []\n",
       "3       []\n",
       "4       []\n",
       "5       []\n",
       "6       []\n",
       "7       []\n",
       "8       []\n",
       "9       []\n",
       "10      []\n",
       "11      []\n",
       "12      []\n",
       "13      []\n",
       "14      []\n",
       "15      []\n",
       "16      []\n",
       "17      []\n",
       "18      []\n",
       "19      []\n",
       "20      []\n",
       "21      []\n",
       "22      []\n",
       "23      []\n",
       "24      []\n",
       "25      []\n",
       "26      []\n",
       "27      []\n",
       "28      []\n",
       "29      []\n",
       "        ..\n",
       "2145    []\n",
       "2146    []\n",
       "2147    []\n",
       "2148    []\n",
       "2149    []\n",
       "2150    []\n",
       "2151    []\n",
       "2152    []\n",
       "2153    []\n",
       "2154    []\n",
       "2155    []\n",
       "2156    []\n",
       "2157    []\n",
       "2158    []\n",
       "2159    []\n",
       "2160    []\n",
       "2161    []\n",
       "2162    []\n",
       "2163    []\n",
       "2164    []\n",
       "2165    []\n",
       "2166    []\n",
       "2167    []\n",
       "2168    []\n",
       "2169    []\n",
       "2170    []\n",
       "2171    []\n",
       "2172    []\n",
       "2173    []\n",
       "2174    []\n",
       "Name: name, Length: 2175, dtype: object"
      ]
     },
     "execution_count": 65,
     "metadata": {},
     "output_type": "execute_result"
    }
   ],
   "source": [
    "new_lower_case"
   ]
  },
  {
   "cell_type": "code",
   "execution_count": 413,
   "metadata": {},
   "outputs": [
    {
     "data": {
      "text/plain": [
       "None          784\n",
       "Charlie        11\n",
       "Lucy           11\n",
       "Cooper         10\n",
       "Oliver         10\n",
       "Penny           9\n",
       "Tucker          9\n",
       "Sadie           8\n",
       "Lola            8\n",
       "Winston         8\n",
       "Daisy           7\n",
       "Toby            7\n",
       "Jax             6\n",
       "Stanley         6\n",
       "Oscar           6\n",
       "Koda            6\n",
       "Bella           6\n",
       "Bo              6\n",
       "Bailey          6\n",
       "Dave            5\n",
       "Chester         5\n",
       "Scout           5\n",
       "Bentley         5\n",
       "Buddy           5\n",
       "Rusty           5\n",
       "Louis           5\n",
       "Leo             5\n",
       "Milo            5\n",
       "Alfie           4\n",
       "Boomer          4\n",
       "             ... \n",
       "Pavlov          1\n",
       "Kallie          1\n",
       "Lilly           1\n",
       "Jiminus         1\n",
       "Jangle          1\n",
       "Pawnd           1\n",
       "Rodney          1\n",
       "Julio           1\n",
       "Laika           1\n",
       "Stewie          1\n",
       "Filup           1\n",
       "Brandonald      1\n",
       "Teddy           1\n",
       "Chuck           1\n",
       "Shikha          1\n",
       "Cermet          1\n",
       "Nico            1\n",
       "Harvey          1\n",
       "Jim             1\n",
       "Boston          1\n",
       "Stephanus       1\n",
       "Diogi           1\n",
       "Horace          1\n",
       "Rambo           1\n",
       "Duddles         1\n",
       "Geoff           1\n",
       "Alf             1\n",
       "Dobby           1\n",
       "Dido            1\n",
       "Tuck            1\n",
       "Name: name, Length: 931, dtype: int64"
      ]
     },
     "execution_count": 413,
     "metadata": {},
     "output_type": "execute_result"
    }
   ],
   "source": [
    "archive_c.name.value_counts()"
   ]
  },
  {
   "cell_type": "markdown",
   "metadata": {},
   "source": [
    "##### Find and correct outliers in rating_numerator    \n",
    "**Define**"
   ]
  },
  {
   "cell_type": "code",
   "execution_count": 414,
   "metadata": {
    "scrolled": true
   },
   "outputs": [],
   "source": [
    "outliersup=archive_c[archive_c['rating_numerator'] > 15]"
   ]
  },
  {
   "cell_type": "code",
   "execution_count": 415,
   "metadata": {},
   "outputs": [
    {
     "data": {
      "text/plain": [
       "25"
      ]
     },
     "execution_count": 415,
     "metadata": {},
     "output_type": "execute_result"
    }
   ],
   "source": [
    "outliersup.rating_numerator.count()"
   ]
  },
  {
   "cell_type": "markdown",
   "metadata": {},
   "source": [
    "**We have potentially 25 cases to investigate**"
   ]
  },
  {
   "cell_type": "markdown",
   "metadata": {},
   "source": [
    "**The first approach will be to find and update incorrect ratings by spotting mistakes in the denominator. It denominator is not 10, maybe something was wrong with the text extraction.**"
   ]
  },
  {
   "cell_type": "markdown",
   "metadata": {},
   "source": [
    "**Code**"
   ]
  },
  {
   "cell_type": "code",
   "execution_count": 416,
   "metadata": {},
   "outputs": [],
   "source": [
    "explore=archive_c[archive_c['rating_denominator'] != 10]"
   ]
  },
  {
   "cell_type": "code",
   "execution_count": 417,
   "metadata": {},
   "outputs": [
    {
     "data": {
      "text/plain": [
       "tweet_id                 22\n",
       "in_reply_to_status_id     5\n",
       "in_reply_to_user_id       3\n",
       "timestamp                22\n",
       "source                    1\n",
       "text                     22\n",
       "expanded_urls            18\n",
       "rating_numerator         21\n",
       "rating_denominator       17\n",
       "name                      4\n",
       "doggo                     1\n",
       "floofer                   1\n",
       "pupper                    1\n",
       "puppo                     1\n",
       "dtype: int64"
      ]
     },
     "execution_count": 417,
     "metadata": {},
     "output_type": "execute_result"
    }
   ],
   "source": [
    "explore.nunique()"
   ]
  },
  {
   "cell_type": "markdown",
   "metadata": {},
   "source": [
    "**Only 22 cases to investigate. A smaller dataframe will help visually**"
   ]
  },
  {
   "cell_type": "code",
   "execution_count": 418,
   "metadata": {},
   "outputs": [],
   "source": [
    "explore1=explore.filter(['tweet_id','text','rating_numerator', 'rating_denominator'])"
   ]
  },
  {
   "cell_type": "code",
   "execution_count": 419,
   "metadata": {},
   "outputs": [],
   "source": [
    "pd.options.display.max_colwidth = 150"
   ]
  },
  {
   "cell_type": "code",
   "execution_count": 420,
   "metadata": {
    "scrolled": true
   },
   "outputs": [
    {
     "data": {
      "text/html": [
       "<div>\n",
       "<style scoped>\n",
       "    .dataframe tbody tr th:only-of-type {\n",
       "        vertical-align: middle;\n",
       "    }\n",
       "\n",
       "    .dataframe tbody tr th {\n",
       "        vertical-align: top;\n",
       "    }\n",
       "\n",
       "    .dataframe thead th {\n",
       "        text-align: right;\n",
       "    }\n",
       "</style>\n",
       "<table border=\"1\" class=\"dataframe\">\n",
       "  <thead>\n",
       "    <tr style=\"text-align: right;\">\n",
       "      <th></th>\n",
       "      <th>tweet_id</th>\n",
       "      <th>text</th>\n",
       "      <th>rating_numerator</th>\n",
       "      <th>rating_denominator</th>\n",
       "    </tr>\n",
       "  </thead>\n",
       "  <tbody>\n",
       "    <tr>\n",
       "      <th>263</th>\n",
       "      <td>835246439529840640</td>\n",
       "      <td>@jonnysun @Lin_Manuel ok jomny I know you're excited but 960/00 isn't a valid rating, 13/10 is tho</td>\n",
       "      <td>960</td>\n",
       "      <td>0</td>\n",
       "    </tr>\n",
       "    <tr>\n",
       "      <th>287</th>\n",
       "      <td>832088576586297345</td>\n",
       "      <td>@docmisterio account started on 11/15/15</td>\n",
       "      <td>11</td>\n",
       "      <td>15</td>\n",
       "    </tr>\n",
       "    <tr>\n",
       "      <th>363</th>\n",
       "      <td>820690176645140481</td>\n",
       "      <td>The floofs have been released I repeat the floofs have been released. 84/70 https://t.co/NIYC820tmd</td>\n",
       "      <td>84</td>\n",
       "      <td>70</td>\n",
       "    </tr>\n",
       "    <tr>\n",
       "      <th>429</th>\n",
       "      <td>810984652412424192</td>\n",
       "      <td>Meet Sam. She smiles 24/7 &amp;amp; secretly aspires to be a reindeer. \\nKeep Sam smiling by clicking and sharing this link:\\nhttps://t.co/98tB8y7y7t ...</td>\n",
       "      <td>24</td>\n",
       "      <td>7</td>\n",
       "    </tr>\n",
       "    <tr>\n",
       "      <th>733</th>\n",
       "      <td>758467244762497024</td>\n",
       "      <td>Why does this never happen at my front door... 165/150 https://t.co/HmwrdfEfUE</td>\n",
       "      <td>165</td>\n",
       "      <td>150</td>\n",
       "    </tr>\n",
       "    <tr>\n",
       "      <th>890</th>\n",
       "      <td>740373189193256964</td>\n",
       "      <td>After so many requests, this is Bretagne. She was the last surviving 9/11 search dog, and our second ever 14/10. RIP https://t.co/XAVDNDaVgQ</td>\n",
       "      <td>9</td>\n",
       "      <td>11</td>\n",
       "    </tr>\n",
       "    <tr>\n",
       "      <th>942</th>\n",
       "      <td>731156023742988288</td>\n",
       "      <td>Say hello to this unbelievably well behaved squad of doggos. 204/170 would try to pet all at once https://t.co/yGQI3He3xv</td>\n",
       "      <td>204</td>\n",
       "      <td>170</td>\n",
       "    </tr>\n",
       "    <tr>\n",
       "      <th>987</th>\n",
       "      <td>722974582966214656</td>\n",
       "      <td>Happy 4/20 from the squad! 13/10 for all https://t.co/eV1diwds8a</td>\n",
       "      <td>4</td>\n",
       "      <td>20</td>\n",
       "    </tr>\n",
       "    <tr>\n",
       "      <th>1024</th>\n",
       "      <td>716439118184652801</td>\n",
       "      <td>This is Bluebert. He just saw that both #FinalFur match ups are split 50/50. Amazed af. 11/10 https://t.co/Kky1DPG4iq</td>\n",
       "      <td>50</td>\n",
       "      <td>50</td>\n",
       "    </tr>\n",
       "    <tr>\n",
       "      <th>1050</th>\n",
       "      <td>713900603437621249</td>\n",
       "      <td>Happy Saturday here's 9 puppers on a bench. 99/90 good work everybody https://t.co/mpvaVxKmc1</td>\n",
       "      <td>99</td>\n",
       "      <td>90</td>\n",
       "    </tr>\n",
       "    <tr>\n",
       "      <th>1075</th>\n",
       "      <td>710658690886586372</td>\n",
       "      <td>Here's a brigade of puppers. All look very prepared for whatever happens next. 80/80 https://t.co/0eb7R1Om12</td>\n",
       "      <td>80</td>\n",
       "      <td>80</td>\n",
       "    </tr>\n",
       "  </tbody>\n",
       "</table>\n",
       "</div>"
      ],
      "text/plain": [
       "                tweet_id  \\\n",
       "263   835246439529840640   \n",
       "287   832088576586297345   \n",
       "363   820690176645140481   \n",
       "429   810984652412424192   \n",
       "733   758467244762497024   \n",
       "890   740373189193256964   \n",
       "942   731156023742988288   \n",
       "987   722974582966214656   \n",
       "1024  716439118184652801   \n",
       "1050  713900603437621249   \n",
       "1075  710658690886586372   \n",
       "\n",
       "                                                                                                                                                       text  \\\n",
       "263                                                      @jonnysun @Lin_Manuel ok jomny I know you're excited but 960/00 isn't a valid rating, 13/10 is tho   \n",
       "287                                                                                                                @docmisterio account started on 11/15/15   \n",
       "363                                                     The floofs have been released I repeat the floofs have been released. 84/70 https://t.co/NIYC820tmd   \n",
       "429   Meet Sam. She smiles 24/7 &amp; secretly aspires to be a reindeer. \\nKeep Sam smiling by clicking and sharing this link:\\nhttps://t.co/98tB8y7y7t ...   \n",
       "733                                                                          Why does this never happen at my front door... 165/150 https://t.co/HmwrdfEfUE   \n",
       "890            After so many requests, this is Bretagne. She was the last surviving 9/11 search dog, and our second ever 14/10. RIP https://t.co/XAVDNDaVgQ   \n",
       "942                               Say hello to this unbelievably well behaved squad of doggos. 204/170 would try to pet all at once https://t.co/yGQI3He3xv   \n",
       "987                                                                                        Happy 4/20 from the squad! 13/10 for all https://t.co/eV1diwds8a   \n",
       "1024                                  This is Bluebert. He just saw that both #FinalFur match ups are split 50/50. Amazed af. 11/10 https://t.co/Kky1DPG4iq   \n",
       "1050                                                          Happy Saturday here's 9 puppers on a bench. 99/90 good work everybody https://t.co/mpvaVxKmc1   \n",
       "1075                                           Here's a brigade of puppers. All look very prepared for whatever happens next. 80/80 https://t.co/0eb7R1Om12   \n",
       "\n",
       "      rating_numerator  rating_denominator  \n",
       "263                960                   0  \n",
       "287                 11                  15  \n",
       "363                 84                  70  \n",
       "429                 24                   7  \n",
       "733                165                 150  \n",
       "890                  9                  11  \n",
       "942                204                 170  \n",
       "987                  4                  20  \n",
       "1024                50                  50  \n",
       "1050                99                  90  \n",
       "1075                80                  80  "
      ]
     },
     "execution_count": 420,
     "metadata": {},
     "output_type": "execute_result"
    }
   ],
   "source": [
    "explore1.head(11)"
   ]
  },
  {
   "cell_type": "markdown",
   "metadata": {},
   "source": [
    "New ratings  \n",
    "263:  13-10  \n",
    "287:  no rating   \n",
    "363:  12-10    \n",
    "429:  no rating     \n",
    "733: 11-10     \n",
    "890: 14-10  \n",
    "942: 12-10  \n",
    "987: 13-10   \n",
    "1024: 11-10   \n",
    "1050: 11-10   \n",
    "1075: 10-10"
   ]
  },
  {
   "cell_type": "code",
   "execution_count": 421,
   "metadata": {},
   "outputs": [
    {
     "data": {
      "text/html": [
       "<div>\n",
       "<style scoped>\n",
       "    .dataframe tbody tr th:only-of-type {\n",
       "        vertical-align: middle;\n",
       "    }\n",
       "\n",
       "    .dataframe tbody tr th {\n",
       "        vertical-align: top;\n",
       "    }\n",
       "\n",
       "    .dataframe thead th {\n",
       "        text-align: right;\n",
       "    }\n",
       "</style>\n",
       "<table border=\"1\" class=\"dataframe\">\n",
       "  <thead>\n",
       "    <tr style=\"text-align: right;\">\n",
       "      <th></th>\n",
       "      <th>tweet_id</th>\n",
       "      <th>text</th>\n",
       "      <th>rating_numerator</th>\n",
       "      <th>rating_denominator</th>\n",
       "    </tr>\n",
       "  </thead>\n",
       "  <tbody>\n",
       "    <tr>\n",
       "      <th>1095</th>\n",
       "      <td>709198395643068416</td>\n",
       "      <td>From left to right:\\nCletus, Jerome, Alejandro, Burp, &amp;amp; Titson\\nNone know where camera is. 45/50 would hug all at once https://t.co/sedre1ivTK</td>\n",
       "      <td>45</td>\n",
       "      <td>50</td>\n",
       "    </tr>\n",
       "    <tr>\n",
       "      <th>1172</th>\n",
       "      <td>704054845121142784</td>\n",
       "      <td>Here is a whole flock of puppers.  60/50 I'll take the lot https://t.co/9dpcw6MdWa</td>\n",
       "      <td>60</td>\n",
       "      <td>50</td>\n",
       "    </tr>\n",
       "    <tr>\n",
       "      <th>1254</th>\n",
       "      <td>697463031882764288</td>\n",
       "      <td>Happy Wednesday here's a bucket of pups. 44/40 would pet all at once https://t.co/HppvrYuamZ</td>\n",
       "      <td>44</td>\n",
       "      <td>40</td>\n",
       "    </tr>\n",
       "    <tr>\n",
       "      <th>1419</th>\n",
       "      <td>686035780142297088</td>\n",
       "      <td>Yes I do realize a rating of 4/20 would've been fitting. However, it would be unjust to give these cooperative pups that low of a rating</td>\n",
       "      <td>4</td>\n",
       "      <td>20</td>\n",
       "    </tr>\n",
       "    <tr>\n",
       "      <th>1455</th>\n",
       "      <td>684225744407494656</td>\n",
       "      <td>Two sneaky puppers were not initially seen, moving the rating to 143/130. Please forgive us. Thank you https://t.co/kRK51Y5ac3</td>\n",
       "      <td>143</td>\n",
       "      <td>130</td>\n",
       "    </tr>\n",
       "    <tr>\n",
       "      <th>1456</th>\n",
       "      <td>684222868335505415</td>\n",
       "      <td>Someone help the girl is being mugged. Several are distracting her while two steal her shoes. Clever puppers 121/110 https://t.co/1zfnTJLt55</td>\n",
       "      <td>121</td>\n",
       "      <td>110</td>\n",
       "    </tr>\n",
       "    <tr>\n",
       "      <th>1483</th>\n",
       "      <td>682962037429899265</td>\n",
       "      <td>This is Darrel. He just robbed a 7/11 and is in a high speed police chase. Was just spotted by the helicopter 10/10 https://t.co/7EsP8LmSp5</td>\n",
       "      <td>7</td>\n",
       "      <td>11</td>\n",
       "    </tr>\n",
       "    <tr>\n",
       "      <th>1484</th>\n",
       "      <td>682808988178739200</td>\n",
       "      <td>I'm aware that I could've said 20/16, but here at WeRateDogs we are very professional. An inconsistent rating scale is simply irresponsible</td>\n",
       "      <td>20</td>\n",
       "      <td>16</td>\n",
       "    </tr>\n",
       "    <tr>\n",
       "      <th>1600</th>\n",
       "      <td>677716515794329600</td>\n",
       "      <td>IT'S PUPPERGEDDON. Total of 144/120 ...I think https://t.co/ZanVtAtvIq</td>\n",
       "      <td>144</td>\n",
       "      <td>120</td>\n",
       "    </tr>\n",
       "    <tr>\n",
       "      <th>1664</th>\n",
       "      <td>675853064436391936</td>\n",
       "      <td>Here we have an entire platoon of puppers. Total score: 88/80 would pet all at once https://t.co/y93p6FLvVw</td>\n",
       "      <td>88</td>\n",
       "      <td>80</td>\n",
       "    </tr>\n",
       "    <tr>\n",
       "      <th>2154</th>\n",
       "      <td>666287406224695296</td>\n",
       "      <td>This is an Albanian 3 1/2 legged  Episcopalian. Loves well-polished hardwood flooring. Penis on the collar. 9/10 https://t.co/d9NcXFKwLv</td>\n",
       "      <td>1</td>\n",
       "      <td>2</td>\n",
       "    </tr>\n",
       "  </tbody>\n",
       "</table>\n",
       "</div>"
      ],
      "text/plain": [
       "                tweet_id  \\\n",
       "1095  709198395643068416   \n",
       "1172  704054845121142784   \n",
       "1254  697463031882764288   \n",
       "1419  686035780142297088   \n",
       "1455  684225744407494656   \n",
       "1456  684222868335505415   \n",
       "1483  682962037429899265   \n",
       "1484  682808988178739200   \n",
       "1600  677716515794329600   \n",
       "1664  675853064436391936   \n",
       "2154  666287406224695296   \n",
       "\n",
       "                                                                                                                                                    text  \\\n",
       "1095  From left to right:\\nCletus, Jerome, Alejandro, Burp, &amp; Titson\\nNone know where camera is. 45/50 would hug all at once https://t.co/sedre1ivTK   \n",
       "1172                                                                  Here is a whole flock of puppers.  60/50 I'll take the lot https://t.co/9dpcw6MdWa   \n",
       "1254                                                        Happy Wednesday here's a bucket of pups. 44/40 would pet all at once https://t.co/HppvrYuamZ   \n",
       "1419            Yes I do realize a rating of 4/20 would've been fitting. However, it would be unjust to give these cooperative pups that low of a rating   \n",
       "1455                      Two sneaky puppers were not initially seen, moving the rating to 143/130. Please forgive us. Thank you https://t.co/kRK51Y5ac3   \n",
       "1456        Someone help the girl is being mugged. Several are distracting her while two steal her shoes. Clever puppers 121/110 https://t.co/1zfnTJLt55   \n",
       "1483         This is Darrel. He just robbed a 7/11 and is in a high speed police chase. Was just spotted by the helicopter 10/10 https://t.co/7EsP8LmSp5   \n",
       "1484         I'm aware that I could've said 20/16, but here at WeRateDogs we are very professional. An inconsistent rating scale is simply irresponsible   \n",
       "1600                                                                              IT'S PUPPERGEDDON. Total of 144/120 ...I think https://t.co/ZanVtAtvIq   \n",
       "1664                                         Here we have an entire platoon of puppers. Total score: 88/80 would pet all at once https://t.co/y93p6FLvVw   \n",
       "2154            This is an Albanian 3 1/2 legged  Episcopalian. Loves well-polished hardwood flooring. Penis on the collar. 9/10 https://t.co/d9NcXFKwLv   \n",
       "\n",
       "      rating_numerator  rating_denominator  \n",
       "1095                45                  50  \n",
       "1172                60                  50  \n",
       "1254                44                  40  \n",
       "1419                 4                  20  \n",
       "1455               143                 130  \n",
       "1456               121                 110  \n",
       "1483                 7                  11  \n",
       "1484                20                  16  \n",
       "1600               144                 120  \n",
       "1664                88                  80  \n",
       "2154                 1                   2  "
      ]
     },
     "execution_count": 421,
     "metadata": {},
     "output_type": "execute_result"
    }
   ],
   "source": [
    "explore1.tail(11)"
   ]
  },
  {
   "cell_type": "markdown",
   "metadata": {},
   "source": [
    "*New ratings   \n",
    "1095 9-10  \n",
    "1172 12-10  \n",
    "1254 11-10  \n",
    "1419 no rating   \n",
    "1455 11-10   \n",
    "1456 11-10  \n",
    "1483 10-10  \n",
    "1484 no rating    \n",
    "1600 12-10  \n",
    "1664 11-10  \n",
    "2154 9-10*"
   ]
  },
  {
   "cell_type": "markdown",
   "metadata": {},
   "source": [
    "**There are 18 of 22 values to replace.First replace those 18 with 10s in the denominator.**"
   ]
  },
  {
   "cell_type": "code",
   "execution_count": 422,
   "metadata": {},
   "outputs": [],
   "source": [
    "indices = [263,363,733,890,942,987,1024,1050,1075,1095,1172,1254,1455,1456,1483,1600,1664,2154]\n",
    "archive_c.loc[indices,'rating_denominator'] = 10"
   ]
  },
  {
   "cell_type": "code",
   "execution_count": 423,
   "metadata": {},
   "outputs": [
    {
     "data": {
      "text/plain": [
       "10"
      ]
     },
     "execution_count": 423,
     "metadata": {},
     "output_type": "execute_result"
    }
   ],
   "source": [
    "archive_c.loc[263,'rating_denominator']"
   ]
  },
  {
   "cell_type": "markdown",
   "metadata": {},
   "source": [
    "*Then, replace the numerators by rating* "
   ]
  },
  {
   "cell_type": "code",
   "execution_count": 424,
   "metadata": {},
   "outputs": [],
   "source": [
    "indices9 = [1095, 2154]\n",
    "archive_c.loc[indices9,'rating_numerator'] = 9"
   ]
  },
  {
   "cell_type": "code",
   "execution_count": 425,
   "metadata": {},
   "outputs": [
    {
     "data": {
      "text/plain": [
       "9"
      ]
     },
     "execution_count": 425,
     "metadata": {},
     "output_type": "execute_result"
    }
   ],
   "source": [
    "archive_c.loc[2154,'rating_numerator']"
   ]
  },
  {
   "cell_type": "code",
   "execution_count": 426,
   "metadata": {},
   "outputs": [],
   "source": [
    "indices10 = [1075, 1483]\n",
    "archive_c.loc[indices10,'rating_numerator'] = 10"
   ]
  },
  {
   "cell_type": "code",
   "execution_count": 427,
   "metadata": {},
   "outputs": [
    {
     "data": {
      "text/plain": [
       "10"
      ]
     },
     "execution_count": 427,
     "metadata": {},
     "output_type": "execute_result"
    }
   ],
   "source": [
    "archive_c.loc[1483,'rating_numerator']"
   ]
  },
  {
   "cell_type": "code",
   "execution_count": 428,
   "metadata": {},
   "outputs": [],
   "source": [
    "indices11 = [733, 1024, 1050, 1172, 1254, 1455, 1456, 1664]\n",
    "archive_c.loc[indices11,'rating_numerator'] = 11"
   ]
  },
  {
   "cell_type": "code",
   "execution_count": 429,
   "metadata": {},
   "outputs": [
    {
     "data": {
      "text/plain": [
       "11"
      ]
     },
     "execution_count": 429,
     "metadata": {},
     "output_type": "execute_result"
    }
   ],
   "source": [
    "archive_c.loc[1050,'rating_numerator']"
   ]
  },
  {
   "cell_type": "code",
   "execution_count": 430,
   "metadata": {},
   "outputs": [],
   "source": [
    "indices12 = [363, 942, 1600]\n",
    "archive_c.loc[indices12,'rating_numerator'] = 12"
   ]
  },
  {
   "cell_type": "code",
   "execution_count": 431,
   "metadata": {},
   "outputs": [
    {
     "data": {
      "text/plain": [
       "12"
      ]
     },
     "execution_count": 431,
     "metadata": {},
     "output_type": "execute_result"
    }
   ],
   "source": [
    "archive_c.loc[1600,'rating_numerator']"
   ]
  },
  {
   "cell_type": "code",
   "execution_count": 432,
   "metadata": {},
   "outputs": [],
   "source": [
    "indices13 = [263, 987]\n",
    "archive_c.loc[indices13,'rating_numerator'] = 13"
   ]
  },
  {
   "cell_type": "code",
   "execution_count": 433,
   "metadata": {},
   "outputs": [
    {
     "data": {
      "text/plain": [
       "13"
      ]
     },
     "execution_count": 433,
     "metadata": {},
     "output_type": "execute_result"
    }
   ],
   "source": [
    "archive_c.loc[987,'rating_numerator']"
   ]
  },
  {
   "cell_type": "code",
   "execution_count": 434,
   "metadata": {},
   "outputs": [],
   "source": [
    "indices14 = [890]\n",
    "archive_c.loc[indices14,'rating_numerator'] = 14"
   ]
  },
  {
   "cell_type": "code",
   "execution_count": 435,
   "metadata": {},
   "outputs": [
    {
     "data": {
      "text/plain": [
       "14"
      ]
     },
     "execution_count": 435,
     "metadata": {},
     "output_type": "execute_result"
    }
   ],
   "source": [
    "archive_c.loc[890,'rating_numerator']"
   ]
  },
  {
   "cell_type": "markdown",
   "metadata": {},
   "source": [
    "**Test**"
   ]
  },
  {
   "cell_type": "code",
   "execution_count": 436,
   "metadata": {},
   "outputs": [],
   "source": [
    "explore=archive_c[archive_c['rating_denominator'] != 10]"
   ]
  },
  {
   "cell_type": "code",
   "execution_count": 437,
   "metadata": {},
   "outputs": [
    {
     "data": {
      "text/plain": [
       "tweet_id                 4\n",
       "in_reply_to_status_id    3\n",
       "in_reply_to_user_id      3\n",
       "timestamp                4\n",
       "source                   4\n",
       "text                     4\n",
       "expanded_urls            1\n",
       "rating_numerator         4\n",
       "rating_denominator       4\n",
       "name                     4\n",
       "doggo                    4\n",
       "floofer                  4\n",
       "pupper                   4\n",
       "puppo                    4\n",
       "dtype: int64"
      ]
     },
     "execution_count": 437,
     "metadata": {},
     "output_type": "execute_result"
    }
   ],
   "source": [
    "explore.count()"
   ]
  },
  {
   "cell_type": "markdown",
   "metadata": {},
   "source": [
    "There are still 4 denominators that are not a rating. We will take care of these in the next quality issue. Here, we continue to clean through the numerator."
   ]
  },
  {
   "cell_type": "code",
   "execution_count": 438,
   "metadata": {},
   "outputs": [],
   "source": [
    "outliersup=archive_c[archive_c['rating_numerator'] > 15]"
   ]
  },
  {
   "cell_type": "code",
   "execution_count": 439,
   "metadata": {},
   "outputs": [
    {
     "data": {
      "text/plain": [
       "420     2\n",
       "26      1\n",
       "27      1\n",
       "75      1\n",
       "666     1\n",
       "24      1\n",
       "20      1\n",
       "182     1\n",
       "17      1\n",
       "1776    1\n",
       "Name: rating_numerator, dtype: int64"
      ]
     },
     "execution_count": 439,
     "metadata": {},
     "output_type": "execute_result"
    }
   ],
   "source": [
    "outliersup.rating_numerator.value_counts()"
   ]
  },
  {
   "cell_type": "code",
   "execution_count": 440,
   "metadata": {},
   "outputs": [
    {
     "data": {
      "text/plain": [
       "11"
      ]
     },
     "execution_count": 440,
     "metadata": {},
     "output_type": "execute_result"
    }
   ],
   "source": [
    "outliersup.rating_numerator.count()"
   ]
  },
  {
   "cell_type": "markdown",
   "metadata": {},
   "source": [
    "We have corrected 14 of the 25 cases spotted at the beginning. Still 11 to go."
   ]
  },
  {
   "cell_type": "markdown",
   "metadata": {},
   "source": [
    "The second approach is to explore those above a rating of 15 individually."
   ]
  },
  {
   "cell_type": "markdown",
   "metadata": {},
   "source": [
    "**Code**"
   ]
  },
  {
   "cell_type": "code",
   "execution_count": 441,
   "metadata": {},
   "outputs": [],
   "source": [
    "explore2=outliersup.filter(['tweet_id','text','rating_numerator', 'rating_denominator'])"
   ]
  },
  {
   "cell_type": "code",
   "execution_count": 442,
   "metadata": {
    "scrolled": false
   },
   "outputs": [
    {
     "data": {
      "text/html": [
       "<div>\n",
       "<style scoped>\n",
       "    .dataframe tbody tr th:only-of-type {\n",
       "        vertical-align: middle;\n",
       "    }\n",
       "\n",
       "    .dataframe tbody tr th {\n",
       "        vertical-align: top;\n",
       "    }\n",
       "\n",
       "    .dataframe thead th {\n",
       "        text-align: right;\n",
       "    }\n",
       "</style>\n",
       "<table border=\"1\" class=\"dataframe\">\n",
       "  <thead>\n",
       "    <tr style=\"text-align: right;\">\n",
       "      <th></th>\n",
       "      <th>tweet_id</th>\n",
       "      <th>text</th>\n",
       "      <th>rating_numerator</th>\n",
       "      <th>rating_denominator</th>\n",
       "    </tr>\n",
       "  </thead>\n",
       "  <tbody>\n",
       "    <tr>\n",
       "      <th>52</th>\n",
       "      <td>881633300179243008</td>\n",
       "      <td>@roushfenway These are good dogs but 17/10 is an emotional impulse rating. More like 13/10s</td>\n",
       "      <td>17</td>\n",
       "      <td>10</td>\n",
       "    </tr>\n",
       "    <tr>\n",
       "      <th>162</th>\n",
       "      <td>855862651834028034</td>\n",
       "      <td>@dhmontgomery We also gave snoop dogg a 420/10 but I think that predated your research</td>\n",
       "      <td>420</td>\n",
       "      <td>10</td>\n",
       "    </tr>\n",
       "    <tr>\n",
       "      <th>163</th>\n",
       "      <td>855860136149123072</td>\n",
       "      <td>@s8n You tried very hard to portray this good boy as not so good, but you have ultimately failed. His goodness shines through. 666/10</td>\n",
       "      <td>666</td>\n",
       "      <td>10</td>\n",
       "    </tr>\n",
       "    <tr>\n",
       "      <th>246</th>\n",
       "      <td>838150277551247360</td>\n",
       "      <td>@markhoppus 182/10</td>\n",
       "      <td>182</td>\n",
       "      <td>10</td>\n",
       "    </tr>\n",
       "    <tr>\n",
       "      <th>429</th>\n",
       "      <td>810984652412424192</td>\n",
       "      <td>Meet Sam. She smiles 24/7 &amp;amp; secretly aspires to be a reindeer. \\nKeep Sam smiling by clicking and sharing this link:\\nhttps://t.co/98tB8y7y7t ...</td>\n",
       "      <td>24</td>\n",
       "      <td>7</td>\n",
       "    </tr>\n",
       "    <tr>\n",
       "      <th>558</th>\n",
       "      <td>786709082849828864</td>\n",
       "      <td>This is Logan, the Chow who lived. He solemnly swears he's up to lots of good. H*ckin magical af 9.75/10 https://t.co/yBO5wuqaPS</td>\n",
       "      <td>75</td>\n",
       "      <td>10</td>\n",
       "    </tr>\n",
       "    <tr>\n",
       "      <th>617</th>\n",
       "      <td>778027034220126208</td>\n",
       "      <td>This is Sophie. She's a Jubilant Bush Pupper. Super h*ckin rare. Appears at random just to smile at the locals. 11.27/10 would smile back https://...</td>\n",
       "      <td>27</td>\n",
       "      <td>10</td>\n",
       "    </tr>\n",
       "    <tr>\n",
       "      <th>804</th>\n",
       "      <td>749981277374128128</td>\n",
       "      <td>This is Atticus. He's quite simply America af. 1776/10 https://t.co/GRXwMxLBkh</td>\n",
       "      <td>1776</td>\n",
       "      <td>10</td>\n",
       "    </tr>\n",
       "    <tr>\n",
       "      <th>1484</th>\n",
       "      <td>682808988178739200</td>\n",
       "      <td>I'm aware that I could've said 20/16, but here at WeRateDogs we are very professional. An inconsistent rating scale is simply irresponsible</td>\n",
       "      <td>20</td>\n",
       "      <td>16</td>\n",
       "    </tr>\n",
       "    <tr>\n",
       "      <th>1533</th>\n",
       "      <td>680494726643068929</td>\n",
       "      <td>Here we have uncovered an entire battalion of holiday puppers. Average of 11.26/10 https://t.co/eNm2S6p9BD</td>\n",
       "      <td>26</td>\n",
       "      <td>10</td>\n",
       "    </tr>\n",
       "    <tr>\n",
       "      <th>1895</th>\n",
       "      <td>670842764863651840</td>\n",
       "      <td>After so many requests... here you go.\\n\\nGood dogg. 420/10 https://t.co/yfAAo1gdeY</td>\n",
       "      <td>420</td>\n",
       "      <td>10</td>\n",
       "    </tr>\n",
       "  </tbody>\n",
       "</table>\n",
       "</div>"
      ],
      "text/plain": [
       "                tweet_id  \\\n",
       "52    881633300179243008   \n",
       "162   855862651834028034   \n",
       "163   855860136149123072   \n",
       "246   838150277551247360   \n",
       "429   810984652412424192   \n",
       "558   786709082849828864   \n",
       "617   778027034220126208   \n",
       "804   749981277374128128   \n",
       "1484  682808988178739200   \n",
       "1533  680494726643068929   \n",
       "1895  670842764863651840   \n",
       "\n",
       "                                                                                                                                                       text  \\\n",
       "52                                                              @roushfenway These are good dogs but 17/10 is an emotional impulse rating. More like 13/10s   \n",
       "162                                                                  @dhmontgomery We also gave snoop dogg a 420/10 but I think that predated your research   \n",
       "163                   @s8n You tried very hard to portray this good boy as not so good, but you have ultimately failed. His goodness shines through. 666/10   \n",
       "246                                                                                                                                      @markhoppus 182/10   \n",
       "429   Meet Sam. She smiles 24/7 &amp; secretly aspires to be a reindeer. \\nKeep Sam smiling by clicking and sharing this link:\\nhttps://t.co/98tB8y7y7t ...   \n",
       "558                        This is Logan, the Chow who lived. He solemnly swears he's up to lots of good. H*ckin magical af 9.75/10 https://t.co/yBO5wuqaPS   \n",
       "617   This is Sophie. She's a Jubilant Bush Pupper. Super h*ckin rare. Appears at random just to smile at the locals. 11.27/10 would smile back https://...   \n",
       "804                                                                          This is Atticus. He's quite simply America af. 1776/10 https://t.co/GRXwMxLBkh   \n",
       "1484            I'm aware that I could've said 20/16, but here at WeRateDogs we are very professional. An inconsistent rating scale is simply irresponsible   \n",
       "1533                                             Here we have uncovered an entire battalion of holiday puppers. Average of 11.26/10 https://t.co/eNm2S6p9BD   \n",
       "1895                                                                    After so many requests... here you go.\\n\\nGood dogg. 420/10 https://t.co/yfAAo1gdeY   \n",
       "\n",
       "      rating_numerator  rating_denominator  \n",
       "52                  17                  10  \n",
       "162                420                  10  \n",
       "163                666                  10  \n",
       "246                182                  10  \n",
       "429                 24                   7  \n",
       "558                 75                  10  \n",
       "617                 27                  10  \n",
       "804               1776                  10  \n",
       "1484                20                  16  \n",
       "1533                26                  10  \n",
       "1895               420                  10  "
      ]
     },
     "execution_count": 442,
     "metadata": {},
     "output_type": "execute_result"
    }
   ],
   "source": [
    "explore2"
   ]
  },
  {
   "cell_type": "markdown",
   "metadata": {},
   "source": [
    "New ratings  \n",
    "52   13-10   \n",
    "162  No rating. Joke.     \n",
    "163  No rating. Joke.    \n",
    "246  No rating       \n",
    "429  No rating    \n",
    "558  10 - 10 (rounding 9.75. No point in creating floats for one observation)   \n",
    "617  Keep. outlier  \n",
    "804  Keep. Joke     \n",
    "1484 No rating. Joke   \n",
    "1533 Keep. outlier   \n",
    "1895 No rating. Joke"
   ]
  },
  {
   "cell_type": "markdown",
   "metadata": {},
   "source": [
    "There are outliers and jokes. We will use this for analysis later (do outliers and jokes get more retweets and likes). Only two can be corrected properly."
   ]
  },
  {
   "cell_type": "markdown",
   "metadata": {},
   "source": [
    "**Code**"
   ]
  },
  {
   "cell_type": "code",
   "execution_count": 443,
   "metadata": {},
   "outputs": [],
   "source": [
    "indices101 = [558]\n",
    "archive_c.loc[indices101,'rating_numerator'] = 10"
   ]
  },
  {
   "cell_type": "code",
   "execution_count": 444,
   "metadata": {},
   "outputs": [
    {
     "data": {
      "text/plain": [
       "10"
      ]
     },
     "execution_count": 444,
     "metadata": {},
     "output_type": "execute_result"
    }
   ],
   "source": [
    "archive_c.loc[558,'rating_numerator']"
   ]
  },
  {
   "cell_type": "code",
   "execution_count": 445,
   "metadata": {},
   "outputs": [],
   "source": [
    "indices131 = [52]\n",
    "archive_c.loc[indices131,'rating_numerator'] = 13"
   ]
  },
  {
   "cell_type": "code",
   "execution_count": 446,
   "metadata": {},
   "outputs": [
    {
     "data": {
      "text/plain": [
       "13"
      ]
     },
     "execution_count": 446,
     "metadata": {},
     "output_type": "execute_result"
    }
   ],
   "source": [
    "archive_c.loc[52,'rating_numerator']"
   ]
  },
  {
   "cell_type": "markdown",
   "metadata": {},
   "source": [
    "**Test**"
   ]
  },
  {
   "cell_type": "code",
   "execution_count": 447,
   "metadata": {},
   "outputs": [],
   "source": [
    "outliersup=archive_c[archive_c['rating_numerator'] > 15]"
   ]
  },
  {
   "cell_type": "code",
   "execution_count": 448,
   "metadata": {},
   "outputs": [
    {
     "data": {
      "text/plain": [
       "9"
      ]
     },
     "execution_count": 448,
     "metadata": {},
     "output_type": "execute_result"
    }
   ],
   "source": [
    "outliersup.rating_numerator.count()"
   ]
  },
  {
   "cell_type": "markdown",
   "metadata": {},
   "source": [
    "Now we will get rid of numerators that are not ratings, to avoid skewing the analysis. We will do this in the archive_c df."
   ]
  },
  {
   "cell_type": "markdown",
   "metadata": {},
   "source": [
    "**Code**"
   ]
  },
  {
   "cell_type": "markdown",
   "metadata": {},
   "source": [
    "*First, making sure we have the right indices*"
   ]
  },
  {
   "cell_type": "code",
   "execution_count": 449,
   "metadata": {
    "scrolled": false
   },
   "outputs": [
    {
     "data": {
      "text/plain": [
       "182"
      ]
     },
     "execution_count": 449,
     "metadata": {},
     "output_type": "execute_result"
    }
   ],
   "source": [
    "archive_c.loc[246,'rating_numerator']"
   ]
  },
  {
   "cell_type": "code",
   "execution_count": 450,
   "metadata": {},
   "outputs": [
    {
     "data": {
      "text/plain": [
       "24"
      ]
     },
     "execution_count": 450,
     "metadata": {},
     "output_type": "execute_result"
    }
   ],
   "source": [
    "archive_c.loc[429,'rating_numerator']"
   ]
  },
  {
   "cell_type": "code",
   "execution_count": 451,
   "metadata": {},
   "outputs": [],
   "source": [
    "archive_c = archive_c.drop([archive_c.index[246], archive.index[429]]) "
   ]
  },
  {
   "cell_type": "markdown",
   "metadata": {},
   "source": [
    "**Test**"
   ]
  },
  {
   "cell_type": "code",
   "execution_count": 452,
   "metadata": {},
   "outputs": [],
   "source": [
    "outliersup=archive_c[archive_c['rating_numerator'] > 15]"
   ]
  },
  {
   "cell_type": "code",
   "execution_count": 453,
   "metadata": {},
   "outputs": [
    {
     "data": {
      "text/plain": [
       "7"
      ]
     },
     "execution_count": 453,
     "metadata": {},
     "output_type": "execute_result"
    }
   ],
   "source": [
    "outliersup.rating_numerator.count()"
   ]
  },
  {
   "cell_type": "code",
   "execution_count": 454,
   "metadata": {},
   "outputs": [
    {
     "data": {
      "text/plain": [
       "420     2\n",
       "20      1\n",
       "26      1\n",
       "27      1\n",
       "666     1\n",
       "1776    1\n",
       "Name: rating_numerator, dtype: int64"
      ]
     },
     "execution_count": 454,
     "metadata": {},
     "output_type": "execute_result"
    }
   ],
   "source": [
    "outliersup.rating_numerator.value_counts()"
   ]
  },
  {
   "cell_type": "markdown",
   "metadata": {},
   "source": [
    "Only jokes and other outliers remain."
   ]
  },
  {
   "cell_type": "markdown",
   "metadata": {},
   "source": [
    "What happens with the particularly low ratings? Let's see why some posts have ratings lower than 5."
   ]
  },
  {
   "cell_type": "code",
   "execution_count": 455,
   "metadata": {},
   "outputs": [],
   "source": [
    "outlierlow=archive_c[archive_c['rating_numerator'] < 5]"
   ]
  },
  {
   "cell_type": "code",
   "execution_count": 456,
   "metadata": {},
   "outputs": [
    {
     "data": {
      "text/plain": [
       "53"
      ]
     },
     "execution_count": 456,
     "metadata": {},
     "output_type": "execute_result"
    }
   ],
   "source": [
    "outlierlow.rating_numerator.count()"
   ]
  },
  {
   "cell_type": "code",
   "execution_count": 457,
   "metadata": {},
   "outputs": [
    {
     "data": {
      "text/plain": [
       "3    19\n",
       "4    16\n",
       "2     9\n",
       "1     7\n",
       "0     2\n",
       "Name: rating_numerator, dtype: int64"
      ]
     },
     "execution_count": 457,
     "metadata": {},
     "output_type": "execute_result"
    }
   ],
   "source": [
    "outlierlow.rating_numerator.value_counts()"
   ]
  },
  {
   "cell_type": "markdown",
   "metadata": {},
   "source": [
    "**Let's look at 0 to 2 first**"
   ]
  },
  {
   "cell_type": "code",
   "execution_count": 458,
   "metadata": {},
   "outputs": [],
   "source": [
    "outlierotwo=archive_c[archive_c['rating_numerator'] < 3]"
   ]
  },
  {
   "cell_type": "code",
   "execution_count": 459,
   "metadata": {},
   "outputs": [],
   "source": [
    "explore3=outlierotwo.filter(['tweet_id','text','rating_numerator', 'rating_denominator'])"
   ]
  },
  {
   "cell_type": "code",
   "execution_count": 460,
   "metadata": {},
   "outputs": [
    {
     "data": {
      "text/html": [
       "<div>\n",
       "<style scoped>\n",
       "    .dataframe tbody tr th:only-of-type {\n",
       "        vertical-align: middle;\n",
       "    }\n",
       "\n",
       "    .dataframe tbody tr th {\n",
       "        vertical-align: top;\n",
       "    }\n",
       "\n",
       "    .dataframe thead th {\n",
       "        text-align: right;\n",
       "    }\n",
       "</style>\n",
       "<table border=\"1\" class=\"dataframe\">\n",
       "  <thead>\n",
       "    <tr style=\"text-align: right;\">\n",
       "      <th></th>\n",
       "      <th>tweet_id</th>\n",
       "      <th>text</th>\n",
       "      <th>rating_numerator</th>\n",
       "      <th>rating_denominator</th>\n",
       "    </tr>\n",
       "  </thead>\n",
       "  <tbody>\n",
       "    <tr>\n",
       "      <th>265</th>\n",
       "      <td>835152434251116546</td>\n",
       "      <td>When you're so blinded by your systematic plagiarism that you forget what day it is. 0/10 https://t.co/YbEJPkg4Ag</td>\n",
       "      <td>0</td>\n",
       "      <td>10</td>\n",
       "    </tr>\n",
       "    <tr>\n",
       "      <th>840</th>\n",
       "      <td>746906459439529985</td>\n",
       "      <td>PUPDATE: can't see any. Even if I could, I couldn't reach them to pet. 0/10 much disappointment https://t.co/c7WXaB2nqX</td>\n",
       "      <td>0</td>\n",
       "      <td>10</td>\n",
       "    </tr>\n",
       "    <tr>\n",
       "      <th>1267</th>\n",
       "      <td>696490539101908992</td>\n",
       "      <td>After reading the comments I may have overestimated this pup. Downgraded to a 1/10. Please forgive me</td>\n",
       "      <td>1</td>\n",
       "      <td>10</td>\n",
       "    </tr>\n",
       "    <tr>\n",
       "      <th>1582</th>\n",
       "      <td>678675843183484930</td>\n",
       "      <td>Exotic pup here. Tail long af. Throat looks swollen. Might breathe fire. Exceptionally unfluffy 2/10 would still pet https://t.co/a8SqCaSo2r</td>\n",
       "      <td>2</td>\n",
       "      <td>10</td>\n",
       "    </tr>\n",
       "    <tr>\n",
       "      <th>1585</th>\n",
       "      <td>678424312106393600</td>\n",
       "      <td>This is Crystal. She's a shitty fireman. No sense of urgency. People could be dying Crystal. 2/10 just irresponsible https://t.co/rtMtjSl9pz</td>\n",
       "      <td>2</td>\n",
       "      <td>10</td>\n",
       "    </tr>\n",
       "    <tr>\n",
       "      <th>1690</th>\n",
       "      <td>675153376133427200</td>\n",
       "      <td>What kind of person sends in a picture without a dog in it? 1/10 just because that's a nice table https://t.co/RDXCfk8hK0</td>\n",
       "      <td>1</td>\n",
       "      <td>10</td>\n",
       "    </tr>\n",
       "    <tr>\n",
       "      <th>1741</th>\n",
       "      <td>674265582246694913</td>\n",
       "      <td>This is Henry. He's a shit dog. Short pointy ears. Leaves trail of pee. Not fluffy. Doesn't come when called. 2/10 https://t.co/Pu9RhfHDEQ</td>\n",
       "      <td>2</td>\n",
       "      <td>10</td>\n",
       "    </tr>\n",
       "    <tr>\n",
       "      <th>1761</th>\n",
       "      <td>673716320723169284</td>\n",
       "      <td>The millennials have spoken and we've decided to immediately demote to a 1/10. Thank you</td>\n",
       "      <td>1</td>\n",
       "      <td>10</td>\n",
       "    </tr>\n",
       "    <tr>\n",
       "      <th>1859</th>\n",
       "      <td>671550332464455680</td>\n",
       "      <td>After 22 minutes of careful deliberation this dog is being demoted to a 1/10. The longer you look at him the more terrifying he becomes</td>\n",
       "      <td>1</td>\n",
       "      <td>10</td>\n",
       "    </tr>\n",
       "    <tr>\n",
       "      <th>1900</th>\n",
       "      <td>670826280409919488</td>\n",
       "      <td>Scary dog here. Too many legs. Extra tail. Not soft, let alone fluffy. Won't bark. Moves sideways. Has weapon. 2/10 https://t.co/XOPXCSXiUT</td>\n",
       "      <td>2</td>\n",
       "      <td>10</td>\n",
       "    </tr>\n",
       "    <tr>\n",
       "      <th>1912</th>\n",
       "      <td>670783437142401025</td>\n",
       "      <td>Flamboyant pup here. Probably poisonous. Won't eat kibble. Doesn't bark. Slow af. Petting doesn't look fun. 1/10 https://t.co/jxukeh2BeO</td>\n",
       "      <td>1</td>\n",
       "      <td>10</td>\n",
       "    </tr>\n",
       "    <tr>\n",
       "      <th>2058</th>\n",
       "      <td>668142349051129856</td>\n",
       "      <td>This lil pup is Oliver. Hops around. Has wings but doesn't fly (lame). Annoying chirp. Won't catch tennis balls 2/10 https://t.co/DnhUw0aBM2</td>\n",
       "      <td>2</td>\n",
       "      <td>10</td>\n",
       "    </tr>\n",
       "    <tr>\n",
       "      <th>2067</th>\n",
       "      <td>667878741721415682</td>\n",
       "      <td>This is Tedrick. He lives on the edge. Needs someone to hit the gas tho. Other than that he's a baller. 10&amp;amp;2/10 https://t.co/LvP1TTYSCN</td>\n",
       "      <td>2</td>\n",
       "      <td>10</td>\n",
       "    </tr>\n",
       "    <tr>\n",
       "      <th>2080</th>\n",
       "      <td>667549055577362432</td>\n",
       "      <td>Never seen dog like this. Breathes heavy. Tilts head in a pattern. No bark. Shitty at fetch. Not even cordless. 1/10 https://t.co/i9iSGNn3fx</td>\n",
       "      <td>1</td>\n",
       "      <td>10</td>\n",
       "    </tr>\n",
       "    <tr>\n",
       "      <th>2129</th>\n",
       "      <td>666786068205871104</td>\n",
       "      <td>Unfamiliar with this breed. Ears pointy af. Won't let go of seashell. Won't eat kibble. Not very fast. Bad dog 2/10 https://t.co/EIn5kElY1S</td>\n",
       "      <td>2</td>\n",
       "      <td>10</td>\n",
       "    </tr>\n",
       "    <tr>\n",
       "      <th>2145</th>\n",
       "      <td>666411507551481857</td>\n",
       "      <td>This is quite the dog. Gets really excited when not in water. Not very soft tho. Bad at fetch. Can't do tricks. 2/10 https://t.co/aMCTNWO94t</td>\n",
       "      <td>2</td>\n",
       "      <td>10</td>\n",
       "    </tr>\n",
       "    <tr>\n",
       "      <th>2157</th>\n",
       "      <td>666104133288665088</td>\n",
       "      <td>Not familiar with this breed. No tail (weird). Only 2 legs. Doesn't bark. Surprisingly quick. Shits eggs. 1/10 https://t.co/Asgdc6kuLX</td>\n",
       "      <td>1</td>\n",
       "      <td>10</td>\n",
       "    </tr>\n",
       "    <tr>\n",
       "      <th>2168</th>\n",
       "      <td>666051853826850816</td>\n",
       "      <td>This is an odd dog. Hard on the outside but loving on the inside. Petting still fun. Doesn't play catch well. 2/10 https://t.co/v5A4vzSDdc</td>\n",
       "      <td>2</td>\n",
       "      <td>10</td>\n",
       "    </tr>\n",
       "  </tbody>\n",
       "</table>\n",
       "</div>"
      ],
      "text/plain": [
       "                tweet_id  \\\n",
       "265   835152434251116546   \n",
       "840   746906459439529985   \n",
       "1267  696490539101908992   \n",
       "1582  678675843183484930   \n",
       "1585  678424312106393600   \n",
       "1690  675153376133427200   \n",
       "1741  674265582246694913   \n",
       "1761  673716320723169284   \n",
       "1859  671550332464455680   \n",
       "1900  670826280409919488   \n",
       "1912  670783437142401025   \n",
       "2058  668142349051129856   \n",
       "2067  667878741721415682   \n",
       "2080  667549055577362432   \n",
       "2129  666786068205871104   \n",
       "2145  666411507551481857   \n",
       "2157  666104133288665088   \n",
       "2168  666051853826850816   \n",
       "\n",
       "                                                                                                                                              text  \\\n",
       "265                              When you're so blinded by your systematic plagiarism that you forget what day it is. 0/10 https://t.co/YbEJPkg4Ag   \n",
       "840                        PUPDATE: can't see any. Even if I could, I couldn't reach them to pet. 0/10 much disappointment https://t.co/c7WXaB2nqX   \n",
       "1267                                         After reading the comments I may have overestimated this pup. Downgraded to a 1/10. Please forgive me   \n",
       "1582  Exotic pup here. Tail long af. Throat looks swollen. Might breathe fire. Exceptionally unfluffy 2/10 would still pet https://t.co/a8SqCaSo2r   \n",
       "1585  This is Crystal. She's a shitty fireman. No sense of urgency. People could be dying Crystal. 2/10 just irresponsible https://t.co/rtMtjSl9pz   \n",
       "1690                     What kind of person sends in a picture without a dog in it? 1/10 just because that's a nice table https://t.co/RDXCfk8hK0   \n",
       "1741    This is Henry. He's a shit dog. Short pointy ears. Leaves trail of pee. Not fluffy. Doesn't come when called. 2/10 https://t.co/Pu9RhfHDEQ   \n",
       "1761                                                      The millennials have spoken and we've decided to immediately demote to a 1/10. Thank you   \n",
       "1859       After 22 minutes of careful deliberation this dog is being demoted to a 1/10. The longer you look at him the more terrifying he becomes   \n",
       "1900   Scary dog here. Too many legs. Extra tail. Not soft, let alone fluffy. Won't bark. Moves sideways. Has weapon. 2/10 https://t.co/XOPXCSXiUT   \n",
       "1912      Flamboyant pup here. Probably poisonous. Won't eat kibble. Doesn't bark. Slow af. Petting doesn't look fun. 1/10 https://t.co/jxukeh2BeO   \n",
       "2058  This lil pup is Oliver. Hops around. Has wings but doesn't fly (lame). Annoying chirp. Won't catch tennis balls 2/10 https://t.co/DnhUw0aBM2   \n",
       "2067   This is Tedrick. He lives on the edge. Needs someone to hit the gas tho. Other than that he's a baller. 10&amp;2/10 https://t.co/LvP1TTYSCN   \n",
       "2080  Never seen dog like this. Breathes heavy. Tilts head in a pattern. No bark. Shitty at fetch. Not even cordless. 1/10 https://t.co/i9iSGNn3fx   \n",
       "2129   Unfamiliar with this breed. Ears pointy af. Won't let go of seashell. Won't eat kibble. Not very fast. Bad dog 2/10 https://t.co/EIn5kElY1S   \n",
       "2145  This is quite the dog. Gets really excited when not in water. Not very soft tho. Bad at fetch. Can't do tricks. 2/10 https://t.co/aMCTNWO94t   \n",
       "2157        Not familiar with this breed. No tail (weird). Only 2 legs. Doesn't bark. Surprisingly quick. Shits eggs. 1/10 https://t.co/Asgdc6kuLX   \n",
       "2168    This is an odd dog. Hard on the outside but loving on the inside. Petting still fun. Doesn't play catch well. 2/10 https://t.co/v5A4vzSDdc   \n",
       "\n",
       "      rating_numerator  rating_denominator  \n",
       "265                  0                  10  \n",
       "840                  0                  10  \n",
       "1267                 1                  10  \n",
       "1582                 2                  10  \n",
       "1585                 2                  10  \n",
       "1690                 1                  10  \n",
       "1741                 2                  10  \n",
       "1761                 1                  10  \n",
       "1859                 1                  10  \n",
       "1900                 2                  10  \n",
       "1912                 1                  10  \n",
       "2058                 2                  10  \n",
       "2067                 2                  10  \n",
       "2080                 1                  10  \n",
       "2129                 2                  10  \n",
       "2145                 2                  10  \n",
       "2157                 1                  10  \n",
       "2168                 2                  10  "
      ]
     },
     "execution_count": 460,
     "metadata": {},
     "output_type": "execute_result"
    }
   ],
   "source": [
    "explore3"
   ]
  },
  {
   "cell_type": "markdown",
   "metadata": {},
   "source": [
    "  \n",
    "*265 No rating (probably not a dog)   \n",
    "840 No rating (probably not a dog)   \n",
    "1267 keep  \n",
    "1582 Not a rating (probably not a dog)  \n",
    "1585 Not sure   \n",
    "1690 Not a rating - no dog   \n",
    "1741 Not a rating (probably not a dog)  \n",
    "1761 Not sure   \n",
    "1859 Not sure   \n",
    "1900 Not sure   \n",
    "1912 Not a rating (probably not a dog)   \n",
    "2058 Not a rating (probably not a dog)   \n",
    "2067 Not a rating (probably not a dog)   \n",
    "2080 Not a rating (probably not a dog)  \n",
    "2129 Not a rating (probably not a dog)  \n",
    "2145 Not a rating (probably not a dog)  \n",
    "2157 Not a rating (probably not a dog)   \n",
    "2168 Not a rating (probably not a dog)   \n",
    "At this point, it's better to use the image table to recognize if it's a dog or not. We'll use that data during the analysis phase.*\n"
   ]
  },
  {
   "cell_type": "markdown",
   "metadata": {},
   "source": [
    "#### Outliers in rating denominator   \n",
    "**Define**"
   ]
  },
  {
   "cell_type": "markdown",
   "metadata": {},
   "source": [
    "*Replace all non 10s with 10, if there are still any left*"
   ]
  },
  {
   "cell_type": "markdown",
   "metadata": {},
   "source": [
    "**Code**"
   ]
  },
  {
   "cell_type": "code",
   "execution_count": 461,
   "metadata": {},
   "outputs": [],
   "source": [
    "explore=archive_c[archive_c['rating_denominator'] != 10]"
   ]
  },
  {
   "cell_type": "code",
   "execution_count": 462,
   "metadata": {},
   "outputs": [],
   "source": [
    "explore1=explore.filter(['tweet_id','text','rating_numerator', 'rating_denominator'])"
   ]
  },
  {
   "cell_type": "code",
   "execution_count": 463,
   "metadata": {},
   "outputs": [
    {
     "data": {
      "text/html": [
       "<div>\n",
       "<style scoped>\n",
       "    .dataframe tbody tr th:only-of-type {\n",
       "        vertical-align: middle;\n",
       "    }\n",
       "\n",
       "    .dataframe tbody tr th {\n",
       "        vertical-align: top;\n",
       "    }\n",
       "\n",
       "    .dataframe thead th {\n",
       "        text-align: right;\n",
       "    }\n",
       "</style>\n",
       "<table border=\"1\" class=\"dataframe\">\n",
       "  <thead>\n",
       "    <tr style=\"text-align: right;\">\n",
       "      <th></th>\n",
       "      <th>tweet_id</th>\n",
       "      <th>text</th>\n",
       "      <th>rating_numerator</th>\n",
       "      <th>rating_denominator</th>\n",
       "    </tr>\n",
       "  </thead>\n",
       "  <tbody>\n",
       "    <tr>\n",
       "      <th>287</th>\n",
       "      <td>832088576586297345</td>\n",
       "      <td>@docmisterio account started on 11/15/15</td>\n",
       "      <td>11</td>\n",
       "      <td>15</td>\n",
       "    </tr>\n",
       "    <tr>\n",
       "      <th>1419</th>\n",
       "      <td>686035780142297088</td>\n",
       "      <td>Yes I do realize a rating of 4/20 would've been fitting. However, it would be unjust to give these cooperative pups that low of a rating</td>\n",
       "      <td>4</td>\n",
       "      <td>20</td>\n",
       "    </tr>\n",
       "    <tr>\n",
       "      <th>1484</th>\n",
       "      <td>682808988178739200</td>\n",
       "      <td>I'm aware that I could've said 20/16, but here at WeRateDogs we are very professional. An inconsistent rating scale is simply irresponsible</td>\n",
       "      <td>20</td>\n",
       "      <td>16</td>\n",
       "    </tr>\n",
       "  </tbody>\n",
       "</table>\n",
       "</div>"
      ],
      "text/plain": [
       "                tweet_id  \\\n",
       "287   832088576586297345   \n",
       "1419  686035780142297088   \n",
       "1484  682808988178739200   \n",
       "\n",
       "                                                                                                                                             text  \\\n",
       "287                                                                                                      @docmisterio account started on 11/15/15   \n",
       "1419     Yes I do realize a rating of 4/20 would've been fitting. However, it would be unjust to give these cooperative pups that low of a rating   \n",
       "1484  I'm aware that I could've said 20/16, but here at WeRateDogs we are very professional. An inconsistent rating scale is simply irresponsible   \n",
       "\n",
       "      rating_numerator  rating_denominator  \n",
       "287                 11                  15  \n",
       "1419                 4                  20  \n",
       "1484                20                  16  "
      ]
     },
     "execution_count": 463,
     "metadata": {},
     "output_type": "execute_result"
    }
   ],
   "source": [
    "explore1"
   ]
  },
  {
   "cell_type": "markdown",
   "metadata": {},
   "source": [
    "*287 drop  \n",
    "1419 is a 420 joke. It should get the same treatment as the other 2 in the previous section. That is 420/10.    \n",
    "1484 is also a joke. But the rating is equivalent to 13 /10. I will replace it with this rating.*"
   ]
  },
  {
   "cell_type": "code",
   "execution_count": 464,
   "metadata": {},
   "outputs": [],
   "source": [
    "archive_c = archive_c.drop(287)"
   ]
  },
  {
   "cell_type": "code",
   "execution_count": 465,
   "metadata": {},
   "outputs": [],
   "source": [
    "indices420 = [1419]\n",
    "archive_c.loc[indices420,'rating_numerator'] = 420\n",
    "archive_c.loc[indices420,'rating_denominator'] = 10"
   ]
  },
  {
   "cell_type": "code",
   "execution_count": 466,
   "metadata": {},
   "outputs": [
    {
     "data": {
      "text/plain": [
       "420"
      ]
     },
     "execution_count": 466,
     "metadata": {},
     "output_type": "execute_result"
    }
   ],
   "source": [
    "archive_c.loc[1419,'rating_numerator']"
   ]
  },
  {
   "cell_type": "code",
   "execution_count": 467,
   "metadata": {},
   "outputs": [],
   "source": [
    "indices1484 = [1484]\n",
    "archive_c.loc[indices1484,'rating_numerator'] = 13\n",
    "archive_c.loc[indices1484,'rating_denominator'] = 10"
   ]
  },
  {
   "cell_type": "code",
   "execution_count": 468,
   "metadata": {},
   "outputs": [
    {
     "data": {
      "text/plain": [
       "13"
      ]
     },
     "execution_count": 468,
     "metadata": {},
     "output_type": "execute_result"
    }
   ],
   "source": [
    "archive_c.loc[1484,'rating_numerator']"
   ]
  },
  {
   "cell_type": "markdown",
   "metadata": {},
   "source": [
    "**Test**"
   ]
  },
  {
   "cell_type": "code",
   "execution_count": 469,
   "metadata": {
    "scrolled": true
   },
   "outputs": [],
   "source": [
    "explore=archive_c[archive_c['rating_denominator'] != 10]"
   ]
  },
  {
   "cell_type": "code",
   "execution_count": 470,
   "metadata": {},
   "outputs": [
    {
     "data": {
      "text/plain": [
       "Series([], Name: rating_denominator, dtype: int64)"
      ]
     },
     "execution_count": 470,
     "metadata": {},
     "output_type": "execute_result"
    }
   ],
   "source": [
    "explore.rating_denominator.value_counts()"
   ]
  },
  {
   "cell_type": "markdown",
   "metadata": {},
   "source": [
    "There are no more rating denominators that are not 10"
   ]
  },
  {
   "cell_type": "code",
   "execution_count": 471,
   "metadata": {},
   "outputs": [],
   "source": [
    "outliersup=archive_c[archive_c['rating_numerator'] > 15]"
   ]
  },
  {
   "cell_type": "code",
   "execution_count": 472,
   "metadata": {},
   "outputs": [
    {
     "data": {
      "text/plain": [
       "7"
      ]
     },
     "execution_count": 472,
     "metadata": {},
     "output_type": "execute_result"
    }
   ],
   "source": [
    "outliersup.rating_numerator.count()"
   ]
  },
  {
   "cell_type": "code",
   "execution_count": 473,
   "metadata": {
    "scrolled": true
   },
   "outputs": [
    {
     "data": {
      "text/plain": [
       "420     3\n",
       "26      1\n",
       "27      1\n",
       "666     1\n",
       "1776    1\n",
       "Name: rating_numerator, dtype: int64"
      ]
     },
     "execution_count": 473,
     "metadata": {},
     "output_type": "execute_result"
    }
   ],
   "source": [
    "outliersup.rating_numerator.value_counts()"
   ]
  },
  {
   "cell_type": "markdown",
   "metadata": {},
   "source": [
    "*The 7 jokes and outliers were left. One 20 got changed to 420*"
   ]
  },
  {
   "cell_type": "markdown",
   "metadata": {},
   "source": [
    "#### Erroneous data type for doggo, puppo, pupper, floofer   \n",
    "**Define**"
   ]
  },
  {
   "cell_type": "markdown",
   "metadata": {},
   "source": [
    "*Transform these four columns to dummy variables*"
   ]
  },
  {
   "cell_type": "markdown",
   "metadata": {},
   "source": [
    "**Code**"
   ]
  },
  {
   "cell_type": "code",
   "execution_count": 474,
   "metadata": {},
   "outputs": [],
   "source": [
    "archive_c['pupper'] = (archive_c['pupper'] == 'pupper').astype(int)"
   ]
  },
  {
   "cell_type": "code",
   "execution_count": 475,
   "metadata": {},
   "outputs": [],
   "source": [
    "archive_c['floofer'] = (archive_c['floofer'] == 'floofer').astype(int)"
   ]
  },
  {
   "cell_type": "code",
   "execution_count": 476,
   "metadata": {},
   "outputs": [],
   "source": [
    "archive_c['doggo'] = (archive_c['doggo'] == 'doggo').astype(int)"
   ]
  },
  {
   "cell_type": "code",
   "execution_count": 477,
   "metadata": {},
   "outputs": [],
   "source": [
    "archive_c['puppo'] = (archive_c['puppo'] == 'puppo').astype(int)"
   ]
  },
  {
   "cell_type": "markdown",
   "metadata": {},
   "source": [
    "**Test**"
   ]
  },
  {
   "cell_type": "code",
   "execution_count": 478,
   "metadata": {},
   "outputs": [
    {
     "data": {
      "text/plain": [
       "0    1938\n",
       "1     234\n",
       "Name: pupper, dtype: int64"
      ]
     },
     "execution_count": 478,
     "metadata": {},
     "output_type": "execute_result"
    }
   ],
   "source": [
    "archive_c.pupper.value_counts()"
   ]
  },
  {
   "cell_type": "code",
   "execution_count": 479,
   "metadata": {},
   "outputs": [
    {
     "data": {
      "text/plain": [
       "0    2162\n",
       "1      10\n",
       "Name: floofer, dtype: int64"
      ]
     },
     "execution_count": 479,
     "metadata": {},
     "output_type": "execute_result"
    }
   ],
   "source": [
    "archive_c.floofer.value_counts()"
   ]
  },
  {
   "cell_type": "code",
   "execution_count": 480,
   "metadata": {},
   "outputs": [
    {
     "data": {
      "text/plain": [
       "0    2147\n",
       "1      25\n",
       "Name: puppo, dtype: int64"
      ]
     },
     "execution_count": 480,
     "metadata": {},
     "output_type": "execute_result"
    }
   ],
   "source": [
    "archive_c.puppo.value_counts()"
   ]
  },
  {
   "cell_type": "code",
   "execution_count": 481,
   "metadata": {},
   "outputs": [
    {
     "data": {
      "text/plain": [
       "0    2085\n",
       "1      87\n",
       "Name: doggo, dtype: int64"
      ]
     },
     "execution_count": 481,
     "metadata": {},
     "output_type": "execute_result"
    }
   ],
   "source": [
    "archive_c.doggo.value_counts()"
   ]
  },
  {
   "cell_type": "markdown",
   "metadata": {},
   "source": [
    "#### Timestamp type is object\n",
    "**Define**"
   ]
  },
  {
   "cell_type": "markdown",
   "metadata": {},
   "source": [
    "*Change timestamp data type to datetime*"
   ]
  },
  {
   "cell_type": "code",
   "execution_count": 482,
   "metadata": {},
   "outputs": [],
   "source": [
    "archive_c['timestamp']=pd.to_datetime(archive_c['timestamp'])"
   ]
  },
  {
   "cell_type": "markdown",
   "metadata": {},
   "source": [
    "**Test**"
   ]
  },
  {
   "cell_type": "code",
   "execution_count": 483,
   "metadata": {},
   "outputs": [
    {
     "name": "stdout",
     "output_type": "stream",
     "text": [
      "<class 'pandas.core.frame.DataFrame'>\n",
      "Int64Index: 2172 entries, 0 to 2174\n",
      "Data columns (total 14 columns):\n",
      "tweet_id                 2172 non-null int64\n",
      "in_reply_to_status_id    76 non-null float64\n",
      "in_reply_to_user_id      76 non-null float64\n",
      "timestamp                2172 non-null datetime64[ns]\n",
      "source                   2172 non-null object\n",
      "text                     2172 non-null object\n",
      "expanded_urls            2116 non-null object\n",
      "rating_numerator         2172 non-null int64\n",
      "rating_denominator       2172 non-null int64\n",
      "name                     2172 non-null object\n",
      "doggo                    2172 non-null int64\n",
      "floofer                  2172 non-null int64\n",
      "pupper                   2172 non-null int64\n",
      "puppo                    2172 non-null int64\n",
      "dtypes: datetime64[ns](1), float64(2), int64(7), object(4)\n",
      "memory usage: 334.5+ KB\n"
     ]
    }
   ],
   "source": [
    "archive_c.info()"
   ]
  },
  {
   "cell_type": "markdown",
   "metadata": {},
   "source": [
    "#### Display_text_range is an object  \n",
    "**Define**"
   ]
  },
  {
   "cell_type": "markdown",
   "metadata": {},
   "source": [
    "*Extract number of characters, transform to integer and create a new column in the dataframe*"
   ]
  },
  {
   "cell_type": "code",
   "execution_count": 484,
   "metadata": {},
   "outputs": [],
   "source": [
    "numchar=twjson_c.display_text_range.str[1:]"
   ]
  },
  {
   "cell_type": "code",
   "execution_count": 485,
   "metadata": {},
   "outputs": [
    {
     "data": {
      "text/plain": [
       "[102]"
      ]
     },
     "execution_count": 485,
     "metadata": {},
     "output_type": "execute_result"
    }
   ],
   "source": [
    "numchar[120]"
   ]
  },
  {
   "cell_type": "markdown",
   "metadata": {},
   "source": [
    "`numchar` is a nested list. I need to extract elements to a new list so I can transform to integers and add a column to the dataframe"
   ]
  },
  {
   "cell_type": "code",
   "execution_count": 486,
   "metadata": {},
   "outputs": [],
   "source": [
    "tweetlength=[]\n",
    "i=0\n",
    "for i in range(len(numchar)):\n",
    "    tweetlength.append(str(numchar[i][0]))"
   ]
  },
  {
   "cell_type": "code",
   "execution_count": 487,
   "metadata": {},
   "outputs": [],
   "source": [
    "tweetlength = [int(i) for i in tweetlength]"
   ]
  },
  {
   "cell_type": "code",
   "execution_count": 488,
   "metadata": {},
   "outputs": [],
   "source": [
    "twjson_c['tweetlength']= tweetlength"
   ]
  },
  {
   "cell_type": "markdown",
   "metadata": {},
   "source": [
    "**Test**"
   ]
  },
  {
   "cell_type": "code",
   "execution_count": 489,
   "metadata": {},
   "outputs": [
    {
     "name": "stdout",
     "output_type": "stream",
     "text": [
      "<class 'pandas.core.frame.DataFrame'>\n",
      "RangeIndex: 2331 entries, 0 to 2330\n",
      "Data columns (total 33 columns):\n",
      "contributors                     0 non-null float64\n",
      "coordinates                      0 non-null float64\n",
      "created_at                       2331 non-null datetime64[ns]\n",
      "display_text_range               2331 non-null object\n",
      "entities                         2331 non-null object\n",
      "extended_entities                2059 non-null object\n",
      "favorite_count                   2331 non-null int64\n",
      "favorited                        2331 non-null bool\n",
      "full_text                        2331 non-null object\n",
      "geo                              0 non-null float64\n",
      "id                               2331 non-null int64\n",
      "id_str                           2331 non-null int64\n",
      "in_reply_to_screen_name          77 non-null object\n",
      "in_reply_to_status_id            77 non-null float64\n",
      "in_reply_to_status_id_str        77 non-null float64\n",
      "in_reply_to_user_id              77 non-null float64\n",
      "in_reply_to_user_id_str          77 non-null float64\n",
      "is_quote_status                  2331 non-null bool\n",
      "lang                             2331 non-null object\n",
      "place                            1 non-null object\n",
      "possibly_sensitive               2197 non-null float64\n",
      "possibly_sensitive_appealable    2197 non-null float64\n",
      "quoted_status                    24 non-null object\n",
      "quoted_status_id                 26 non-null float64\n",
      "quoted_status_id_str             26 non-null float64\n",
      "quoted_status_permalink          26 non-null object\n",
      "retweet_count                    2331 non-null int64\n",
      "retweeted                        2331 non-null bool\n",
      "retweeted_status                 163 non-null object\n",
      "source                           2331 non-null object\n",
      "truncated                        2331 non-null bool\n",
      "user                             2331 non-null object\n",
      "tweetlength                      2331 non-null int64\n",
      "dtypes: bool(4), datetime64[ns](1), float64(11), int64(5), object(12)\n",
      "memory usage: 537.3+ KB\n"
     ]
    }
   ],
   "source": [
    "twjson_c.info()"
   ]
  },
  {
   "cell_type": "code",
   "execution_count": 490,
   "metadata": {},
   "outputs": [
    {
     "data": {
      "text/plain": [
       "[130, 107, 106, 91, 118]"
      ]
     },
     "execution_count": 490,
     "metadata": {},
     "output_type": "execute_result"
    }
   ],
   "source": [
    "tweetlength[10:15]"
   ]
  },
  {
   "cell_type": "code",
   "execution_count": 491,
   "metadata": {},
   "outputs": [
    {
     "data": {
      "text/plain": [
       "count    2331.000000\n",
       "mean      111.075933\n",
       "std        27.384275\n",
       "min        11.000000\n",
       "25%        93.000000\n",
       "50%       116.000000\n",
       "75%       137.000000\n",
       "max       165.000000\n",
       "Name: tweetlength, dtype: float64"
      ]
     },
     "execution_count": 491,
     "metadata": {},
     "output_type": "execute_result"
    }
   ],
   "source": [
    "twjson_c.tweetlength.describe()"
   ]
  },
  {
   "cell_type": "markdown",
   "metadata": {},
   "source": [
    "*tweetlength is an integer with 2331 values* "
   ]
  },
  {
   "cell_type": "markdown",
   "metadata": {},
   "source": [
    "#### User is part of a dictionary\n",
    "**Define**"
   ]
  },
  {
   "cell_type": "markdown",
   "metadata": {},
   "source": [
    "*Extract user id from dictionary and create a new variable in the dataframe 'userid'*"
   ]
  },
  {
   "cell_type": "markdown",
   "metadata": {},
   "source": [
    "**Code**"
   ]
  },
  {
   "cell_type": "code",
   "execution_count": 492,
   "metadata": {},
   "outputs": [
    {
     "data": {
      "text/plain": [
       "4196983835"
      ]
     },
     "execution_count": 492,
     "metadata": {},
     "output_type": "execute_result"
    }
   ],
   "source": [
    "twjson_c.user[10]['id']"
   ]
  },
  {
   "cell_type": "code",
   "execution_count": 493,
   "metadata": {},
   "outputs": [],
   "source": [
    "userid=[]\n",
    "i=0\n",
    "for i in range(len(twjson_c.user)):\n",
    "    userid.append(str(twjson_c.user[i]['id']))"
   ]
  },
  {
   "cell_type": "code",
   "execution_count": 494,
   "metadata": {},
   "outputs": [],
   "source": [
    "userid = [int(i) for i in userid]"
   ]
  },
  {
   "cell_type": "code",
   "execution_count": 495,
   "metadata": {},
   "outputs": [],
   "source": [
    "twjson_c['userid']= userid"
   ]
  },
  {
   "cell_type": "markdown",
   "metadata": {},
   "source": [
    "**Test**"
   ]
  },
  {
   "cell_type": "code",
   "execution_count": 496,
   "metadata": {},
   "outputs": [
    {
     "name": "stdout",
     "output_type": "stream",
     "text": [
      "<class 'pandas.core.frame.DataFrame'>\n",
      "RangeIndex: 2331 entries, 0 to 2330\n",
      "Data columns (total 34 columns):\n",
      "contributors                     0 non-null float64\n",
      "coordinates                      0 non-null float64\n",
      "created_at                       2331 non-null datetime64[ns]\n",
      "display_text_range               2331 non-null object\n",
      "entities                         2331 non-null object\n",
      "extended_entities                2059 non-null object\n",
      "favorite_count                   2331 non-null int64\n",
      "favorited                        2331 non-null bool\n",
      "full_text                        2331 non-null object\n",
      "geo                              0 non-null float64\n",
      "id                               2331 non-null int64\n",
      "id_str                           2331 non-null int64\n",
      "in_reply_to_screen_name          77 non-null object\n",
      "in_reply_to_status_id            77 non-null float64\n",
      "in_reply_to_status_id_str        77 non-null float64\n",
      "in_reply_to_user_id              77 non-null float64\n",
      "in_reply_to_user_id_str          77 non-null float64\n",
      "is_quote_status                  2331 non-null bool\n",
      "lang                             2331 non-null object\n",
      "place                            1 non-null object\n",
      "possibly_sensitive               2197 non-null float64\n",
      "possibly_sensitive_appealable    2197 non-null float64\n",
      "quoted_status                    24 non-null object\n",
      "quoted_status_id                 26 non-null float64\n",
      "quoted_status_id_str             26 non-null float64\n",
      "quoted_status_permalink          26 non-null object\n",
      "retweet_count                    2331 non-null int64\n",
      "retweeted                        2331 non-null bool\n",
      "retweeted_status                 163 non-null object\n",
      "source                           2331 non-null object\n",
      "truncated                        2331 non-null bool\n",
      "user                             2331 non-null object\n",
      "tweetlength                      2331 non-null int64\n",
      "userid                           2331 non-null int64\n",
      "dtypes: bool(4), datetime64[ns](1), float64(11), int64(6), object(12)\n",
      "memory usage: 555.5+ KB\n"
     ]
    }
   ],
   "source": [
    "twjson_c.info()"
   ]
  },
  {
   "cell_type": "code",
   "execution_count": 497,
   "metadata": {},
   "outputs": [
    {
     "data": {
      "text/plain": [
       "4196983835    2331\n",
       "Name: userid, dtype: int64"
      ]
     },
     "execution_count": 497,
     "metadata": {},
     "output_type": "execute_result"
    }
   ],
   "source": [
    "twjson_c.userid.value_counts()"
   ]
  },
  {
   "cell_type": "markdown",
   "metadata": {},
   "source": [
    "*All tweets belong to the same user id.*"
   ]
  },
  {
   "cell_type": "markdown",
   "metadata": {},
   "source": [
    "#### p1_dog, p2_dog and p3_dog are booleans   \n",
    "**Define**"
   ]
  },
  {
   "cell_type": "markdown",
   "metadata": {},
   "source": [
    "*Transform p1_dog, p2_dog and p3_dog from boolean to dummies.*"
   ]
  },
  {
   "cell_type": "markdown",
   "metadata": {},
   "source": [
    "**Code**"
   ]
  },
  {
   "cell_type": "code",
   "execution_count": 498,
   "metadata": {},
   "outputs": [],
   "source": [
    "image_c['p1_dog'] = (image_c['p1_dog'] == True).astype(int)"
   ]
  },
  {
   "cell_type": "code",
   "execution_count": 499,
   "metadata": {},
   "outputs": [],
   "source": [
    "image_c['p2_dog'] = (image_c['p2_dog'] == True).astype(int)"
   ]
  },
  {
   "cell_type": "code",
   "execution_count": 500,
   "metadata": {},
   "outputs": [],
   "source": [
    "image_c['p3_dog'] = (image_c['p3_dog'] == True).astype(int)"
   ]
  },
  {
   "cell_type": "markdown",
   "metadata": {},
   "source": [
    "**Test**"
   ]
  },
  {
   "cell_type": "code",
   "execution_count": 501,
   "metadata": {},
   "outputs": [
    {
     "name": "stdout",
     "output_type": "stream",
     "text": [
      "<class 'pandas.core.frame.DataFrame'>\n",
      "RangeIndex: 2075 entries, 0 to 2074\n",
      "Data columns (total 12 columns):\n",
      "tweet_id    2075 non-null int64\n",
      "jpg_url     2075 non-null object\n",
      "img_num     2075 non-null int64\n",
      "p1          2075 non-null object\n",
      "p1_conf     2075 non-null float64\n",
      "p1_dog      2075 non-null int64\n",
      "p2          2075 non-null object\n",
      "p2_conf     2075 non-null float64\n",
      "p2_dog      2075 non-null int64\n",
      "p3          2075 non-null object\n",
      "p3_conf     2075 non-null float64\n",
      "p3_dog      2075 non-null int64\n",
      "dtypes: float64(3), int64(5), object(4)\n",
      "memory usage: 194.6+ KB\n"
     ]
    }
   ],
   "source": [
    "image_c.info()"
   ]
  },
  {
   "cell_type": "code",
   "execution_count": 502,
   "metadata": {},
   "outputs": [
    {
     "data": {
      "text/plain": [
       "1    1532\n",
       "0     543\n",
       "Name: p1_dog, dtype: int64"
      ]
     },
     "execution_count": 502,
     "metadata": {},
     "output_type": "execute_result"
    }
   ],
   "source": [
    "image_c.p1_dog.value_counts()"
   ]
  },
  {
   "cell_type": "code",
   "execution_count": 503,
   "metadata": {},
   "outputs": [
    {
     "data": {
      "text/plain": [
       "1    1553\n",
       "0     522\n",
       "Name: p2_dog, dtype: int64"
      ]
     },
     "execution_count": 503,
     "metadata": {},
     "output_type": "execute_result"
    }
   ],
   "source": [
    "image_c.p2_dog.value_counts()"
   ]
  },
  {
   "cell_type": "code",
   "execution_count": 504,
   "metadata": {},
   "outputs": [
    {
     "data": {
      "text/plain": [
       "1    1499\n",
       "0     576\n",
       "Name: p3_dog, dtype: int64"
      ]
     },
     "execution_count": 504,
     "metadata": {},
     "output_type": "execute_result"
    }
   ],
   "source": [
    "image_c.p3_dog.value_counts()"
   ]
  },
  {
   "cell_type": "markdown",
   "metadata": {},
   "source": [
    "### Tidiness"
   ]
  },
  {
   "cell_type": "markdown",
   "metadata": {},
   "source": [
    "####  favorite_count and retweet_count should be one variable \n",
    "**Define**"
   ]
  },
  {
   "cell_type": "markdown",
   "metadata": {},
   "source": [
    "*Add favorite_count and retweet_count to have a measure of popularity of the tweet with followers**"
   ]
  },
  {
   "cell_type": "markdown",
   "metadata": {},
   "source": [
    "**Code**"
   ]
  },
  {
   "cell_type": "code",
   "execution_count": 505,
   "metadata": {},
   "outputs": [],
   "source": [
    "popularity=twjson_c.favorite_count+twjson_c.retweet_count"
   ]
  },
  {
   "cell_type": "code",
   "execution_count": 506,
   "metadata": {},
   "outputs": [],
   "source": [
    "twjson_c['popularity']=popularity"
   ]
  },
  {
   "cell_type": "markdown",
   "metadata": {},
   "source": [
    "**Test**"
   ]
  },
  {
   "cell_type": "code",
   "execution_count": 507,
   "metadata": {},
   "outputs": [
    {
     "name": "stdout",
     "output_type": "stream",
     "text": [
      "<class 'pandas.core.frame.DataFrame'>\n",
      "RangeIndex: 2331 entries, 0 to 2330\n",
      "Data columns (total 35 columns):\n",
      "contributors                     0 non-null float64\n",
      "coordinates                      0 non-null float64\n",
      "created_at                       2331 non-null datetime64[ns]\n",
      "display_text_range               2331 non-null object\n",
      "entities                         2331 non-null object\n",
      "extended_entities                2059 non-null object\n",
      "favorite_count                   2331 non-null int64\n",
      "favorited                        2331 non-null bool\n",
      "full_text                        2331 non-null object\n",
      "geo                              0 non-null float64\n",
      "id                               2331 non-null int64\n",
      "id_str                           2331 non-null int64\n",
      "in_reply_to_screen_name          77 non-null object\n",
      "in_reply_to_status_id            77 non-null float64\n",
      "in_reply_to_status_id_str        77 non-null float64\n",
      "in_reply_to_user_id              77 non-null float64\n",
      "in_reply_to_user_id_str          77 non-null float64\n",
      "is_quote_status                  2331 non-null bool\n",
      "lang                             2331 non-null object\n",
      "place                            1 non-null object\n",
      "possibly_sensitive               2197 non-null float64\n",
      "possibly_sensitive_appealable    2197 non-null float64\n",
      "quoted_status                    24 non-null object\n",
      "quoted_status_id                 26 non-null float64\n",
      "quoted_status_id_str             26 non-null float64\n",
      "quoted_status_permalink          26 non-null object\n",
      "retweet_count                    2331 non-null int64\n",
      "retweeted                        2331 non-null bool\n",
      "retweeted_status                 163 non-null object\n",
      "source                           2331 non-null object\n",
      "truncated                        2331 non-null bool\n",
      "user                             2331 non-null object\n",
      "tweetlength                      2331 non-null int64\n",
      "userid                           2331 non-null int64\n",
      "popularity                       2331 non-null int64\n",
      "dtypes: bool(4), datetime64[ns](1), float64(11), int64(7), object(12)\n",
      "memory usage: 573.7+ KB\n"
     ]
    }
   ],
   "source": [
    "twjson_c.info()"
   ]
  },
  {
   "cell_type": "markdown",
   "metadata": {},
   "source": [
    "#### Add the new versions of 'favorite_count', retweet_count and 'display_text_rage' to archive\n",
    "**Define**"
   ]
  },
  {
   "cell_type": "markdown",
   "metadata": {},
   "source": [
    "*Import columns 'popularity' and 'tweetlength' into archive table*"
   ]
  },
  {
   "cell_type": "markdown",
   "metadata": {},
   "source": [
    "**Code**"
   ]
  },
  {
   "cell_type": "code",
   "execution_count": 508,
   "metadata": {},
   "outputs": [],
   "source": [
    "newdf= pd.DataFrame(twjson_c, columns=['id' , 'popularity', 'tweetlength'])"
   ]
  },
  {
   "cell_type": "code",
   "execution_count": 509,
   "metadata": {},
   "outputs": [
    {
     "name": "stdout",
     "output_type": "stream",
     "text": [
      "<class 'pandas.core.frame.DataFrame'>\n",
      "RangeIndex: 2331 entries, 0 to 2330\n",
      "Data columns (total 3 columns):\n",
      "id             2331 non-null int64\n",
      "popularity     2331 non-null int64\n",
      "tweetlength    2331 non-null int64\n",
      "dtypes: int64(3)\n",
      "memory usage: 54.7 KB\n"
     ]
    }
   ],
   "source": [
    "newdf.info()"
   ]
  },
  {
   "cell_type": "markdown",
   "metadata": {},
   "source": [
    "*Merge with outer join to keep the all the data in archive table*"
   ]
  },
  {
   "cell_type": "code",
   "execution_count": 510,
   "metadata": {},
   "outputs": [],
   "source": [
    "df_merge =archive_c.merge(newdf, left_on='tweet_id', right_on='id', how='inner')"
   ]
  },
  {
   "cell_type": "markdown",
   "metadata": {},
   "source": [
    "**Test**"
   ]
  },
  {
   "cell_type": "code",
   "execution_count": 511,
   "metadata": {
    "scrolled": true
   },
   "outputs": [
    {
     "name": "stdout",
     "output_type": "stream",
     "text": [
      "<class 'pandas.core.frame.DataFrame'>\n",
      "Int64Index: 2165 entries, 0 to 2164\n",
      "Data columns (total 17 columns):\n",
      "tweet_id                 2165 non-null int64\n",
      "in_reply_to_status_id    76 non-null float64\n",
      "in_reply_to_user_id      76 non-null float64\n",
      "timestamp                2165 non-null datetime64[ns]\n",
      "source                   2165 non-null object\n",
      "text                     2165 non-null object\n",
      "expanded_urls            2109 non-null object\n",
      "rating_numerator         2165 non-null int64\n",
      "rating_denominator       2165 non-null int64\n",
      "name                     2165 non-null object\n",
      "doggo                    2165 non-null int64\n",
      "floofer                  2165 non-null int64\n",
      "pupper                   2165 non-null int64\n",
      "puppo                    2165 non-null int64\n",
      "id                       2165 non-null int64\n",
      "popularity               2165 non-null int64\n",
      "tweetlength              2165 non-null int64\n",
      "dtypes: datetime64[ns](1), float64(2), int64(10), object(4)\n",
      "memory usage: 304.5+ KB\n"
     ]
    }
   ],
   "source": [
    "df_merge.info()"
   ]
  },
  {
   "cell_type": "code",
   "execution_count": 512,
   "metadata": {},
   "outputs": [
    {
     "data": {
      "text/plain": [
       "2165"
      ]
     },
     "execution_count": 512,
     "metadata": {},
     "output_type": "execute_result"
    }
   ],
   "source": [
    "df_merge.tweet_id.nunique()"
   ]
  },
  {
   "cell_type": "markdown",
   "metadata": {},
   "source": [
    "#### No single variable tells if image is a dog\n",
    "**Define**"
   ]
  },
  {
   "cell_type": "markdown",
   "metadata": {},
   "source": [
    "*Find most likely tweets of images of dogs analysing p1_dog, p2_dog & p3_dog.* "
   ]
  },
  {
   "cell_type": "code",
   "execution_count": 513,
   "metadata": {},
   "outputs": [],
   "source": [
    "sum_dog=image_c.p1_dog+image_c.p2_dog+image_c.p3_dog"
   ]
  },
  {
   "cell_type": "code",
   "execution_count": 514,
   "metadata": {},
   "outputs": [
    {
     "data": {
      "text/plain": [
       "3    1243\n",
       "2     347\n",
       "0     324\n",
       "1     161\n",
       "dtype: int64"
      ]
     },
     "execution_count": 514,
     "metadata": {},
     "output_type": "execute_result"
    }
   ],
   "source": [
    "sum_dog.value_counts()"
   ]
  },
  {
   "cell_type": "code",
   "execution_count": 515,
   "metadata": {},
   "outputs": [],
   "source": [
    "image_c['sum_dog']= sum_dog"
   ]
  },
  {
   "cell_type": "code",
   "execution_count": 516,
   "metadata": {},
   "outputs": [
    {
     "name": "stdout",
     "output_type": "stream",
     "text": [
      "<class 'pandas.core.frame.DataFrame'>\n",
      "RangeIndex: 2075 entries, 0 to 2074\n",
      "Data columns (total 13 columns):\n",
      "tweet_id    2075 non-null int64\n",
      "jpg_url     2075 non-null object\n",
      "img_num     2075 non-null int64\n",
      "p1          2075 non-null object\n",
      "p1_conf     2075 non-null float64\n",
      "p1_dog      2075 non-null int64\n",
      "p2          2075 non-null object\n",
      "p2_conf     2075 non-null float64\n",
      "p2_dog      2075 non-null int64\n",
      "p3          2075 non-null object\n",
      "p3_conf     2075 non-null float64\n",
      "p3_dog      2075 non-null int64\n",
      "sum_dog     2075 non-null int64\n",
      "dtypes: float64(3), int64(6), object(4)\n",
      "memory usage: 210.8+ KB\n"
     ]
    }
   ],
   "source": [
    "image_c.info()"
   ]
  },
  {
   "cell_type": "markdown",
   "metadata": {},
   "source": [
    "**We need to inspect this visually to get a better idea of p1, p2 and is_dog?**"
   ]
  },
  {
   "cell_type": "code",
   "execution_count": 517,
   "metadata": {},
   "outputs": [],
   "source": [
    "dogs= pd.DataFrame(image_c, columns=['tweet_id' , 'p1', 'p2', 'sum_dog'])"
   ]
  },
  {
   "cell_type": "code",
   "execution_count": 518,
   "metadata": {},
   "outputs": [
    {
     "data": {
      "text/html": [
       "<div>\n",
       "<style scoped>\n",
       "    .dataframe tbody tr th:only-of-type {\n",
       "        vertical-align: middle;\n",
       "    }\n",
       "\n",
       "    .dataframe tbody tr th {\n",
       "        vertical-align: top;\n",
       "    }\n",
       "\n",
       "    .dataframe thead th {\n",
       "        text-align: right;\n",
       "    }\n",
       "</style>\n",
       "<table border=\"1\" class=\"dataframe\">\n",
       "  <thead>\n",
       "    <tr style=\"text-align: right;\">\n",
       "      <th></th>\n",
       "      <th>tweet_id</th>\n",
       "      <th>p1</th>\n",
       "      <th>p2</th>\n",
       "      <th>sum_dog</th>\n",
       "    </tr>\n",
       "  </thead>\n",
       "  <tbody>\n",
       "    <tr>\n",
       "      <th>1992</th>\n",
       "      <td>873697596434513921</td>\n",
       "      <td>laptop</td>\n",
       "      <td>French_bulldog</td>\n",
       "      <td>1</td>\n",
       "    </tr>\n",
       "    <tr>\n",
       "      <th>444</th>\n",
       "      <td>674644256330530816</td>\n",
       "      <td>soccer_ball</td>\n",
       "      <td>basset</td>\n",
       "      <td>2</td>\n",
       "    </tr>\n",
       "    <tr>\n",
       "      <th>1061</th>\n",
       "      <td>715200624753819648</td>\n",
       "      <td>Chihuahua</td>\n",
       "      <td>beagle</td>\n",
       "      <td>3</td>\n",
       "    </tr>\n",
       "    <tr>\n",
       "      <th>1822</th>\n",
       "      <td>834786237630337024</td>\n",
       "      <td>Border_terrier</td>\n",
       "      <td>Norwegian_elkhound</td>\n",
       "      <td>3</td>\n",
       "    </tr>\n",
       "    <tr>\n",
       "      <th>263</th>\n",
       "      <td>670792680469889025</td>\n",
       "      <td>brown_bear</td>\n",
       "      <td>toy_poodle</td>\n",
       "      <td>2</td>\n",
       "    </tr>\n",
       "    <tr>\n",
       "      <th>326</th>\n",
       "      <td>671891728106971137</td>\n",
       "      <td>Labrador_retriever</td>\n",
       "      <td>golden_retriever</td>\n",
       "      <td>2</td>\n",
       "    </tr>\n",
       "    <tr>\n",
       "      <th>1161</th>\n",
       "      <td>734787690684657664</td>\n",
       "      <td>golden_retriever</td>\n",
       "      <td>chow</td>\n",
       "      <td>3</td>\n",
       "    </tr>\n",
       "    <tr>\n",
       "      <th>192</th>\n",
       "      <td>669567591774625800</td>\n",
       "      <td>Chihuahua</td>\n",
       "      <td>toy_terrier</td>\n",
       "      <td>3</td>\n",
       "    </tr>\n",
       "    <tr>\n",
       "      <th>1309</th>\n",
       "      <td>754011816964026368</td>\n",
       "      <td>French_bulldog</td>\n",
       "      <td>Boston_bull</td>\n",
       "      <td>3</td>\n",
       "    </tr>\n",
       "    <tr>\n",
       "      <th>977</th>\n",
       "      <td>707038192327901184</td>\n",
       "      <td>pug</td>\n",
       "      <td>llama</td>\n",
       "      <td>2</td>\n",
       "    </tr>\n",
       "  </tbody>\n",
       "</table>\n",
       "</div>"
      ],
      "text/plain": [
       "                tweet_id                  p1                  p2  sum_dog\n",
       "1992  873697596434513921              laptop      French_bulldog        1\n",
       "444   674644256330530816         soccer_ball              basset        2\n",
       "1061  715200624753819648           Chihuahua              beagle        3\n",
       "1822  834786237630337024      Border_terrier  Norwegian_elkhound        3\n",
       "263   670792680469889025          brown_bear          toy_poodle        2\n",
       "326   671891728106971137  Labrador_retriever    golden_retriever        2\n",
       "1161  734787690684657664    golden_retriever                chow        3\n",
       "192   669567591774625800           Chihuahua         toy_terrier        3\n",
       "1309  754011816964026368      French_bulldog         Boston_bull        3\n",
       "977   707038192327901184                 pug               llama        2"
      ]
     },
     "execution_count": 518,
     "metadata": {},
     "output_type": "execute_result"
    }
   ],
   "source": [
    "dogs.sample(10)"
   ]
  },
  {
   "cell_type": "markdown",
   "metadata": {},
   "source": [
    "Afer visual inspection, 3s are definitely dogs. However, 2s and 1s are a mixed bag, and 0s are always not dogs. I tried out with 2s and 3s but ended up with breeds (p1) that were not dogs. Let's draw the line at 3 and create a new variable 'is_dog'."
   ]
  },
  {
   "cell_type": "code",
   "execution_count": 519,
   "metadata": {},
   "outputs": [],
   "source": [
    "not_dog = 0\n",
    "image_c.loc[image_c.sum_dog < 3, 'sum_dog'] = np.nan\n",
    "image_c.fillna(not_dog,inplace=True)"
   ]
  },
  {
   "cell_type": "code",
   "execution_count": 520,
   "metadata": {},
   "outputs": [
    {
     "data": {
      "text/plain": [
       "3.0    1243\n",
       "0.0     832\n",
       "Name: sum_dog, dtype: int64"
      ]
     },
     "execution_count": 520,
     "metadata": {},
     "output_type": "execute_result"
    }
   ],
   "source": [
    "image_c.sum_dog.value_counts()"
   ]
  },
  {
   "cell_type": "code",
   "execution_count": 521,
   "metadata": {},
   "outputs": [],
   "source": [
    "image_c['is_dog'] = image_c['sum_dog'].astype('bool')"
   ]
  },
  {
   "cell_type": "code",
   "execution_count": 522,
   "metadata": {
    "scrolled": true
   },
   "outputs": [
    {
     "data": {
      "text/plain": [
       "True     1243\n",
       "False     832\n",
       "Name: is_dog, dtype: int64"
      ]
     },
     "execution_count": 522,
     "metadata": {},
     "output_type": "execute_result"
    }
   ],
   "source": [
    "image_c.is_dog.value_counts()"
   ]
  },
  {
   "cell_type": "markdown",
   "metadata": {},
   "source": [
    "#### Add breed with highest probability 'p1' and 'is_dog' to consolidate final dataset. Change 'p1' name to 'breed'\n",
    "**Define**"
   ]
  },
  {
   "cell_type": "markdown",
   "metadata": {},
   "source": [
    "*Merge two columns into df.merge to consolidate all data to perform analysis*"
   ]
  },
  {
   "cell_type": "markdown",
   "metadata": {},
   "source": [
    "**Code**"
   ]
  },
  {
   "cell_type": "code",
   "execution_count": 523,
   "metadata": {},
   "outputs": [],
   "source": [
    "newdf2= pd.DataFrame(image_c, columns=['tweet_id', 'is_dog', 'p1'])"
   ]
  },
  {
   "cell_type": "code",
   "execution_count": 524,
   "metadata": {},
   "outputs": [
    {
     "name": "stdout",
     "output_type": "stream",
     "text": [
      "<class 'pandas.core.frame.DataFrame'>\n",
      "RangeIndex: 2075 entries, 0 to 2074\n",
      "Data columns (total 3 columns):\n",
      "tweet_id    2075 non-null int64\n",
      "is_dog      2075 non-null bool\n",
      "p1          2075 non-null object\n",
      "dtypes: bool(1), int64(1), object(1)\n",
      "memory usage: 34.5+ KB\n"
     ]
    }
   ],
   "source": [
    "newdf2.info()"
   ]
  },
  {
   "cell_type": "code",
   "execution_count": 525,
   "metadata": {},
   "outputs": [],
   "source": [
    "df_final =df_merge.merge(newdf2, left_on='tweet_id', right_on='tweet_id', how='inner')"
   ]
  },
  {
   "cell_type": "markdown",
   "metadata": {},
   "source": [
    "**Test**"
   ]
  },
  {
   "cell_type": "code",
   "execution_count": 526,
   "metadata": {},
   "outputs": [
    {
     "name": "stdout",
     "output_type": "stream",
     "text": [
      "<class 'pandas.core.frame.DataFrame'>\n",
      "Int64Index: 1986 entries, 0 to 1985\n",
      "Data columns (total 19 columns):\n",
      "tweet_id                 1986 non-null int64\n",
      "in_reply_to_status_id    23 non-null float64\n",
      "in_reply_to_user_id      23 non-null float64\n",
      "timestamp                1986 non-null datetime64[ns]\n",
      "source                   1986 non-null object\n",
      "text                     1986 non-null object\n",
      "expanded_urls            1986 non-null object\n",
      "rating_numerator         1986 non-null int64\n",
      "rating_denominator       1986 non-null int64\n",
      "name                     1986 non-null object\n",
      "doggo                    1986 non-null int64\n",
      "floofer                  1986 non-null int64\n",
      "pupper                   1986 non-null int64\n",
      "puppo                    1986 non-null int64\n",
      "id                       1986 non-null int64\n",
      "popularity               1986 non-null int64\n",
      "tweetlength              1986 non-null int64\n",
      "is_dog                   1986 non-null bool\n",
      "p1                       1986 non-null object\n",
      "dtypes: bool(1), datetime64[ns](1), float64(2), int64(10), object(5)\n",
      "memory usage: 296.7+ KB\n"
     ]
    }
   ],
   "source": [
    "df_final.info()"
   ]
  },
  {
   "cell_type": "code",
   "execution_count": 527,
   "metadata": {},
   "outputs": [
    {
     "data": {
      "text/plain": [
       "1986"
      ]
     },
     "execution_count": 527,
     "metadata": {},
     "output_type": "execute_result"
    }
   ],
   "source": [
    "df_final.tweet_id.nunique()"
   ]
  },
  {
   "cell_type": "code",
   "execution_count": 528,
   "metadata": {},
   "outputs": [],
   "source": [
    "df_final=df_final.rename(columns={'p1': 'breed'})"
   ]
  },
  {
   "cell_type": "code",
   "execution_count": 529,
   "metadata": {},
   "outputs": [
    {
     "name": "stdout",
     "output_type": "stream",
     "text": [
      "<class 'pandas.core.frame.DataFrame'>\n",
      "Int64Index: 1986 entries, 0 to 1985\n",
      "Data columns (total 19 columns):\n",
      "tweet_id                 1986 non-null int64\n",
      "in_reply_to_status_id    23 non-null float64\n",
      "in_reply_to_user_id      23 non-null float64\n",
      "timestamp                1986 non-null datetime64[ns]\n",
      "source                   1986 non-null object\n",
      "text                     1986 non-null object\n",
      "expanded_urls            1986 non-null object\n",
      "rating_numerator         1986 non-null int64\n",
      "rating_denominator       1986 non-null int64\n",
      "name                     1986 non-null object\n",
      "doggo                    1986 non-null int64\n",
      "floofer                  1986 non-null int64\n",
      "pupper                   1986 non-null int64\n",
      "puppo                    1986 non-null int64\n",
      "id                       1986 non-null int64\n",
      "popularity               1986 non-null int64\n",
      "tweetlength              1986 non-null int64\n",
      "is_dog                   1986 non-null bool\n",
      "breed                    1986 non-null object\n",
      "dtypes: bool(1), datetime64[ns](1), float64(2), int64(10), object(5)\n",
      "memory usage: 296.7+ KB\n"
     ]
    }
   ],
   "source": [
    "df_final.info()"
   ]
  },
  {
   "cell_type": "code",
   "execution_count": 530,
   "metadata": {},
   "outputs": [],
   "source": [
    "difference=df_final.tweet_id-df_final.id"
   ]
  },
  {
   "cell_type": "code",
   "execution_count": 531,
   "metadata": {},
   "outputs": [
    {
     "data": {
      "text/plain": [
       "0"
      ]
     },
     "execution_count": 531,
     "metadata": {},
     "output_type": "execute_result"
    }
   ],
   "source": [
    "difference.sum()"
   ]
  },
  {
   "cell_type": "markdown",
   "metadata": {},
   "source": [
    "The id column is the same as tweet_id. It's confussing so let's drop it.   Also, in_reply_to_status_id & in_reply_to_user_id are full on NaN, so we'll drop those as well to have a dataset that's easier to work with."
   ]
  },
  {
   "cell_type": "code",
   "execution_count": 532,
   "metadata": {},
   "outputs": [],
   "source": [
    "df_final=df_final.drop(columns=['id', 'in_reply_to_status_id', 'in_reply_to_user_id'])"
   ]
  },
  {
   "cell_type": "code",
   "execution_count": 533,
   "metadata": {},
   "outputs": [
    {
     "name": "stdout",
     "output_type": "stream",
     "text": [
      "<class 'pandas.core.frame.DataFrame'>\n",
      "Int64Index: 1986 entries, 0 to 1985\n",
      "Data columns (total 16 columns):\n",
      "tweet_id              1986 non-null int64\n",
      "timestamp             1986 non-null datetime64[ns]\n",
      "source                1986 non-null object\n",
      "text                  1986 non-null object\n",
      "expanded_urls         1986 non-null object\n",
      "rating_numerator      1986 non-null int64\n",
      "rating_denominator    1986 non-null int64\n",
      "name                  1986 non-null object\n",
      "doggo                 1986 non-null int64\n",
      "floofer               1986 non-null int64\n",
      "pupper                1986 non-null int64\n",
      "puppo                 1986 non-null int64\n",
      "popularity            1986 non-null int64\n",
      "tweetlength           1986 non-null int64\n",
      "is_dog                1986 non-null bool\n",
      "breed                 1986 non-null object\n",
      "dtypes: bool(1), datetime64[ns](1), int64(9), object(5)\n",
      "memory usage: 250.2+ KB\n"
     ]
    }
   ],
   "source": [
    "df_final.info()"
   ]
  },
  {
   "cell_type": "markdown",
   "metadata": {},
   "source": [
    "### Export clean CSV file"
   ]
  },
  {
   "cell_type": "code",
   "execution_count": 534,
   "metadata": {},
   "outputs": [],
   "source": [
    "df_final.to_csv('twitter_archive_master.csv', index=False)"
   ]
  },
  {
   "cell_type": "markdown",
   "metadata": {},
   "source": [
    "## Data Analysis"
   ]
  },
  {
   "cell_type": "markdown",
   "metadata": {},
   "source": [
    "The analysis in this section aims to answer two questions:   \n",
    "- What is the account actually rating?    \n",
    "- Is there any method to the rating system or is it just quirky and funny?    \n",
    "I will answer other minor questions while attempting to address the main two."
   ]
  },
  {
   "cell_type": "code",
   "execution_count": 535,
   "metadata": {},
   "outputs": [],
   "source": [
    "df=pd.read_csv('twitter_archive_master.csv')"
   ]
  },
  {
   "cell_type": "markdown",
   "metadata": {},
   "source": [
    "### Question 1: What is this account actually rating?"
   ]
  },
  {
   "cell_type": "markdown",
   "metadata": {},
   "source": [
    "As we saw in the analysis of the image dataframe, a non negligible amount of tweets were not related to dogs. We will apply several filters to try to find some logic, if there is any, to the rating system. "
   ]
  },
  {
   "cell_type": "code",
   "execution_count": 536,
   "metadata": {},
   "outputs": [
    {
     "data": {
      "text/plain": [
       "True     1195\n",
       "False     791\n",
       "Name: is_dog, dtype: int64"
      ]
     },
     "execution_count": 536,
     "metadata": {},
     "output_type": "execute_result"
    }
   ],
   "source": [
    "df.is_dog.value_counts()"
   ]
  },
  {
   "cell_type": "code",
   "execution_count": 537,
   "metadata": {},
   "outputs": [],
   "source": [
    "visual= pd.DataFrame(df, columns=['tweet_id', 'is_dog','breed','rating_numerator'])"
   ]
  },
  {
   "cell_type": "code",
   "execution_count": 538,
   "metadata": {},
   "outputs": [
    {
     "data": {
      "text/html": [
       "<div>\n",
       "<style scoped>\n",
       "    .dataframe tbody tr th:only-of-type {\n",
       "        vertical-align: middle;\n",
       "    }\n",
       "\n",
       "    .dataframe tbody tr th {\n",
       "        vertical-align: top;\n",
       "    }\n",
       "\n",
       "    .dataframe thead th {\n",
       "        text-align: right;\n",
       "    }\n",
       "</style>\n",
       "<table border=\"1\" class=\"dataframe\">\n",
       "  <thead>\n",
       "    <tr style=\"text-align: right;\">\n",
       "      <th></th>\n",
       "      <th>tweet_id</th>\n",
       "      <th>is_dog</th>\n",
       "      <th>breed</th>\n",
       "      <th>rating_numerator</th>\n",
       "    </tr>\n",
       "  </thead>\n",
       "  <tbody>\n",
       "    <tr>\n",
       "      <th>168</th>\n",
       "      <td>850145622816686080</td>\n",
       "      <td>False</td>\n",
       "      <td>tennis_ball</td>\n",
       "      <td>11</td>\n",
       "    </tr>\n",
       "    <tr>\n",
       "      <th>806</th>\n",
       "      <td>738537504001953792</td>\n",
       "      <td>False</td>\n",
       "      <td>chow</td>\n",
       "      <td>11</td>\n",
       "    </tr>\n",
       "    <tr>\n",
       "      <th>855</th>\n",
       "      <td>728653952833728512</td>\n",
       "      <td>False</td>\n",
       "      <td>window_shade</td>\n",
       "      <td>8</td>\n",
       "    </tr>\n",
       "    <tr>\n",
       "      <th>1426</th>\n",
       "      <td>677895101218201600</td>\n",
       "      <td>True</td>\n",
       "      <td>dalmatian</td>\n",
       "      <td>9</td>\n",
       "    </tr>\n",
       "    <tr>\n",
       "      <th>439</th>\n",
       "      <td>796484825502875648</td>\n",
       "      <td>False</td>\n",
       "      <td>cocker_spaniel</td>\n",
       "      <td>12</td>\n",
       "    </tr>\n",
       "    <tr>\n",
       "      <th>146</th>\n",
       "      <td>856282028240666624</td>\n",
       "      <td>True</td>\n",
       "      <td>Chihuahua</td>\n",
       "      <td>14</td>\n",
       "    </tr>\n",
       "    <tr>\n",
       "      <th>1793</th>\n",
       "      <td>669573570759163904</td>\n",
       "      <td>True</td>\n",
       "      <td>West_Highland_white_terrier</td>\n",
       "      <td>10</td>\n",
       "    </tr>\n",
       "    <tr>\n",
       "      <th>1678</th>\n",
       "      <td>671538301157904385</td>\n",
       "      <td>False</td>\n",
       "      <td>park_bench</td>\n",
       "      <td>8</td>\n",
       "    </tr>\n",
       "    <tr>\n",
       "      <th>1251</th>\n",
       "      <td>687109925361856513</td>\n",
       "      <td>True</td>\n",
       "      <td>borzoi</td>\n",
       "      <td>11</td>\n",
       "    </tr>\n",
       "    <tr>\n",
       "      <th>205</th>\n",
       "      <td>841314665196081154</td>\n",
       "      <td>True</td>\n",
       "      <td>Afghan_hound</td>\n",
       "      <td>13</td>\n",
       "    </tr>\n",
       "  </tbody>\n",
       "</table>\n",
       "</div>"
      ],
      "text/plain": [
       "                tweet_id  is_dog                        breed  \\\n",
       "168   850145622816686080   False                  tennis_ball   \n",
       "806   738537504001953792   False                         chow   \n",
       "855   728653952833728512   False                 window_shade   \n",
       "1426  677895101218201600    True                    dalmatian   \n",
       "439   796484825502875648   False               cocker_spaniel   \n",
       "146   856282028240666624    True                    Chihuahua   \n",
       "1793  669573570759163904    True  West_Highland_white_terrier   \n",
       "1678  671538301157904385   False                   park_bench   \n",
       "1251  687109925361856513    True                       borzoi   \n",
       "205   841314665196081154    True                 Afghan_hound   \n",
       "\n",
       "      rating_numerator  \n",
       "168                 11  \n",
       "806                 11  \n",
       "855                  8  \n",
       "1426                 9  \n",
       "439                 12  \n",
       "146                 14  \n",
       "1793                10  \n",
       "1678                 8  \n",
       "1251                11  \n",
       "205                 13  "
      ]
     },
     "execution_count": 538,
     "metadata": {},
     "output_type": "execute_result"
    }
   ],
   "source": [
    "visual.sample(10)"
   ]
  },
  {
   "cell_type": "code",
   "execution_count": 539,
   "metadata": {},
   "outputs": [
    {
     "data": {
      "text/html": [
       "<div>\n",
       "<style scoped>\n",
       "    .dataframe tbody tr th:only-of-type {\n",
       "        vertical-align: middle;\n",
       "    }\n",
       "\n",
       "    .dataframe tbody tr th {\n",
       "        vertical-align: top;\n",
       "    }\n",
       "\n",
       "    .dataframe thead th {\n",
       "        text-align: right;\n",
       "    }\n",
       "</style>\n",
       "<table border=\"1\" class=\"dataframe\">\n",
       "  <thead>\n",
       "    <tr style=\"text-align: right;\">\n",
       "      <th></th>\n",
       "      <th>tweet_id</th>\n",
       "      <th>is_dog</th>\n",
       "      <th>breed</th>\n",
       "      <th>rating_numerator</th>\n",
       "    </tr>\n",
       "  </thead>\n",
       "  <tbody>\n",
       "    <tr>\n",
       "      <th>719</th>\n",
       "      <td>749981277374128128</td>\n",
       "      <td>False</td>\n",
       "      <td>bow_tie</td>\n",
       "      <td>1776</td>\n",
       "    </tr>\n",
       "    <tr>\n",
       "      <th>1710</th>\n",
       "      <td>670842764863651840</td>\n",
       "      <td>False</td>\n",
       "      <td>microphone</td>\n",
       "      <td>420</td>\n",
       "    </tr>\n",
       "    <tr>\n",
       "      <th>547</th>\n",
       "      <td>778027034220126208</td>\n",
       "      <td>True</td>\n",
       "      <td>clumber</td>\n",
       "      <td>27</td>\n",
       "    </tr>\n",
       "    <tr>\n",
       "      <th>1367</th>\n",
       "      <td>680494726643068929</td>\n",
       "      <td>True</td>\n",
       "      <td>kuvasz</td>\n",
       "      <td>26</td>\n",
       "    </tr>\n",
       "    <tr>\n",
       "      <th>152</th>\n",
       "      <td>854120357044912130</td>\n",
       "      <td>True</td>\n",
       "      <td>black-and-tan_coonhound</td>\n",
       "      <td>14</td>\n",
       "    </tr>\n",
       "    <tr>\n",
       "      <th>779</th>\n",
       "      <td>742465774154047488</td>\n",
       "      <td>False</td>\n",
       "      <td>web_site</td>\n",
       "      <td>14</td>\n",
       "    </tr>\n",
       "    <tr>\n",
       "      <th>145</th>\n",
       "      <td>856526610513747968</td>\n",
       "      <td>True</td>\n",
       "      <td>Old_English_sheepdog</td>\n",
       "      <td>14</td>\n",
       "    </tr>\n",
       "    <tr>\n",
       "      <th>146</th>\n",
       "      <td>856282028240666624</td>\n",
       "      <td>True</td>\n",
       "      <td>Chihuahua</td>\n",
       "      <td>14</td>\n",
       "    </tr>\n",
       "    <tr>\n",
       "      <th>328</th>\n",
       "      <td>819006400881917954</td>\n",
       "      <td>False</td>\n",
       "      <td>prison</td>\n",
       "      <td>14</td>\n",
       "    </tr>\n",
       "    <tr>\n",
       "      <th>49</th>\n",
       "      <td>881536004380872706</td>\n",
       "      <td>False</td>\n",
       "      <td>Samoyed</td>\n",
       "      <td>14</td>\n",
       "    </tr>\n",
       "  </tbody>\n",
       "</table>\n",
       "</div>"
      ],
      "text/plain": [
       "                tweet_id  is_dog                    breed  rating_numerator\n",
       "719   749981277374128128   False                  bow_tie              1776\n",
       "1710  670842764863651840   False               microphone               420\n",
       "547   778027034220126208    True                  clumber                27\n",
       "1367  680494726643068929    True                   kuvasz                26\n",
       "152   854120357044912130    True  black-and-tan_coonhound                14\n",
       "779   742465774154047488   False                 web_site                14\n",
       "145   856526610513747968    True     Old_English_sheepdog                14\n",
       "146   856282028240666624    True                Chihuahua                14\n",
       "328   819006400881917954   False                   prison                14\n",
       "49    881536004380872706   False                  Samoyed                14"
      ]
     },
     "execution_count": 539,
     "metadata": {},
     "output_type": "execute_result"
    }
   ],
   "source": [
    "visual.sort_values(by='rating_numerator', ascending=False).head(10)"
   ]
  },
  {
   "cell_type": "markdown",
   "metadata": {},
   "source": [
    "We have to be very careful with calculating any statistics. The first two observations are outliers that would skew any calculation for the 'non_dog' group.To perform any analysis, it would be convenient to drop the two top observations, making a note that the account sometimes \"really rates\" outside the box."
   ]
  },
  {
   "cell_type": "code",
   "execution_count": 540,
   "metadata": {},
   "outputs": [],
   "source": [
    "df= df.drop([df.index[719], archive.index[1710]])"
   ]
  },
  {
   "cell_type": "code",
   "execution_count": 541,
   "metadata": {},
   "outputs": [],
   "source": [
    "visual= pd.DataFrame(df, columns=['tweet_id', 'is_dog','breed','rating_numerator'])"
   ]
  },
  {
   "cell_type": "code",
   "execution_count": 542,
   "metadata": {},
   "outputs": [
    {
     "data": {
      "text/html": [
       "<div>\n",
       "<style scoped>\n",
       "    .dataframe tbody tr th:only-of-type {\n",
       "        vertical-align: middle;\n",
       "    }\n",
       "\n",
       "    .dataframe tbody tr th {\n",
       "        vertical-align: top;\n",
       "    }\n",
       "\n",
       "    .dataframe thead th {\n",
       "        text-align: right;\n",
       "    }\n",
       "</style>\n",
       "<table border=\"1\" class=\"dataframe\">\n",
       "  <thead>\n",
       "    <tr style=\"text-align: right;\">\n",
       "      <th></th>\n",
       "      <th>tweet_id</th>\n",
       "      <th>is_dog</th>\n",
       "      <th>breed</th>\n",
       "      <th>rating_numerator</th>\n",
       "    </tr>\n",
       "  </thead>\n",
       "  <tbody>\n",
       "    <tr>\n",
       "      <th>547</th>\n",
       "      <td>778027034220126208</td>\n",
       "      <td>True</td>\n",
       "      <td>clumber</td>\n",
       "      <td>27</td>\n",
       "    </tr>\n",
       "    <tr>\n",
       "      <th>1367</th>\n",
       "      <td>680494726643068929</td>\n",
       "      <td>True</td>\n",
       "      <td>kuvasz</td>\n",
       "      <td>26</td>\n",
       "    </tr>\n",
       "    <tr>\n",
       "      <th>152</th>\n",
       "      <td>854120357044912130</td>\n",
       "      <td>True</td>\n",
       "      <td>black-and-tan_coonhound</td>\n",
       "      <td>14</td>\n",
       "    </tr>\n",
       "    <tr>\n",
       "      <th>328</th>\n",
       "      <td>819006400881917954</td>\n",
       "      <td>False</td>\n",
       "      <td>prison</td>\n",
       "      <td>14</td>\n",
       "    </tr>\n",
       "    <tr>\n",
       "      <th>64</th>\n",
       "      <td>878057613040115712</td>\n",
       "      <td>True</td>\n",
       "      <td>French_bulldog</td>\n",
       "      <td>14</td>\n",
       "    </tr>\n",
       "    <tr>\n",
       "      <th>130</th>\n",
       "      <td>860184849394610176</td>\n",
       "      <td>False</td>\n",
       "      <td>chimpanzee</td>\n",
       "      <td>14</td>\n",
       "    </tr>\n",
       "    <tr>\n",
       "      <th>543</th>\n",
       "      <td>778408200802557953</td>\n",
       "      <td>True</td>\n",
       "      <td>Pembroke</td>\n",
       "      <td>14</td>\n",
       "    </tr>\n",
       "    <tr>\n",
       "      <th>36</th>\n",
       "      <td>884441805382717440</td>\n",
       "      <td>True</td>\n",
       "      <td>Pembroke</td>\n",
       "      <td>14</td>\n",
       "    </tr>\n",
       "    <tr>\n",
       "      <th>271</th>\n",
       "      <td>828650029636317184</td>\n",
       "      <td>True</td>\n",
       "      <td>golden_retriever</td>\n",
       "      <td>14</td>\n",
       "    </tr>\n",
       "    <tr>\n",
       "      <th>164</th>\n",
       "      <td>851464819735769094</td>\n",
       "      <td>False</td>\n",
       "      <td>web_site</td>\n",
       "      <td>14</td>\n",
       "    </tr>\n",
       "  </tbody>\n",
       "</table>\n",
       "</div>"
      ],
      "text/plain": [
       "                tweet_id  is_dog                    breed  rating_numerator\n",
       "547   778027034220126208    True                  clumber                27\n",
       "1367  680494726643068929    True                   kuvasz                26\n",
       "152   854120357044912130    True  black-and-tan_coonhound                14\n",
       "328   819006400881917954   False                   prison                14\n",
       "64    878057613040115712    True           French_bulldog                14\n",
       "130   860184849394610176   False               chimpanzee                14\n",
       "543   778408200802557953    True                 Pembroke                14\n",
       "36    884441805382717440    True                 Pembroke                14\n",
       "271   828650029636317184    True         golden_retriever                14\n",
       "164   851464819735769094   False                 web_site                14"
      ]
     },
     "execution_count": 542,
     "metadata": {},
     "output_type": "execute_result"
    }
   ],
   "source": [
    "visual.sort_values(by='rating_numerator', ascending=False).head(10)"
   ]
  },
  {
   "cell_type": "markdown",
   "metadata": {},
   "source": [
    "Now, let's calculate some statistics to better understand the dataset."
   ]
  },
  {
   "cell_type": "code",
   "execution_count": 543,
   "metadata": {},
   "outputs": [],
   "source": [
    "df1=df.groupby('is_dog')"
   ]
  },
  {
   "cell_type": "code",
   "execution_count": 544,
   "metadata": {},
   "outputs": [
    {
     "data": {
      "text/html": [
       "<div>\n",
       "<style scoped>\n",
       "    .dataframe tbody tr th:only-of-type {\n",
       "        vertical-align: middle;\n",
       "    }\n",
       "\n",
       "    .dataframe tbody tr th {\n",
       "        vertical-align: top;\n",
       "    }\n",
       "\n",
       "    .dataframe thead th {\n",
       "        text-align: right;\n",
       "    }\n",
       "</style>\n",
       "<table border=\"1\" class=\"dataframe\">\n",
       "  <thead>\n",
       "    <tr style=\"text-align: right;\">\n",
       "      <th></th>\n",
       "      <th>count</th>\n",
       "      <th>mean</th>\n",
       "      <th>std</th>\n",
       "      <th>min</th>\n",
       "      <th>25%</th>\n",
       "      <th>50%</th>\n",
       "      <th>75%</th>\n",
       "      <th>max</th>\n",
       "    </tr>\n",
       "    <tr>\n",
       "      <th>is_dog</th>\n",
       "      <th></th>\n",
       "      <th></th>\n",
       "      <th></th>\n",
       "      <th></th>\n",
       "      <th></th>\n",
       "      <th></th>\n",
       "      <th></th>\n",
       "      <th></th>\n",
       "    </tr>\n",
       "  </thead>\n",
       "  <tbody>\n",
       "    <tr>\n",
       "      <th>False</th>\n",
       "      <td>789.0</td>\n",
       "      <td>9.956907</td>\n",
       "      <td>2.660706</td>\n",
       "      <td>0.0</td>\n",
       "      <td>9.0</td>\n",
       "      <td>10.0</td>\n",
       "      <td>12.0</td>\n",
       "      <td>14.0</td>\n",
       "    </tr>\n",
       "    <tr>\n",
       "      <th>True</th>\n",
       "      <td>1195.0</td>\n",
       "      <td>10.964017</td>\n",
       "      <td>1.797880</td>\n",
       "      <td>2.0</td>\n",
       "      <td>10.0</td>\n",
       "      <td>11.0</td>\n",
       "      <td>12.0</td>\n",
       "      <td>27.0</td>\n",
       "    </tr>\n",
       "  </tbody>\n",
       "</table>\n",
       "</div>"
      ],
      "text/plain": [
       "         count       mean       std  min   25%   50%   75%   max\n",
       "is_dog                                                          \n",
       "False    789.0   9.956907  2.660706  0.0   9.0  10.0  12.0  14.0\n",
       "True    1195.0  10.964017  1.797880  2.0  10.0  11.0  12.0  27.0"
      ]
     },
     "execution_count": 544,
     "metadata": {},
     "output_type": "execute_result"
    }
   ],
   "source": [
    "df1.rating_numerator.describe()"
   ]
  },
  {
   "cell_type": "markdown",
   "metadata": {},
   "source": [
    "On average, the tweets about dogs have a rating of 1 point higher than those not about dogs. The latter also has a higher standar deviation, an lower values at each quartile. A visual can give us an even greater understanding."
   ]
  },
  {
   "cell_type": "markdown",
   "metadata": {},
   "source": [
    "*Creating two separate dataframes for dogs/non dogs.*"
   ]
  },
  {
   "cell_type": "code",
   "execution_count": 545,
   "metadata": {},
   "outputs": [],
   "source": [
    "dfdog=df[df['is_dog']==True]"
   ]
  },
  {
   "cell_type": "code",
   "execution_count": 546,
   "metadata": {},
   "outputs": [],
   "source": [
    "dfnotdog=df[df['is_dog']==False]"
   ]
  },
  {
   "cell_type": "code",
   "execution_count": 547,
   "metadata": {},
   "outputs": [
    {
     "data": {
      "image/png": "[encoded data removed]",
      "text/plain": [
       "<matplotlib.figure.Figure at 0x7fbc9ac84908>"
      ]
     },
     "metadata": {
      "needs_background": "light"
     },
     "output_type": "display_data"
    }
   ],
   "source": [
    "import matplotlib.pyplot as plt\n",
    "from sklearn.metrics import r2_score\n",
    "x=dfdog.rating_numerator\n",
    "y=dfdog.popularity\n",
    "\n",
    "plt.plot(x,y,\".\", ms=6, mec=\"b\")\n",
    "z = np.polyfit(x, y, 1)\n",
    "y_hat = np.poly1d(z)(x)\n",
    "\n",
    "plt.plot(x, y_hat, \"r--\", lw=1)\n",
    "\n",
    "plt.xticks(np.arange(0, 28, 4))\n",
    "plt.yticks(np.arange(0, 250000, 40000)) \n",
    "\n",
    "plt.title(\"Ratings vs Tweet Popularity for Dog Tweets\")\n",
    "plt.xlabel(\"Rating by @dog_rate\")\n",
    "plt.ylabel(\"Retweets + Likes per Post\")\n",
    "\n",
    "text = f\"$y={z[0]:0.3f}\\;x{z[1]:+0.3f}$\\n$R^2 = {r2_score(y,y_hat):0.3f}$\"\n",
    "plt.gca().text(0.05, 0.95, text,transform=plt.gca().transAxes,\n",
    "     fontsize=14, verticalalignment='top');\n",
    "\n",
    "plt.show()\n"
   ]
  },
  {
   "cell_type": "code",
   "execution_count": 548,
   "metadata": {},
   "outputs": [
    {
     "data": {
      "image/png": "[encoded data removed]",
      "text/plain": [
       "<matplotlib.figure.Figure at 0x7fbc98795b38>"
      ]
     },
     "metadata": {
      "needs_background": "light"
     },
     "output_type": "display_data"
    }
   ],
   "source": [
    "import matplotlib.pyplot as plt\n",
    "from sklearn.metrics import r2_score\n",
    "x=dfnotdog.rating_numerator\n",
    "y=dfnotdog.popularity\n",
    "\n",
    "plt.plot(x,y,\".\", ms=8, mec=\"r\")\n",
    "z = np.polyfit(x, y, 1)\n",
    "y_hat = np.poly1d(z)(x)\n",
    "\n",
    "plt.plot(x, y_hat, \"r--\", lw=1)\n",
    "\n",
    "plt.xticks(np.arange(0, 28, 4))\n",
    "plt.yticks(np.arange(0, 250000, 40000)) \n",
    "\n",
    "plt.title(\"Ratings vs Tweet Popularity for Non-Dog Tweets\")\n",
    "plt.xlabel(\"Rating by @dog_rate\")\n",
    "plt.ylabel(\"Retweets + Likes per Post\")\n",
    "\n",
    "text = f\"$y={z[0]:0.3f}\\;x{z[1]:+0.3f}$\\n$R^2 = {r2_score(y,y_hat):0.3f}$\"\n",
    "plt.gca().text(0.05, 0.95, text,transform=plt.gca().transAxes,\n",
    "     fontsize=14, verticalalignment='top');\n",
    "\n",
    "\n",
    "\n",
    "plt.show()\n"
   ]
  },
  {
   "cell_type": "markdown",
   "metadata": {},
   "source": [
    "The visuals suggest that non-dog posts tend to have slightly lower ratings than dog tweets and also less engagement from followers. Neither group shows that ratings correlate with popularity, as both R2 are fairly low. "
   ]
  },
  {
   "cell_type": "markdown",
   "metadata": {},
   "source": [
    "### Question 2: What are the 10 most common breeds in the data set?  "
   ]
  },
  {
   "cell_type": "code",
   "execution_count": 549,
   "metadata": {},
   "outputs": [
    {
     "data": {
      "text/html": [
       "<div>\n",
       "<style scoped>\n",
       "    .dataframe tbody tr th:only-of-type {\n",
       "        vertical-align: middle;\n",
       "    }\n",
       "\n",
       "    .dataframe tbody tr th {\n",
       "        vertical-align: top;\n",
       "    }\n",
       "\n",
       "    .dataframe thead th {\n",
       "        text-align: right;\n",
       "    }\n",
       "</style>\n",
       "<table border=\"1\" class=\"dataframe\">\n",
       "  <thead>\n",
       "    <tr style=\"text-align: right;\">\n",
       "      <th></th>\n",
       "      <th>breed</th>\n",
       "    </tr>\n",
       "  </thead>\n",
       "  <tbody>\n",
       "    <tr>\n",
       "      <th>golden_retriever</th>\n",
       "      <td>138</td>\n",
       "    </tr>\n",
       "    <tr>\n",
       "      <th>Labrador_retriever</th>\n",
       "      <td>93</td>\n",
       "    </tr>\n",
       "    <tr>\n",
       "      <th>Pembroke</th>\n",
       "      <td>88</td>\n",
       "    </tr>\n",
       "    <tr>\n",
       "      <th>Chihuahua</th>\n",
       "      <td>79</td>\n",
       "    </tr>\n",
       "    <tr>\n",
       "      <th>pug</th>\n",
       "      <td>54</td>\n",
       "    </tr>\n",
       "    <tr>\n",
       "      <th>chow</th>\n",
       "      <td>41</td>\n",
       "    </tr>\n",
       "    <tr>\n",
       "      <th>Samoyed</th>\n",
       "      <td>39</td>\n",
       "    </tr>\n",
       "    <tr>\n",
       "      <th>Pomeranian</th>\n",
       "      <td>38</td>\n",
       "    </tr>\n",
       "    <tr>\n",
       "      <th>toy_poodle</th>\n",
       "      <td>37</td>\n",
       "    </tr>\n",
       "    <tr>\n",
       "      <th>malamute</th>\n",
       "      <td>29</td>\n",
       "    </tr>\n",
       "  </tbody>\n",
       "</table>\n",
       "</div>"
      ],
      "text/plain": [
       "                    breed\n",
       "golden_retriever      138\n",
       "Labrador_retriever     93\n",
       "Pembroke               88\n",
       "Chihuahua              79\n",
       "pug                    54\n",
       "chow                   41\n",
       "Samoyed                39\n",
       "Pomeranian             38\n",
       "toy_poodle             37\n",
       "malamute               29"
      ]
     },
     "execution_count": 549,
     "metadata": {},
     "output_type": "execute_result"
    }
   ],
   "source": [
    "top10=df.breed.value_counts().nlargest(10).to_frame()\n",
    "top10"
   ]
  },
  {
   "cell_type": "code",
   "execution_count": 550,
   "metadata": {},
   "outputs": [
    {
     "data": {
      "text/plain": [
       "breed    636\n",
       "dtype: int64"
      ]
     },
     "execution_count": 550,
     "metadata": {},
     "output_type": "execute_result"
    }
   ],
   "source": [
    "top10.sum()"
   ]
  },
  {
   "cell_type": "markdown",
   "metadata": {},
   "source": [
    "When contrasted with the top 10 breeds, as informed by the american kennel club, the intersection with the dataset is only 3 breeds: golden retriever, pembroke and labrador retriever. Hence, some less popular breeds are overepresented in the dataset. Some very popular breeds missing from the top 10 are german sheppard, bulldog and french buldog."
   ]
  },
  {
   "cell_type": "markdown",
   "metadata": {},
   "source": [
    "### Question 3: Which breeds are the most popular with followers @dog_rate?"
   ]
  },
  {
   "cell_type": "code",
   "execution_count": 551,
   "metadata": {},
   "outputs": [
    {
     "data": {
      "text/plain": [
       "110"
      ]
     },
     "execution_count": 551,
     "metadata": {},
     "output_type": "execute_result"
    }
   ],
   "source": [
    "dfdog.breed.nunique()"
   ]
  },
  {
   "cell_type": "markdown",
   "metadata": {},
   "source": [
    "**110 breeds are represented in the dataset**"
   ]
  },
  {
   "cell_type": "markdown",
   "metadata": {},
   "source": [
    "**We can start answering this question by assesing the popularity among followers, since the number of retweets and likes are provided by them.**"
   ]
  },
  {
   "cell_type": "code",
   "execution_count": 552,
   "metadata": {},
   "outputs": [],
   "source": [
    "pop_by_breed=dfdog.groupby('breed').popularity.sum().to_frame('popularity').reset_index()"
   ]
  },
  {
   "cell_type": "code",
   "execution_count": 553,
   "metadata": {},
   "outputs": [],
   "source": [
    "pop_by_breed.set_index('breed', inplace=True)"
   ]
  },
  {
   "cell_type": "code",
   "execution_count": 554,
   "metadata": {},
   "outputs": [
    {
     "data": {
      "text/html": [
       "<div>\n",
       "<style scoped>\n",
       "    .dataframe tbody tr th:only-of-type {\n",
       "        vertical-align: middle;\n",
       "    }\n",
       "\n",
       "    .dataframe tbody tr th {\n",
       "        vertical-align: top;\n",
       "    }\n",
       "\n",
       "    .dataframe thead th {\n",
       "        text-align: right;\n",
       "    }\n",
       "</style>\n",
       "<table border=\"1\" class=\"dataframe\">\n",
       "  <thead>\n",
       "    <tr style=\"text-align: right;\">\n",
       "      <th></th>\n",
       "      <th>popularity</th>\n",
       "    </tr>\n",
       "    <tr>\n",
       "      <th>breed</th>\n",
       "      <th></th>\n",
       "    </tr>\n",
       "  </thead>\n",
       "  <tbody>\n",
       "    <tr>\n",
       "      <th>golden_retriever</th>\n",
       "      <td>1642201</td>\n",
       "    </tr>\n",
       "    <tr>\n",
       "      <th>Pembroke</th>\n",
       "      <td>1084171</td>\n",
       "    </tr>\n",
       "    <tr>\n",
       "      <th>Labrador_retriever</th>\n",
       "      <td>744009</td>\n",
       "    </tr>\n",
       "    <tr>\n",
       "      <th>Chihuahua</th>\n",
       "      <td>567966</td>\n",
       "    </tr>\n",
       "    <tr>\n",
       "      <th>French_bulldog</th>\n",
       "      <td>425179</td>\n",
       "    </tr>\n",
       "    <tr>\n",
       "      <th>Samoyed</th>\n",
       "      <td>401270</td>\n",
       "    </tr>\n",
       "    <tr>\n",
       "      <th>chow</th>\n",
       "      <td>337750</td>\n",
       "    </tr>\n",
       "    <tr>\n",
       "      <th>cocker_spaniel</th>\n",
       "      <td>298691</td>\n",
       "    </tr>\n",
       "    <tr>\n",
       "      <th>Eskimo_dog</th>\n",
       "      <td>289253</td>\n",
       "    </tr>\n",
       "    <tr>\n",
       "      <th>malamute</th>\n",
       "      <td>257845</td>\n",
       "    </tr>\n",
       "  </tbody>\n",
       "</table>\n",
       "</div>"
      ],
      "text/plain": [
       "                    popularity\n",
       "breed                         \n",
       "golden_retriever       1642201\n",
       "Pembroke               1084171\n",
       "Labrador_retriever      744009\n",
       "Chihuahua               567966\n",
       "French_bulldog          425179\n",
       "Samoyed                 401270\n",
       "chow                    337750\n",
       "cocker_spaniel          298691\n",
       "Eskimo_dog              289253\n",
       "malamute                257845"
      ]
     },
     "execution_count": 554,
     "metadata": {},
     "output_type": "execute_result"
    }
   ],
   "source": [
    "pop_by_breed.popularity.nlargest(10).to_frame()"
   ]
  },
  {
   "cell_type": "markdown",
   "metadata": {},
   "source": [
    "We are seeing some new breeds like chihuahua, the french bulldog, the chow, cocker spaniel among the most popular, when we take into acount the number of likes and retweets. We should look into the average popularity (favorites + retweets) per tweet to see which dog breeds are the most popular among the followers of the account."
   ]
  },
  {
   "cell_type": "markdown",
   "metadata": {},
   "source": [
    "I'll incorporate the number of dogs per breed into the dataset to perform various calculations in this section."
   ]
  },
  {
   "cell_type": "code",
   "execution_count": 555,
   "metadata": {},
   "outputs": [],
   "source": [
    "dogs_by_breed=dfdog.groupby('breed').popularity.count().to_frame('popularity').reset_index()"
   ]
  },
  {
   "cell_type": "code",
   "execution_count": 556,
   "metadata": {
    "scrolled": false
   },
   "outputs": [],
   "source": [
    "dogs_by_breed.set_index('breed', inplace=True)"
   ]
  },
  {
   "cell_type": "code",
   "execution_count": 557,
   "metadata": {},
   "outputs": [],
   "source": [
    "dogs_by_breed=dogs_by_breed.rename(columns={'popularity':'n_dogs_by_breed'})"
   ]
  },
  {
   "cell_type": "code",
   "execution_count": 558,
   "metadata": {},
   "outputs": [
    {
     "data": {
      "text/html": [
       "<div>\n",
       "<style scoped>\n",
       "    .dataframe tbody tr th:only-of-type {\n",
       "        vertical-align: middle;\n",
       "    }\n",
       "\n",
       "    .dataframe tbody tr th {\n",
       "        vertical-align: top;\n",
       "    }\n",
       "\n",
       "    .dataframe thead th {\n",
       "        text-align: right;\n",
       "    }\n",
       "</style>\n",
       "<table border=\"1\" class=\"dataframe\">\n",
       "  <thead>\n",
       "    <tr style=\"text-align: right;\">\n",
       "      <th></th>\n",
       "      <th>n_dogs_by_breed</th>\n",
       "    </tr>\n",
       "    <tr>\n",
       "      <th>breed</th>\n",
       "      <th></th>\n",
       "    </tr>\n",
       "  </thead>\n",
       "  <tbody>\n",
       "    <tr>\n",
       "      <th>Afghan_hound</th>\n",
       "      <td>2</td>\n",
       "    </tr>\n",
       "    <tr>\n",
       "      <th>Airedale</th>\n",
       "      <td>10</td>\n",
       "    </tr>\n",
       "    <tr>\n",
       "      <th>American_Staffordshire_terrier</th>\n",
       "      <td>12</td>\n",
       "    </tr>\n",
       "  </tbody>\n",
       "</table>\n",
       "</div>"
      ],
      "text/plain": [
       "                                n_dogs_by_breed\n",
       "breed                                          \n",
       "Afghan_hound                                  2\n",
       "Airedale                                     10\n",
       "American_Staffordshire_terrier               12"
      ]
     },
     "execution_count": 558,
     "metadata": {},
     "output_type": "execute_result"
    }
   ],
   "source": [
    "dogs_by_breed.head(3)"
   ]
  },
  {
   "cell_type": "code",
   "execution_count": 559,
   "metadata": {},
   "outputs": [],
   "source": [
    "dfw =pop_by_breed.merge(dogs_by_breed, left_on='breed', right_on='breed', how='inner')"
   ]
  },
  {
   "cell_type": "code",
   "execution_count": 560,
   "metadata": {},
   "outputs": [
    {
     "data": {
      "text/html": [
       "<div>\n",
       "<style scoped>\n",
       "    .dataframe tbody tr th:only-of-type {\n",
       "        vertical-align: middle;\n",
       "    }\n",
       "\n",
       "    .dataframe tbody tr th {\n",
       "        vertical-align: top;\n",
       "    }\n",
       "\n",
       "    .dataframe thead th {\n",
       "        text-align: right;\n",
       "    }\n",
       "</style>\n",
       "<table border=\"1\" class=\"dataframe\">\n",
       "  <thead>\n",
       "    <tr style=\"text-align: right;\">\n",
       "      <th></th>\n",
       "      <th>popularity</th>\n",
       "      <th>n_dogs_by_breed</th>\n",
       "    </tr>\n",
       "    <tr>\n",
       "      <th>breed</th>\n",
       "      <th></th>\n",
       "      <th></th>\n",
       "    </tr>\n",
       "  </thead>\n",
       "  <tbody>\n",
       "    <tr>\n",
       "      <th>Afghan_hound</th>\n",
       "      <td>27560</td>\n",
       "      <td>2</td>\n",
       "    </tr>\n",
       "    <tr>\n",
       "      <th>Airedale</th>\n",
       "      <td>67896</td>\n",
       "      <td>10</td>\n",
       "    </tr>\n",
       "    <tr>\n",
       "      <th>American_Staffordshire_terrier</th>\n",
       "      <td>85140</td>\n",
       "      <td>12</td>\n",
       "    </tr>\n",
       "  </tbody>\n",
       "</table>\n",
       "</div>"
      ],
      "text/plain": [
       "                                popularity  n_dogs_by_breed\n",
       "breed                                                      \n",
       "Afghan_hound                         27560                2\n",
       "Airedale                             67896               10\n",
       "American_Staffordshire_terrier       85140               12"
      ]
     },
     "execution_count": 560,
     "metadata": {},
     "output_type": "execute_result"
    }
   ],
   "source": [
    "dfw.head(3)"
   ]
  },
  {
   "cell_type": "code",
   "execution_count": 561,
   "metadata": {},
   "outputs": [],
   "source": [
    "avg_pop_tweet=dfw.popularity/dfw.n_dogs_by_breed"
   ]
  },
  {
   "cell_type": "markdown",
   "metadata": {},
   "source": [
    "**Let's include this variable in the dataframe for future use in the visuals.**"
   ]
  },
  {
   "cell_type": "code",
   "execution_count": 562,
   "metadata": {},
   "outputs": [],
   "source": [
    "dfw['avg_pop_tweet']=avg_pop_tweet"
   ]
  },
  {
   "cell_type": "code",
   "execution_count": 563,
   "metadata": {},
   "outputs": [
    {
     "data": {
      "text/html": [
       "<div>\n",
       "<style scoped>\n",
       "    .dataframe tbody tr th:only-of-type {\n",
       "        vertical-align: middle;\n",
       "    }\n",
       "\n",
       "    .dataframe tbody tr th {\n",
       "        vertical-align: top;\n",
       "    }\n",
       "\n",
       "    .dataframe thead th {\n",
       "        text-align: right;\n",
       "    }\n",
       "</style>\n",
       "<table border=\"1\" class=\"dataframe\">\n",
       "  <thead>\n",
       "    <tr style=\"text-align: right;\">\n",
       "      <th></th>\n",
       "      <th>popularity</th>\n",
       "      <th>n_dogs_by_breed</th>\n",
       "      <th>avg_pop_tweet</th>\n",
       "    </tr>\n",
       "    <tr>\n",
       "      <th>breed</th>\n",
       "      <th></th>\n",
       "      <th></th>\n",
       "      <th></th>\n",
       "    </tr>\n",
       "  </thead>\n",
       "  <tbody>\n",
       "    <tr>\n",
       "      <th>Afghan_hound</th>\n",
       "      <td>27560</td>\n",
       "      <td>2</td>\n",
       "      <td>13780.0</td>\n",
       "    </tr>\n",
       "    <tr>\n",
       "      <th>Airedale</th>\n",
       "      <td>67896</td>\n",
       "      <td>10</td>\n",
       "      <td>6789.6</td>\n",
       "    </tr>\n",
       "    <tr>\n",
       "      <th>American_Staffordshire_terrier</th>\n",
       "      <td>85140</td>\n",
       "      <td>12</td>\n",
       "      <td>7095.0</td>\n",
       "    </tr>\n",
       "  </tbody>\n",
       "</table>\n",
       "</div>"
      ],
      "text/plain": [
       "                                popularity  n_dogs_by_breed  avg_pop_tweet\n",
       "breed                                                                     \n",
       "Afghan_hound                         27560                2        13780.0\n",
       "Airedale                             67896               10         6789.6\n",
       "American_Staffordshire_terrier       85140               12         7095.0"
      ]
     },
     "execution_count": 563,
     "metadata": {},
     "output_type": "execute_result"
    }
   ],
   "source": [
    "dfw.head(3)"
   ]
  },
  {
   "cell_type": "code",
   "execution_count": 564,
   "metadata": {},
   "outputs": [
    {
     "data": {
      "text/html": [
       "<div>\n",
       "<style scoped>\n",
       "    .dataframe tbody tr th:only-of-type {\n",
       "        vertical-align: middle;\n",
       "    }\n",
       "\n",
       "    .dataframe tbody tr th {\n",
       "        vertical-align: top;\n",
       "    }\n",
       "\n",
       "    .dataframe thead th {\n",
       "        text-align: right;\n",
       "    }\n",
       "</style>\n",
       "<table border=\"1\" class=\"dataframe\">\n",
       "  <thead>\n",
       "    <tr style=\"text-align: right;\">\n",
       "      <th></th>\n",
       "      <th>avg_pop_tweet</th>\n",
       "    </tr>\n",
       "    <tr>\n",
       "      <th>breed</th>\n",
       "      <th></th>\n",
       "    </tr>\n",
       "  </thead>\n",
       "  <tbody>\n",
       "    <tr>\n",
       "      <th>Irish_water_spaniel</th>\n",
       "      <td>27571.000000</td>\n",
       "    </tr>\n",
       "    <tr>\n",
       "      <th>standard_poodle</th>\n",
       "      <td>25968.800000</td>\n",
       "    </tr>\n",
       "    <tr>\n",
       "      <th>Saluki</th>\n",
       "      <td>25911.500000</td>\n",
       "    </tr>\n",
       "    <tr>\n",
       "      <th>French_bulldog</th>\n",
       "      <td>22377.842105</td>\n",
       "    </tr>\n",
       "    <tr>\n",
       "      <th>Eskimo_dog</th>\n",
       "      <td>20660.928571</td>\n",
       "    </tr>\n",
       "    <tr>\n",
       "      <th>English_springer</th>\n",
       "      <td>19052.666667</td>\n",
       "    </tr>\n",
       "    <tr>\n",
       "      <th>flat-coated_retriever</th>\n",
       "      <td>18941.750000</td>\n",
       "    </tr>\n",
       "    <tr>\n",
       "      <th>black-and-tan_coonhound</th>\n",
       "      <td>18687.000000</td>\n",
       "    </tr>\n",
       "    <tr>\n",
       "      <th>Lakeland_terrier</th>\n",
       "      <td>18256.076923</td>\n",
       "    </tr>\n",
       "    <tr>\n",
       "      <th>Cardigan</th>\n",
       "      <td>17715.714286</td>\n",
       "    </tr>\n",
       "  </tbody>\n",
       "</table>\n",
       "</div>"
      ],
      "text/plain": [
       "                         avg_pop_tweet\n",
       "breed                                 \n",
       "Irish_water_spaniel       27571.000000\n",
       "standard_poodle           25968.800000\n",
       "Saluki                    25911.500000\n",
       "French_bulldog            22377.842105\n",
       "Eskimo_dog                20660.928571\n",
       "English_springer          19052.666667\n",
       "flat-coated_retriever     18941.750000\n",
       "black-and-tan_coonhound   18687.000000\n",
       "Lakeland_terrier          18256.076923\n",
       "Cardigan                  17715.714286"
      ]
     },
     "execution_count": 564,
     "metadata": {},
     "output_type": "execute_result"
    }
   ],
   "source": [
    "dfw.avg_pop_tweet.nlargest(10).to_frame()"
   ]
  },
  {
   "cell_type": "markdown",
   "metadata": {},
   "source": [
    "When the average popularity per tweet is applied, less common dogs in the data set like the irish water spaniel, standard poodle and saluki. The french_bulldog, a popular dog among the american kennel rankings is also popular with the followers of @dog_rate."
   ]
  },
  {
   "cell_type": "markdown",
   "metadata": {},
   "source": [
    "### Question 4: How to understand the rating system? Is it really rating or is it just for fun? "
   ]
  },
  {
   "cell_type": "markdown",
   "metadata": {},
   "source": [
    "We saw earlier that all tweets were posted from one account. Therefore, only the owner of the account is asigning the ratings @dog rate. I'll estimate the average rating per breed. I'm creating it inside a new dataframe to merge with the previous one to have one df by breed for all the visuals. I'm using the numerator only."
   ]
  },
  {
   "cell_type": "code",
   "execution_count": 565,
   "metadata": {},
   "outputs": [],
   "source": [
    "rating_by_breed=dfdog.groupby('breed').rating_numerator.mean().to_frame('rating_numerator').reset_index()"
   ]
  },
  {
   "cell_type": "code",
   "execution_count": 566,
   "metadata": {},
   "outputs": [],
   "source": [
    "rating_by_breed.set_index('breed', inplace=True)"
   ]
  },
  {
   "cell_type": "code",
   "execution_count": 567,
   "metadata": {},
   "outputs": [],
   "source": [
    "rating_by_breed=rating_by_breed.rename(columns={'rating_numerator':'avg_rating_by_breed'})"
   ]
  },
  {
   "cell_type": "code",
   "execution_count": 568,
   "metadata": {},
   "outputs": [
    {
     "data": {
      "text/html": [
       "<div>\n",
       "<style scoped>\n",
       "    .dataframe tbody tr th:only-of-type {\n",
       "        vertical-align: middle;\n",
       "    }\n",
       "\n",
       "    .dataframe tbody tr th {\n",
       "        vertical-align: top;\n",
       "    }\n",
       "\n",
       "    .dataframe thead th {\n",
       "        text-align: right;\n",
       "    }\n",
       "</style>\n",
       "<table border=\"1\" class=\"dataframe\">\n",
       "  <thead>\n",
       "    <tr style=\"text-align: right;\">\n",
       "      <th></th>\n",
       "      <th>avg_rating_by_breed</th>\n",
       "    </tr>\n",
       "    <tr>\n",
       "      <th>breed</th>\n",
       "      <th></th>\n",
       "    </tr>\n",
       "  </thead>\n",
       "  <tbody>\n",
       "    <tr>\n",
       "      <th>Afghan_hound</th>\n",
       "      <td>8.000000</td>\n",
       "    </tr>\n",
       "    <tr>\n",
       "      <th>Airedale</th>\n",
       "      <td>10.200000</td>\n",
       "    </tr>\n",
       "    <tr>\n",
       "      <th>American_Staffordshire_terrier</th>\n",
       "      <td>10.833333</td>\n",
       "    </tr>\n",
       "    <tr>\n",
       "      <th>Appenzeller</th>\n",
       "      <td>9.000000</td>\n",
       "    </tr>\n",
       "    <tr>\n",
       "      <th>Australian_terrier</th>\n",
       "      <td>11.500000</td>\n",
       "    </tr>\n",
       "  </tbody>\n",
       "</table>\n",
       "</div>"
      ],
      "text/plain": [
       "                                avg_rating_by_breed\n",
       "breed                                              \n",
       "Afghan_hound                               8.000000\n",
       "Airedale                                  10.200000\n",
       "American_Staffordshire_terrier            10.833333\n",
       "Appenzeller                                9.000000\n",
       "Australian_terrier                        11.500000"
      ]
     },
     "execution_count": 568,
     "metadata": {},
     "output_type": "execute_result"
    }
   ],
   "source": [
    "rating_by_breed.head()"
   ]
  },
  {
   "cell_type": "code",
   "execution_count": 569,
   "metadata": {},
   "outputs": [
    {
     "data": {
      "text/html": [
       "<div>\n",
       "<style scoped>\n",
       "    .dataframe tbody tr th:only-of-type {\n",
       "        vertical-align: middle;\n",
       "    }\n",
       "\n",
       "    .dataframe tbody tr th {\n",
       "        vertical-align: top;\n",
       "    }\n",
       "\n",
       "    .dataframe thead th {\n",
       "        text-align: right;\n",
       "    }\n",
       "</style>\n",
       "<table border=\"1\" class=\"dataframe\">\n",
       "  <thead>\n",
       "    <tr style=\"text-align: right;\">\n",
       "      <th></th>\n",
       "      <th>avg_rating_by_breed</th>\n",
       "    </tr>\n",
       "  </thead>\n",
       "  <tbody>\n",
       "    <tr>\n",
       "      <th>count</th>\n",
       "      <td>110.000000</td>\n",
       "    </tr>\n",
       "    <tr>\n",
       "      <th>mean</th>\n",
       "      <td>10.811917</td>\n",
       "    </tr>\n",
       "    <tr>\n",
       "      <th>std</th>\n",
       "      <td>1.875986</td>\n",
       "    </tr>\n",
       "    <tr>\n",
       "      <th>min</th>\n",
       "      <td>5.000000</td>\n",
       "    </tr>\n",
       "    <tr>\n",
       "      <th>25%</th>\n",
       "      <td>10.250000</td>\n",
       "    </tr>\n",
       "    <tr>\n",
       "      <th>50%</th>\n",
       "      <td>10.816667</td>\n",
       "    </tr>\n",
       "    <tr>\n",
       "      <th>75%</th>\n",
       "      <td>11.312500</td>\n",
       "    </tr>\n",
       "    <tr>\n",
       "      <th>max</th>\n",
       "      <td>27.000000</td>\n",
       "    </tr>\n",
       "  </tbody>\n",
       "</table>\n",
       "</div>"
      ],
      "text/plain": [
       "       avg_rating_by_breed\n",
       "count           110.000000\n",
       "mean             10.811917\n",
       "std               1.875986\n",
       "min               5.000000\n",
       "25%              10.250000\n",
       "50%              10.816667\n",
       "75%              11.312500\n",
       "max              27.000000"
      ]
     },
     "execution_count": 569,
     "metadata": {},
     "output_type": "execute_result"
    }
   ],
   "source": [
    "rating_by_breed.describe()"
   ]
  },
  {
   "cell_type": "markdown",
   "metadata": {},
   "source": [
    "The average rating by breed is close to 11 points, and the 25th percentile is above 10. This points to it being a pretty favorable scale for all dogs."
   ]
  },
  {
   "cell_type": "code",
   "execution_count": 570,
   "metadata": {},
   "outputs": [
    {
     "data": {
      "text/html": [
       "<div>\n",
       "<style scoped>\n",
       "    .dataframe tbody tr th:only-of-type {\n",
       "        vertical-align: middle;\n",
       "    }\n",
       "\n",
       "    .dataframe tbody tr th {\n",
       "        vertical-align: top;\n",
       "    }\n",
       "\n",
       "    .dataframe thead th {\n",
       "        text-align: right;\n",
       "    }\n",
       "</style>\n",
       "<table border=\"1\" class=\"dataframe\">\n",
       "  <thead>\n",
       "    <tr style=\"text-align: right;\">\n",
       "      <th></th>\n",
       "      <th>avg_rating_by_breed</th>\n",
       "    </tr>\n",
       "    <tr>\n",
       "      <th>breed</th>\n",
       "      <th></th>\n",
       "    </tr>\n",
       "  </thead>\n",
       "  <tbody>\n",
       "    <tr>\n",
       "      <th>clumber</th>\n",
       "      <td>27.000000</td>\n",
       "    </tr>\n",
       "    <tr>\n",
       "      <th>Saluki</th>\n",
       "      <td>12.500000</td>\n",
       "    </tr>\n",
       "    <tr>\n",
       "      <th>Irish_setter</th>\n",
       "      <td>12.333333</td>\n",
       "    </tr>\n",
       "    <tr>\n",
       "      <th>briard</th>\n",
       "      <td>12.333333</td>\n",
       "    </tr>\n",
       "    <tr>\n",
       "      <th>Tibetan_mastiff</th>\n",
       "      <td>12.250000</td>\n",
       "    </tr>\n",
       "    <tr>\n",
       "      <th>kuvasz</th>\n",
       "      <td>12.181818</td>\n",
       "    </tr>\n",
       "    <tr>\n",
       "      <th>Border_terrier</th>\n",
       "      <td>12.142857</td>\n",
       "    </tr>\n",
       "    <tr>\n",
       "      <th>Irish_water_spaniel</th>\n",
       "      <td>12.000000</td>\n",
       "    </tr>\n",
       "    <tr>\n",
       "      <th>giant_schnauzer</th>\n",
       "      <td>12.000000</td>\n",
       "    </tr>\n",
       "    <tr>\n",
       "      <th>silky_terrier</th>\n",
       "      <td>12.000000</td>\n",
       "    </tr>\n",
       "  </tbody>\n",
       "</table>\n",
       "</div>"
      ],
      "text/plain": [
       "                     avg_rating_by_breed\n",
       "breed                                   \n",
       "clumber                        27.000000\n",
       "Saluki                         12.500000\n",
       "Irish_setter                   12.333333\n",
       "briard                         12.333333\n",
       "Tibetan_mastiff                12.250000\n",
       "kuvasz                         12.181818\n",
       "Border_terrier                 12.142857\n",
       "Irish_water_spaniel            12.000000\n",
       "giant_schnauzer                12.000000\n",
       "silky_terrier                  12.000000"
      ]
     },
     "execution_count": 570,
     "metadata": {},
     "output_type": "execute_result"
    }
   ],
   "source": [
    "rating_by_breed.avg_rating_by_breed.nlargest(10).to_frame()"
   ]
  },
  {
   "cell_type": "markdown",
   "metadata": {},
   "source": [
    "We see some exotic breeds like the clumber and saluki, but this might have to do with the number of posts per dog (a few posts might have gotten really really good ratings). We will merge this with the previous data frame to have a closer look at this and to create a visual."
   ]
  },
  {
   "cell_type": "code",
   "execution_count": 572,
   "metadata": {},
   "outputs": [],
   "source": [
    "dfv=dfw.merge(rating_by_breed, left_on='breed', right_on='breed', how='inner')"
   ]
  },
  {
   "cell_type": "markdown",
   "metadata": {},
   "source": [
    "*Let's look at the average rating per tweet againg*"
   ]
  },
  {
   "cell_type": "code",
   "execution_count": 575,
   "metadata": {},
   "outputs": [
    {
     "data": {
      "text/html": [
       "<div>\n",
       "<style scoped>\n",
       "    .dataframe tbody tr th:only-of-type {\n",
       "        vertical-align: middle;\n",
       "    }\n",
       "\n",
       "    .dataframe tbody tr th {\n",
       "        vertical-align: top;\n",
       "    }\n",
       "\n",
       "    .dataframe thead th {\n",
       "        text-align: right;\n",
       "    }\n",
       "</style>\n",
       "<table border=\"1\" class=\"dataframe\">\n",
       "  <thead>\n",
       "    <tr style=\"text-align: right;\">\n",
       "      <th></th>\n",
       "      <th>popularity</th>\n",
       "      <th>n_dogs_by_breed</th>\n",
       "      <th>avg_pop_tweet</th>\n",
       "      <th>avg_rating_by_breed</th>\n",
       "    </tr>\n",
       "    <tr>\n",
       "      <th>breed</th>\n",
       "      <th></th>\n",
       "      <th></th>\n",
       "      <th></th>\n",
       "      <th></th>\n",
       "    </tr>\n",
       "  </thead>\n",
       "  <tbody>\n",
       "    <tr>\n",
       "      <th>clumber</th>\n",
       "      <td>7996</td>\n",
       "      <td>1</td>\n",
       "      <td>7996.000000</td>\n",
       "      <td>27.000000</td>\n",
       "    </tr>\n",
       "    <tr>\n",
       "      <th>Saluki</th>\n",
       "      <td>103646</td>\n",
       "      <td>4</td>\n",
       "      <td>25911.500000</td>\n",
       "      <td>12.500000</td>\n",
       "    </tr>\n",
       "    <tr>\n",
       "      <th>briard</th>\n",
       "      <td>32665</td>\n",
       "      <td>3</td>\n",
       "      <td>10888.333333</td>\n",
       "      <td>12.333333</td>\n",
       "    </tr>\n",
       "    <tr>\n",
       "      <th>Irish_setter</th>\n",
       "      <td>26448</td>\n",
       "      <td>3</td>\n",
       "      <td>8816.000000</td>\n",
       "      <td>12.333333</td>\n",
       "    </tr>\n",
       "    <tr>\n",
       "      <th>Tibetan_mastiff</th>\n",
       "      <td>56890</td>\n",
       "      <td>4</td>\n",
       "      <td>14222.500000</td>\n",
       "      <td>12.250000</td>\n",
       "    </tr>\n",
       "    <tr>\n",
       "      <th>kuvasz</th>\n",
       "      <td>65261</td>\n",
       "      <td>11</td>\n",
       "      <td>5932.818182</td>\n",
       "      <td>12.181818</td>\n",
       "    </tr>\n",
       "    <tr>\n",
       "      <th>Border_terrier</th>\n",
       "      <td>104806</td>\n",
       "      <td>7</td>\n",
       "      <td>14972.285714</td>\n",
       "      <td>12.142857</td>\n",
       "    </tr>\n",
       "    <tr>\n",
       "      <th>giant_schnauzer</th>\n",
       "      <td>42537</td>\n",
       "      <td>3</td>\n",
       "      <td>14179.000000</td>\n",
       "      <td>12.000000</td>\n",
       "    </tr>\n",
       "    <tr>\n",
       "      <th>standard_schnauzer</th>\n",
       "      <td>2535</td>\n",
       "      <td>1</td>\n",
       "      <td>2535.000000</td>\n",
       "      <td>12.000000</td>\n",
       "    </tr>\n",
       "    <tr>\n",
       "      <th>Irish_water_spaniel</th>\n",
       "      <td>27571</td>\n",
       "      <td>1</td>\n",
       "      <td>27571.000000</td>\n",
       "      <td>12.000000</td>\n",
       "    </tr>\n",
       "  </tbody>\n",
       "</table>\n",
       "</div>"
      ],
      "text/plain": [
       "                     popularity  n_dogs_by_breed  avg_pop_tweet  \\\n",
       "breed                                                             \n",
       "clumber                    7996                1    7996.000000   \n",
       "Saluki                   103646                4   25911.500000   \n",
       "briard                    32665                3   10888.333333   \n",
       "Irish_setter              26448                3    8816.000000   \n",
       "Tibetan_mastiff           56890                4   14222.500000   \n",
       "kuvasz                    65261               11    5932.818182   \n",
       "Border_terrier           104806                7   14972.285714   \n",
       "giant_schnauzer           42537                3   14179.000000   \n",
       "standard_schnauzer         2535                1    2535.000000   \n",
       "Irish_water_spaniel       27571                1   27571.000000   \n",
       "\n",
       "                     avg_rating_by_breed  \n",
       "breed                                     \n",
       "clumber                        27.000000  \n",
       "Saluki                         12.500000  \n",
       "briard                         12.333333  \n",
       "Irish_setter                   12.333333  \n",
       "Tibetan_mastiff                12.250000  \n",
       "kuvasz                         12.181818  \n",
       "Border_terrier                 12.142857  \n",
       "giant_schnauzer                12.000000  \n",
       "standard_schnauzer             12.000000  \n",
       "Irish_water_spaniel            12.000000  "
      ]
     },
     "execution_count": 575,
     "metadata": {},
     "output_type": "execute_result"
    }
   ],
   "source": [
    "dfv.sort_values(by='avg_rating_by_breed', ascending=False).head(10)"
   ]
  },
  {
   "cell_type": "markdown",
   "metadata": {},
   "source": [
    "Indeed some of the hightest average ratings have very few tweets."
   ]
  },
  {
   "cell_type": "code",
   "execution_count": 576,
   "metadata": {},
   "outputs": [],
   "source": [
    "dfv= dfv.reset_index()"
   ]
  },
  {
   "cell_type": "code",
   "execution_count": 577,
   "metadata": {},
   "outputs": [
    {
     "data": {
      "text/html": [
       "<div>\n",
       "<style scoped>\n",
       "    .dataframe tbody tr th:only-of-type {\n",
       "        vertical-align: middle;\n",
       "    }\n",
       "\n",
       "    .dataframe tbody tr th {\n",
       "        vertical-align: top;\n",
       "    }\n",
       "\n",
       "    .dataframe thead th {\n",
       "        text-align: right;\n",
       "    }\n",
       "</style>\n",
       "<table border=\"1\" class=\"dataframe\">\n",
       "  <thead>\n",
       "    <tr style=\"text-align: right;\">\n",
       "      <th></th>\n",
       "      <th>breed</th>\n",
       "      <th>popularity</th>\n",
       "      <th>n_dogs_by_breed</th>\n",
       "      <th>avg_pop_tweet</th>\n",
       "      <th>avg_rating_by_breed</th>\n",
       "    </tr>\n",
       "  </thead>\n",
       "  <tbody>\n",
       "    <tr>\n",
       "      <th>0</th>\n",
       "      <td>Afghan_hound</td>\n",
       "      <td>27560</td>\n",
       "      <td>2</td>\n",
       "      <td>13780.0</td>\n",
       "      <td>8.000000</td>\n",
       "    </tr>\n",
       "    <tr>\n",
       "      <th>1</th>\n",
       "      <td>Airedale</td>\n",
       "      <td>67896</td>\n",
       "      <td>10</td>\n",
       "      <td>6789.6</td>\n",
       "      <td>10.200000</td>\n",
       "    </tr>\n",
       "    <tr>\n",
       "      <th>2</th>\n",
       "      <td>American_Staffordshire_terrier</td>\n",
       "      <td>85140</td>\n",
       "      <td>12</td>\n",
       "      <td>7095.0</td>\n",
       "      <td>10.833333</td>\n",
       "    </tr>\n",
       "  </tbody>\n",
       "</table>\n",
       "</div>"
      ],
      "text/plain": [
       "                            breed  popularity  n_dogs_by_breed  avg_pop_tweet  \\\n",
       "0                    Afghan_hound       27560                2        13780.0   \n",
       "1                        Airedale       67896               10         6789.6   \n",
       "2  American_Staffordshire_terrier       85140               12         7095.0   \n",
       "\n",
       "   avg_rating_by_breed  \n",
       "0             8.000000  \n",
       "1            10.200000  \n",
       "2            10.833333  "
      ]
     },
     "execution_count": 577,
     "metadata": {},
     "output_type": "execute_result"
    }
   ],
   "source": [
    "dfv.head(3)"
   ]
  },
  {
   "cell_type": "markdown",
   "metadata": {},
   "source": [
    "Now, a scatterplot of ave_rating_by_breed against avg_pop_by_tweet"
   ]
  },
  {
   "cell_type": "code",
   "execution_count": 578,
   "metadata": {},
   "outputs": [],
   "source": [
    "import matplotlib.pyplot as plt \n",
    "import numpy as np\n",
    "%matplotlib inline "
   ]
  },
  {
   "cell_type": "code",
   "execution_count": 584,
   "metadata": {},
   "outputs": [
    {
     "data": {
      "image/png": "[encoded data removed]",
      "text/plain": [
       "<matplotlib.figure.Figure at 0x7fbc98545278>"
      ]
     },
     "metadata": {
      "needs_background": "light"
     },
     "output_type": "display_data"
    }
   ],
   "source": [
    "from sklearn.metrics import r2_score\n",
    "\n",
    "x = dfv['avg_rating_by_breed']\n",
    "y = dfv['avg_pop_tweet']\n",
    "annotations=dfv['breed']\n",
    "plt.figure(figsize=(12,12))\n",
    "\n",
    "plt.plot(x,y,\".\", ms=2, mec=\"b\")\n",
    "z = np.polyfit(x, y, 1)\n",
    "y_hat = np.poly1d(z)(x)\n",
    "\n",
    "plt.plot(x, y_hat, \"r--\", lw=1)\n",
    "\n",
    "plt.title(\"Ratings vs Tweet Popularity by Breed\")\n",
    "plt.xlabel(\"Average Rating by @dog_rate\")\n",
    "plt.ylabel(\"Average Retweets + Likes per Post\")\n",
    "for i, label in enumerate(annotations):\n",
    "    plt.annotate(label, (x[i], y[i]))\n",
    "\n",
    "text = f\"$y={z[0]:0.3f}\\;x{z[1]:+0.3f}$\\n$R^2 = {r2_score(y,y_hat):0.3f}$\"\n",
    "plt.gca().text(0.05, 0.95, text,transform=plt.gca().transAxes,\n",
    "     fontsize=14, verticalalignment='top');"
   ]
  },
  {
   "cell_type": "markdown",
   "metadata": {},
   "source": [
    "The R2 is low, at 0.068. Hence, the relationship between what the account owner assigns as a rating and what the followers rate with their likes and retweets is, almost non existent. We see that most breeds are clustered between 10 and 12."
   ]
  },
  {
   "cell_type": "markdown",
   "metadata": {},
   "source": [
    "However, there are a few favored breeds by both @dog_rates and follower, that can be easily distinguished from the plot: standard poodle,irish water spaniel, saluki, french bulldog and the eskimo dog. Also, @dog_rates is much more fond of the clumber than their followers.    "
   ]
  },
  {
   "cell_type": "markdown",
   "metadata": {},
   "source": [
    "Another way of approximating these \"favorite breeds\" is to assign a ranking for both variables, add the rankings and pick the lowest 10 of the sum."
   ]
  },
  {
   "cell_type": "code",
   "execution_count": 585,
   "metadata": {},
   "outputs": [],
   "source": [
    "dfv['rank_avg_pop_tweet'] = dfv['avg_pop_tweet'].rank(ascending = False) "
   ]
  },
  {
   "cell_type": "code",
   "execution_count": 586,
   "metadata": {},
   "outputs": [
    {
     "data": {
      "text/html": [
       "<div>\n",
       "<style scoped>\n",
       "    .dataframe tbody tr th:only-of-type {\n",
       "        vertical-align: middle;\n",
       "    }\n",
       "\n",
       "    .dataframe tbody tr th {\n",
       "        vertical-align: top;\n",
       "    }\n",
       "\n",
       "    .dataframe thead th {\n",
       "        text-align: right;\n",
       "    }\n",
       "</style>\n",
       "<table border=\"1\" class=\"dataframe\">\n",
       "  <thead>\n",
       "    <tr style=\"text-align: right;\">\n",
       "      <th></th>\n",
       "      <th>breed</th>\n",
       "      <th>popularity</th>\n",
       "      <th>n_dogs_by_breed</th>\n",
       "      <th>avg_pop_tweet</th>\n",
       "      <th>avg_rating_by_breed</th>\n",
       "      <th>rank_avg_pop_tweet</th>\n",
       "    </tr>\n",
       "  </thead>\n",
       "  <tbody>\n",
       "    <tr>\n",
       "      <th>0</th>\n",
       "      <td>Afghan_hound</td>\n",
       "      <td>27560</td>\n",
       "      <td>2</td>\n",
       "      <td>13780.0</td>\n",
       "      <td>8.000000</td>\n",
       "      <td>21.0</td>\n",
       "    </tr>\n",
       "    <tr>\n",
       "      <th>1</th>\n",
       "      <td>Airedale</td>\n",
       "      <td>67896</td>\n",
       "      <td>10</td>\n",
       "      <td>6789.6</td>\n",
       "      <td>10.200000</td>\n",
       "      <td>68.0</td>\n",
       "    </tr>\n",
       "    <tr>\n",
       "      <th>2</th>\n",
       "      <td>American_Staffordshire_terrier</td>\n",
       "      <td>85140</td>\n",
       "      <td>12</td>\n",
       "      <td>7095.0</td>\n",
       "      <td>10.833333</td>\n",
       "      <td>63.0</td>\n",
       "    </tr>\n",
       "    <tr>\n",
       "      <th>3</th>\n",
       "      <td>Appenzeller</td>\n",
       "      <td>2910</td>\n",
       "      <td>1</td>\n",
       "      <td>2910.0</td>\n",
       "      <td>9.000000</td>\n",
       "      <td>100.0</td>\n",
       "    </tr>\n",
       "    <tr>\n",
       "      <th>4</th>\n",
       "      <td>Australian_terrier</td>\n",
       "      <td>25027</td>\n",
       "      <td>2</td>\n",
       "      <td>12513.5</td>\n",
       "      <td>11.500000</td>\n",
       "      <td>27.0</td>\n",
       "    </tr>\n",
       "  </tbody>\n",
       "</table>\n",
       "</div>"
      ],
      "text/plain": [
       "                            breed  popularity  n_dogs_by_breed  avg_pop_tweet  \\\n",
       "0                    Afghan_hound       27560                2        13780.0   \n",
       "1                        Airedale       67896               10         6789.6   \n",
       "2  American_Staffordshire_terrier       85140               12         7095.0   \n",
       "3                     Appenzeller        2910                1         2910.0   \n",
       "4              Australian_terrier       25027                2        12513.5   \n",
       "\n",
       "   avg_rating_by_breed  rank_avg_pop_tweet  \n",
       "0             8.000000                21.0  \n",
       "1            10.200000                68.0  \n",
       "2            10.833333                63.0  \n",
       "3             9.000000               100.0  \n",
       "4            11.500000                27.0  "
      ]
     },
     "execution_count": 586,
     "metadata": {},
     "output_type": "execute_result"
    }
   ],
   "source": [
    "dfv.head()"
   ]
  },
  {
   "cell_type": "code",
   "execution_count": 587,
   "metadata": {},
   "outputs": [],
   "source": [
    "dfv['rank_avg_rating_by_breed'] = dfv['avg_rating_by_breed'].rank(ascending = False) "
   ]
  },
  {
   "cell_type": "code",
   "execution_count": 588,
   "metadata": {},
   "outputs": [
    {
     "data": {
      "text/html": [
       "<div>\n",
       "<style scoped>\n",
       "    .dataframe tbody tr th:only-of-type {\n",
       "        vertical-align: middle;\n",
       "    }\n",
       "\n",
       "    .dataframe tbody tr th {\n",
       "        vertical-align: top;\n",
       "    }\n",
       "\n",
       "    .dataframe thead th {\n",
       "        text-align: right;\n",
       "    }\n",
       "</style>\n",
       "<table border=\"1\" class=\"dataframe\">\n",
       "  <thead>\n",
       "    <tr style=\"text-align: right;\">\n",
       "      <th></th>\n",
       "      <th>breed</th>\n",
       "      <th>popularity</th>\n",
       "      <th>n_dogs_by_breed</th>\n",
       "      <th>avg_pop_tweet</th>\n",
       "      <th>avg_rating_by_breed</th>\n",
       "      <th>rank_avg_pop_tweet</th>\n",
       "      <th>rank_avg_rating_by_breed</th>\n",
       "    </tr>\n",
       "  </thead>\n",
       "  <tbody>\n",
       "    <tr>\n",
       "      <th>0</th>\n",
       "      <td>Afghan_hound</td>\n",
       "      <td>27560</td>\n",
       "      <td>2</td>\n",
       "      <td>13780.0</td>\n",
       "      <td>8.000000</td>\n",
       "      <td>21.0</td>\n",
       "      <td>109.0</td>\n",
       "    </tr>\n",
       "    <tr>\n",
       "      <th>1</th>\n",
       "      <td>Airedale</td>\n",
       "      <td>67896</td>\n",
       "      <td>10</td>\n",
       "      <td>6789.6</td>\n",
       "      <td>10.200000</td>\n",
       "      <td>68.0</td>\n",
       "      <td>84.0</td>\n",
       "    </tr>\n",
       "    <tr>\n",
       "      <th>2</th>\n",
       "      <td>American_Staffordshire_terrier</td>\n",
       "      <td>85140</td>\n",
       "      <td>12</td>\n",
       "      <td>7095.0</td>\n",
       "      <td>10.833333</td>\n",
       "      <td>63.0</td>\n",
       "      <td>55.0</td>\n",
       "    </tr>\n",
       "    <tr>\n",
       "      <th>3</th>\n",
       "      <td>Appenzeller</td>\n",
       "      <td>2910</td>\n",
       "      <td>1</td>\n",
       "      <td>2910.0</td>\n",
       "      <td>9.000000</td>\n",
       "      <td>100.0</td>\n",
       "      <td>103.5</td>\n",
       "    </tr>\n",
       "    <tr>\n",
       "      <th>4</th>\n",
       "      <td>Australian_terrier</td>\n",
       "      <td>25027</td>\n",
       "      <td>2</td>\n",
       "      <td>12513.5</td>\n",
       "      <td>11.500000</td>\n",
       "      <td>27.0</td>\n",
       "      <td>20.0</td>\n",
       "    </tr>\n",
       "  </tbody>\n",
       "</table>\n",
       "</div>"
      ],
      "text/plain": [
       "                            breed  popularity  n_dogs_by_breed  avg_pop_tweet  \\\n",
       "0                    Afghan_hound       27560                2        13780.0   \n",
       "1                        Airedale       67896               10         6789.6   \n",
       "2  American_Staffordshire_terrier       85140               12         7095.0   \n",
       "3                     Appenzeller        2910                1         2910.0   \n",
       "4              Australian_terrier       25027                2        12513.5   \n",
       "\n",
       "   avg_rating_by_breed  rank_avg_pop_tweet  rank_avg_rating_by_breed  \n",
       "0             8.000000                21.0                     109.0  \n",
       "1            10.200000                68.0                      84.0  \n",
       "2            10.833333                63.0                      55.0  \n",
       "3             9.000000               100.0                     103.5  \n",
       "4            11.500000                27.0                      20.0  "
      ]
     },
     "execution_count": 588,
     "metadata": {},
     "output_type": "execute_result"
    }
   ],
   "source": [
    "dfv.head()"
   ]
  },
  {
   "cell_type": "code",
   "execution_count": 589,
   "metadata": {},
   "outputs": [],
   "source": [
    "total_rank=dfv.rank_avg_rating_by_breed+dfv.rank_avg_pop_tweet"
   ]
  },
  {
   "cell_type": "code",
   "execution_count": 590,
   "metadata": {},
   "outputs": [],
   "source": [
    "dfv['total_rank']=total_rank"
   ]
  },
  {
   "cell_type": "code",
   "execution_count": 591,
   "metadata": {},
   "outputs": [],
   "source": [
    "dfv.sort_values(\"total_rank\", inplace = True)"
   ]
  },
  {
   "cell_type": "code",
   "execution_count": 592,
   "metadata": {},
   "outputs": [],
   "source": [
    "favorites=dfv[['breed','total_rank']]"
   ]
  },
  {
   "cell_type": "code",
   "execution_count": 593,
   "metadata": {},
   "outputs": [
    {
     "data": {
      "text/html": [
       "<div>\n",
       "<style scoped>\n",
       "    .dataframe tbody tr th:only-of-type {\n",
       "        vertical-align: middle;\n",
       "    }\n",
       "\n",
       "    .dataframe tbody tr th {\n",
       "        vertical-align: top;\n",
       "    }\n",
       "\n",
       "    .dataframe thead th {\n",
       "        text-align: right;\n",
       "    }\n",
       "</style>\n",
       "<table border=\"1\" class=\"dataframe\">\n",
       "  <thead>\n",
       "    <tr style=\"text-align: right;\">\n",
       "      <th></th>\n",
       "      <th>breed</th>\n",
       "      <th>total_rank</th>\n",
       "    </tr>\n",
       "  </thead>\n",
       "  <tbody>\n",
       "    <tr>\n",
       "      <th>52</th>\n",
       "      <td>Saluki</td>\n",
       "      <td>5.0</td>\n",
       "    </tr>\n",
       "    <tr>\n",
       "      <th>32</th>\n",
       "      <td>Irish_water_spaniel</td>\n",
       "      <td>10.5</td>\n",
       "    </tr>\n",
       "    <tr>\n",
       "      <th>21</th>\n",
       "      <td>Eskimo_dog</td>\n",
       "      <td>17.0</td>\n",
       "    </tr>\n",
       "    <tr>\n",
       "      <th>61</th>\n",
       "      <td>Tibetan_mastiff</td>\n",
       "      <td>22.0</td>\n",
       "    </tr>\n",
       "    <tr>\n",
       "      <th>9</th>\n",
       "      <td>Border_terrier</td>\n",
       "      <td>22.0</td>\n",
       "    </tr>\n",
       "    <tr>\n",
       "      <th>53</th>\n",
       "      <td>Samoyed</td>\n",
       "      <td>24.5</td>\n",
       "    </tr>\n",
       "    <tr>\n",
       "      <th>13</th>\n",
       "      <td>Cardigan</td>\n",
       "      <td>26.0</td>\n",
       "    </tr>\n",
       "    <tr>\n",
       "      <th>86</th>\n",
       "      <td>giant_schnauzer</td>\n",
       "      <td>27.5</td>\n",
       "    </tr>\n",
       "    <tr>\n",
       "      <th>69</th>\n",
       "      <td>basset</td>\n",
       "      <td>33.0</td>\n",
       "    </tr>\n",
       "    <tr>\n",
       "      <th>27</th>\n",
       "      <td>Great_Pyrenees</td>\n",
       "      <td>36.0</td>\n",
       "    </tr>\n",
       "    <tr>\n",
       "      <th>87</th>\n",
       "      <td>golden_retriever</td>\n",
       "      <td>38.0</td>\n",
       "    </tr>\n",
       "    <tr>\n",
       "      <th>37</th>\n",
       "      <td>Leonberg</td>\n",
       "      <td>38.5</td>\n",
       "    </tr>\n",
       "    <tr>\n",
       "      <th>76</th>\n",
       "      <td>briard</td>\n",
       "      <td>38.5</td>\n",
       "    </tr>\n",
       "    <tr>\n",
       "      <th>47</th>\n",
       "      <td>Pembroke</td>\n",
       "      <td>40.0</td>\n",
       "    </tr>\n",
       "    <tr>\n",
       "      <th>79</th>\n",
       "      <td>chow</td>\n",
       "      <td>40.0</td>\n",
       "    </tr>\n",
       "    <tr>\n",
       "      <th>19</th>\n",
       "      <td>English_springer</td>\n",
       "      <td>44.5</td>\n",
       "    </tr>\n",
       "    <tr>\n",
       "      <th>22</th>\n",
       "      <td>French_bulldog</td>\n",
       "      <td>46.0</td>\n",
       "    </tr>\n",
       "    <tr>\n",
       "      <th>4</th>\n",
       "      <td>Australian_terrier</td>\n",
       "      <td>47.0</td>\n",
       "    </tr>\n",
       "    <tr>\n",
       "      <th>30</th>\n",
       "      <td>Irish_setter</td>\n",
       "      <td>49.5</td>\n",
       "    </tr>\n",
       "    <tr>\n",
       "      <th>81</th>\n",
       "      <td>cocker_spaniel</td>\n",
       "      <td>57.0</td>\n",
       "    </tr>\n",
       "  </tbody>\n",
       "</table>\n",
       "</div>"
      ],
      "text/plain": [
       "                  breed  total_rank\n",
       "52               Saluki         5.0\n",
       "32  Irish_water_spaniel        10.5\n",
       "21           Eskimo_dog        17.0\n",
       "61      Tibetan_mastiff        22.0\n",
       "9        Border_terrier        22.0\n",
       "53              Samoyed        24.5\n",
       "13             Cardigan        26.0\n",
       "86      giant_schnauzer        27.5\n",
       "69               basset        33.0\n",
       "27       Great_Pyrenees        36.0\n",
       "87     golden_retriever        38.0\n",
       "37             Leonberg        38.5\n",
       "76               briard        38.5\n",
       "47             Pembroke        40.0\n",
       "79                 chow        40.0\n",
       "19     English_springer        44.5\n",
       "22       French_bulldog        46.0\n",
       "4    Australian_terrier        47.0\n",
       "30         Irish_setter        49.5\n",
       "81       cocker_spaniel        57.0"
      ]
     },
     "execution_count": 593,
     "metadata": {},
     "output_type": "execute_result"
    }
   ],
   "source": [
    "favorites.head(20)"
   ]
  },
  {
   "cell_type": "markdown",
   "metadata": {},
   "source": [
    "The saluki, the irish_water_spaniel and the eskimo dog are the favorite breeds, when considering both @dog rates and follower preferences."
   ]
  },
  {
   "cell_type": "markdown",
   "metadata": {},
   "source": [
    "### Question 5: Is there are relationship between length of tweet and rating, as a proxy for enthusiam?"
   ]
  },
  {
   "cell_type": "code",
   "execution_count": 595,
   "metadata": {},
   "outputs": [],
   "source": [
    "tweetmean=dfdog.groupby('breed').tweetlength.mean()"
   ]
  },
  {
   "cell_type": "code",
   "execution_count": 596,
   "metadata": {},
   "outputs": [
    {
     "data": {
      "text/html": [
       "<div>\n",
       "<style scoped>\n",
       "    .dataframe tbody tr th:only-of-type {\n",
       "        vertical-align: middle;\n",
       "    }\n",
       "\n",
       "    .dataframe tbody tr th {\n",
       "        vertical-align: top;\n",
       "    }\n",
       "\n",
       "    .dataframe thead th {\n",
       "        text-align: right;\n",
       "    }\n",
       "</style>\n",
       "<table border=\"1\" class=\"dataframe\">\n",
       "  <thead>\n",
       "    <tr style=\"text-align: right;\">\n",
       "      <th></th>\n",
       "      <th>tweetlength</th>\n",
       "    </tr>\n",
       "    <tr>\n",
       "      <th>breed</th>\n",
       "      <th></th>\n",
       "    </tr>\n",
       "  </thead>\n",
       "  <tbody>\n",
       "    <tr>\n",
       "      <th>black-and-tan_coonhound</th>\n",
       "      <td>139.000000</td>\n",
       "    </tr>\n",
       "    <tr>\n",
       "      <th>groenendael</th>\n",
       "      <td>139.000000</td>\n",
       "    </tr>\n",
       "    <tr>\n",
       "      <th>Rhodesian_ridgeback</th>\n",
       "      <td>137.333333</td>\n",
       "    </tr>\n",
       "    <tr>\n",
       "      <th>clumber</th>\n",
       "      <td>137.000000</td>\n",
       "    </tr>\n",
       "    <tr>\n",
       "      <th>Scotch_terrier</th>\n",
       "      <td>136.000000</td>\n",
       "    </tr>\n",
       "    <tr>\n",
       "      <th>Dandie_Dinmont</th>\n",
       "      <td>134.600000</td>\n",
       "    </tr>\n",
       "    <tr>\n",
       "      <th>Australian_terrier</th>\n",
       "      <td>134.000000</td>\n",
       "    </tr>\n",
       "    <tr>\n",
       "      <th>Gordon_setter</th>\n",
       "      <td>133.250000</td>\n",
       "    </tr>\n",
       "    <tr>\n",
       "      <th>curly-coated_retriever</th>\n",
       "      <td>133.000000</td>\n",
       "    </tr>\n",
       "    <tr>\n",
       "      <th>Brabancon_griffon</th>\n",
       "      <td>131.333333</td>\n",
       "    </tr>\n",
       "    <tr>\n",
       "      <th>standard_schnauzer</th>\n",
       "      <td>131.000000</td>\n",
       "    </tr>\n",
       "    <tr>\n",
       "      <th>Appenzeller</th>\n",
       "      <td>129.000000</td>\n",
       "    </tr>\n",
       "    <tr>\n",
       "      <th>Welsh_springer_spaniel</th>\n",
       "      <td>128.000000</td>\n",
       "    </tr>\n",
       "    <tr>\n",
       "      <th>Ibizan_hound</th>\n",
       "      <td>127.666667</td>\n",
       "    </tr>\n",
       "    <tr>\n",
       "      <th>French_bulldog</th>\n",
       "      <td>127.473684</td>\n",
       "    </tr>\n",
       "    <tr>\n",
       "      <th>bloodhound</th>\n",
       "      <td>127.000000</td>\n",
       "    </tr>\n",
       "    <tr>\n",
       "      <th>miniature_schnauzer</th>\n",
       "      <td>126.750000</td>\n",
       "    </tr>\n",
       "    <tr>\n",
       "      <th>Doberman</th>\n",
       "      <td>126.500000</td>\n",
       "    </tr>\n",
       "    <tr>\n",
       "      <th>toy_terrier</th>\n",
       "      <td>126.500000</td>\n",
       "    </tr>\n",
       "    <tr>\n",
       "      <th>whippet</th>\n",
       "      <td>126.222222</td>\n",
       "    </tr>\n",
       "  </tbody>\n",
       "</table>\n",
       "</div>"
      ],
      "text/plain": [
       "                         tweetlength\n",
       "breed                               \n",
       "black-and-tan_coonhound   139.000000\n",
       "groenendael               139.000000\n",
       "Rhodesian_ridgeback       137.333333\n",
       "clumber                   137.000000\n",
       "Scotch_terrier            136.000000\n",
       "Dandie_Dinmont            134.600000\n",
       "Australian_terrier        134.000000\n",
       "Gordon_setter             133.250000\n",
       "curly-coated_retriever    133.000000\n",
       "Brabancon_griffon         131.333333\n",
       "standard_schnauzer        131.000000\n",
       "Appenzeller               129.000000\n",
       "Welsh_springer_spaniel    128.000000\n",
       "Ibizan_hound              127.666667\n",
       "French_bulldog            127.473684\n",
       "bloodhound                127.000000\n",
       "miniature_schnauzer       126.750000\n",
       "Doberman                  126.500000\n",
       "toy_terrier               126.500000\n",
       "whippet                   126.222222"
      ]
     },
     "execution_count": 596,
     "metadata": {},
     "output_type": "execute_result"
    }
   ],
   "source": [
    "tweetmean.nlargest(20).to_frame()"
   ]
  },
  {
   "cell_type": "markdown",
   "metadata": {},
   "source": [
    "After visual inspection, only one the top 20 breeds favorite breeds is also in the top 20 in tweet lenght, the french_bulldog. There doesn't seem to be much of a relationship between popularity and tweet length."
   ]
  },
  {
   "cell_type": "markdown",
   "metadata": {},
   "source": [
    "### Question 6: Do other variables give us any more insight?"
   ]
  },
  {
   "cell_type": "markdown",
   "metadata": {},
   "source": [
    "#### Does most popular name matter? "
   ]
  },
  {
   "cell_type": "code",
   "execution_count": 597,
   "metadata": {},
   "outputs": [
    {
     "data": {
      "text/plain": [
       "None       643\n",
       "Oliver      10\n",
       "Cooper      10\n",
       "Charlie     10\n",
       "Lucy         9\n",
       "Tucker       9\n",
       "Penny        9\n",
       "Winston      8\n",
       "Sadie        8\n",
       "Daisy        7\n",
       "Name: name, dtype: int64"
      ]
     },
     "execution_count": 597,
     "metadata": {},
     "output_type": "execute_result"
    }
   ],
   "source": [
    "df.name.value_counts().nlargest(10)"
   ]
  },
  {
   "cell_type": "markdown",
   "metadata": {},
   "source": [
    "Anecdotally, Oliver and Cooper are the most popular name. Yet there aren't enough observations to do any type of serious cross sectional analysis with breeds, ratings or popularity. There are 643 missing observations."
   ]
  },
  {
   "cell_type": "markdown",
   "metadata": {},
   "source": [
    "#### Do the categories like \"pupper\" or \"floofer\" provide additional information?"
   ]
  },
  {
   "cell_type": "code",
   "execution_count": 598,
   "metadata": {
    "scrolled": true
   },
   "outputs": [
    {
     "data": {
      "text/plain": [
       "breed\n",
       "golden_retriever      20\n",
       "Pembroke              10\n",
       "Labrador_retriever     9\n",
       "pug                    8\n",
       "Chihuahua              6\n",
       "Pomeranian             6\n",
       "Lakeland_terrier       5\n",
       "toy_poodle             5\n",
       "Samoyed                4\n",
       "porcupine              4\n",
       "Name: pupper, dtype: int64"
      ]
     },
     "execution_count": 598,
     "metadata": {},
     "output_type": "execute_result"
    }
   ],
   "source": [
    "df.groupby('breed').pupper.sum().nlargest(10)"
   ]
  },
  {
   "cell_type": "code",
   "execution_count": 599,
   "metadata": {
    "scrolled": true
   },
   "outputs": [
    {
     "data": {
      "text/plain": [
       "breed\n",
       "golden_retriever      13\n",
       "Labrador_retriever     6\n",
       "German_shepherd        3\n",
       "Bedlington_terrier     2\n",
       "Great_Pyrenees         2\n",
       "Pembroke               2\n",
       "Pomeranian             2\n",
       "cocker_spaniel         2\n",
       "dalmatian              2\n",
       "Blenheim_spaniel       1\n",
       "Name: doggo, dtype: int64"
      ]
     },
     "execution_count": 599,
     "metadata": {},
     "output_type": "execute_result"
    }
   ],
   "source": [
    "df.groupby('breed').doggo.sum().nlargest(10)"
   ]
  },
  {
   "cell_type": "markdown",
   "metadata": {},
   "source": [
    "Pupper is the category with most observations among the four. The top three breeds for this category also reflect the top 3 breeds in the dataset. So it's just really giving us the same \"volume\" message as question 1. A similar conclusion applies for doggo."
   ]
  },
  {
   "cell_type": "code",
   "execution_count": 600,
   "metadata": {},
   "outputs": [
    {
     "data": {
      "text/plain": [
       "breed\n",
       "Samoyed                    2\n",
       "English_springer           1\n",
       "Lhasa                      1\n",
       "Pomeranian                 1\n",
       "chow                       1\n",
       "golden_retriever           1\n",
       "wire-haired_fox_terrier    1\n",
       "Afghan_hound               0\n",
       "African_crocodile          0\n",
       "African_grey               0\n",
       "Name: floofer, dtype: int64"
      ]
     },
     "execution_count": 600,
     "metadata": {},
     "output_type": "execute_result"
    }
   ],
   "source": [
    "df.groupby('breed').floofer.sum().nlargest(10)"
   ]
  },
  {
   "cell_type": "code",
   "execution_count": 601,
   "metadata": {},
   "outputs": [
    {
     "data": {
      "text/plain": [
       "breed\n",
       "Eskimo_dog                        3\n",
       "Labrador_retriever                2\n",
       "golden_retriever                  2\n",
       "Airedale                          1\n",
       "American_Staffordshire_terrier    1\n",
       "Cardigan                          1\n",
       "German_shepherd                   1\n",
       "Italian_greyhound                 1\n",
       "Lakeland_terrier                  1\n",
       "Old_English_sheepdog              1\n",
       "Name: puppo, dtype: int64"
      ]
     },
     "execution_count": 601,
     "metadata": {},
     "output_type": "execute_result"
    }
   ],
   "source": [
    "df.groupby('breed').puppo.sum().nlargest(10)"
   ]
  },
  {
   "cell_type": "markdown",
   "metadata": {},
   "source": [
    "Categories puppo and floofer don't have enough data to contribute to the analysis."
   ]
  },
  {
   "cell_type": "markdown",
   "metadata": {},
   "source": [
    "### Conclusion"
   ]
  },
  {
   "cell_type": "markdown",
   "metadata": {},
   "source": [
    "Ratings seem for the most part random and fun. Most ratings are in the 10 to 15 range, which automatically signals that it's not a traditional scale. There is some evidence that the saluki, the irish_water_spaniel and the eskimo dog are the favorite breeds, when considering both @dog rates and follower preferences."
   ]
  },
  {
   "cell_type": "code",
   "execution_count": null,
   "metadata": {},
   "outputs": [],
   "source": []
  }
 ],
 "metadata": {
  "kernelspec": {
   "display_name": "Python 3",
   "language": "python",
   "name": "python3"
  },
  "language_info": {
   "codemirror_mode": {
    "name": "ipython",
    "version": 3
   },
   "file_extension": ".py",
   "mimetype": "text/x-python",
   "name": "python",
   "nbconvert_exporter": "python",
   "pygments_lexer": "ipython3",
   "version": "3.8.8"
  },
  "toc": {
   "base_numbering": 1,
   "nav_menu": {},
   "number_sections": true,
   "sideBar": true,
   "skip_h1_title": true,
   "title_cell": "Table of Contents",
   "title_sidebar": "Contents",
   "toc_cell": false,
   "toc_position": {
    "height": "calc(100% - 180px)",
    "left": "10px",
    "top": "150px",
    "width": "341.333px"
   },
   "toc_section_display": true,
   "toc_window_display": true
  },
  "varInspector": {
   "cols": {
    "lenName": 16,
    "lenType": 16,
    "lenVar": 40
   },
   "kernels_config": {
    "python": {
     "delete_cmd_postfix": "",
     "delete_cmd_prefix": "del ",
     "library": "var_list.py",
     "varRefreshCmd": "print(var_dic_list())"
    },
    "r": {
     "delete_cmd_postfix": ") ",
     "delete_cmd_prefix": "rm(",
     "library": "var_list.r",
     "varRefreshCmd": "cat(var_dic_list()) "
    }
   },
   "types_to_exclude": [
    "module",
    "function",
    "builtin_function_or_method",
    "instance",
    "_Feature"
   ],
   "window_display": false
  }
 },
 "nbformat": 4,
 "nbformat_minor": 2
}
